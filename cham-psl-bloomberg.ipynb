{
 "cells": [
  {
   "cell_type": "code",
   "execution_count": 1,
   "id": "4c97459a",
   "metadata": {
    "_cell_guid": "b1076dfc-b9ad-4769-8c92-a6c4dae69d19",
    "_uuid": "8f2839f25d086af736a60e9eeb907d3b93b6e0e5",
    "execution": {
     "iopub.execute_input": "2023-12-01T01:49:36.683342Z",
     "iopub.status.busy": "2023-12-01T01:49:36.682142Z",
     "iopub.status.idle": "2023-12-01T01:49:48.181669Z",
     "shell.execute_reply": "2023-12-01T01:49:48.180112Z"
    },
    "papermill": {
     "duration": 11.510851,
     "end_time": "2023-12-01T01:49:48.183546",
     "exception": false,
     "start_time": "2023-12-01T01:49:36.672695",
     "status": "completed"
    },
    "tags": []
   },
   "outputs": [
    {
     "name": "stdout",
     "output_type": "stream",
     "text": [
      "/kaggle/input/2023-psl-week-using-bloomberg-news/train.csv\n",
      "/kaggle/input/2023-psl-week-using-bloomberg-news/test.csv\n"
     ]
    }
   ],
   "source": [
    "# This Python 3 environment comes with many helpful analytics libraries installed\n",
    "# It is defined by the kaggle/python Docker image: https://github.com/kaggle/docker-python\n",
    "# For example, here's several helpful packages to load\n",
    "\n",
    "import numpy as np # linear algebra\n",
    "import pandas as pd # data processing, CSV file I/O (e.g. pd.read_csv)\n",
    "import matplotlib.pyplot as plt\n",
    "\n",
    "import matplotlib.pyplot as plt\n",
    "\n",
    "import tensorflow as tf\n",
    "import tensorflow.keras.layers as layers\n",
    "\n",
    "\n",
    "# Input data files are available in the read-only \"../input/\" directory\n",
    "# For example, running this (by clicking run or pressing Shift+Enter) will list all files under the input directory\n",
    "\n",
    "import os\n",
    "for dirname, _, filenames in os.walk('/kaggle/input'):\n",
    "    for filename in filenames:\n",
    "        print(os.path.join(dirname, filename))\n",
    "\n",
    "# You can write up to 20GB to the current directory (/kaggle/working/) that gets preserved as output when you create a version using \"Save & Run All\" \n",
    "# You can also write temporary files to /kaggle/temp/, but they won't be saved outside of the current session"
   ]
  },
  {
   "cell_type": "markdown",
   "id": "195e4afa",
   "metadata": {
    "papermill": {
     "duration": 0.004821,
     "end_time": "2023-12-01T01:49:48.193873",
     "exception": false,
     "start_time": "2023-12-01T01:49:48.189052",
     "status": "completed"
    },
    "tags": []
   },
   "source": [
    "# Load dataset"
   ]
  },
  {
   "cell_type": "code",
   "execution_count": 2,
   "id": "7398081b",
   "metadata": {
    "execution": {
     "iopub.execute_input": "2023-12-01T01:49:48.205428Z",
     "iopub.status.busy": "2023-12-01T01:49:48.204854Z",
     "iopub.status.idle": "2023-12-01T01:49:48.224302Z",
     "shell.execute_reply": "2023-12-01T01:49:48.223472Z"
    },
    "papermill": {
     "duration": 0.027229,
     "end_time": "2023-12-01T01:49:48.226083",
     "exception": false,
     "start_time": "2023-12-01T01:49:48.198854",
     "status": "completed"
    },
    "tags": []
   },
   "outputs": [],
   "source": [
    "filepath = \"/kaggle/input/2023-psl-week-using-bloomberg-news/train.csv\"\n",
    "\n",
    "dataset = pd.read_csv(filepath)"
   ]
  },
  {
   "cell_type": "code",
   "execution_count": 3,
   "id": "115b4264",
   "metadata": {
    "execution": {
     "iopub.execute_input": "2023-12-01T01:49:48.238285Z",
     "iopub.status.busy": "2023-12-01T01:49:48.237859Z",
     "iopub.status.idle": "2023-12-01T01:49:48.260588Z",
     "shell.execute_reply": "2023-12-01T01:49:48.259729Z"
    },
    "papermill": {
     "duration": 0.030935,
     "end_time": "2023-12-01T01:49:48.262395",
     "exception": false,
     "start_time": "2023-12-01T01:49:48.231460",
     "status": "completed"
    },
    "tags": []
   },
   "outputs": [
    {
     "data": {
      "text/html": [
       "<div>\n",
       "<style scoped>\n",
       "    .dataframe tbody tr th:only-of-type {\n",
       "        vertical-align: middle;\n",
       "    }\n",
       "\n",
       "    .dataframe tbody tr th {\n",
       "        vertical-align: top;\n",
       "    }\n",
       "\n",
       "    .dataframe thead th {\n",
       "        text-align: right;\n",
       "    }\n",
       "</style>\n",
       "<table border=\"1\" class=\"dataframe\">\n",
       "  <thead>\n",
       "    <tr style=\"text-align: right;\">\n",
       "      <th></th>\n",
       "      <th>Unnamed: 0</th>\n",
       "      <th>positive</th>\n",
       "      <th>negative</th>\n",
       "      <th>indecisive</th>\n",
       "      <th>score</th>\n",
       "      <th>y</th>\n",
       "    </tr>\n",
       "  </thead>\n",
       "  <tbody>\n",
       "    <tr>\n",
       "      <th>0</th>\n",
       "      <td>2010-01-04</td>\n",
       "      <td>11.0</td>\n",
       "      <td>3.0</td>\n",
       "      <td>0.0</td>\n",
       "      <td>0.571429</td>\n",
       "      <td>0.043956</td>\n",
       "    </tr>\n",
       "    <tr>\n",
       "      <th>1</th>\n",
       "      <td>2010-01-05</td>\n",
       "      <td>6.0</td>\n",
       "      <td>6.0</td>\n",
       "      <td>3.0</td>\n",
       "      <td>0.000000</td>\n",
       "      <td>0.042511</td>\n",
       "    </tr>\n",
       "    <tr>\n",
       "      <th>2</th>\n",
       "      <td>2010-01-06</td>\n",
       "      <td>7.0</td>\n",
       "      <td>3.0</td>\n",
       "      <td>1.0</td>\n",
       "      <td>0.400000</td>\n",
       "      <td>0.041065</td>\n",
       "    </tr>\n",
       "    <tr>\n",
       "      <th>3</th>\n",
       "      <td>2010-01-07</td>\n",
       "      <td>9.0</td>\n",
       "      <td>5.0</td>\n",
       "      <td>0.0</td>\n",
       "      <td>0.285714</td>\n",
       "      <td>0.034180</td>\n",
       "    </tr>\n",
       "    <tr>\n",
       "      <th>4</th>\n",
       "      <td>2010-01-08</td>\n",
       "      <td>7.0</td>\n",
       "      <td>3.0</td>\n",
       "      <td>2.0</td>\n",
       "      <td>0.400000</td>\n",
       "      <td>0.049178</td>\n",
       "    </tr>\n",
       "  </tbody>\n",
       "</table>\n",
       "</div>"
      ],
      "text/plain": [
       "   Unnamed: 0  positive  negative  indecisive     score         y\n",
       "0  2010-01-04      11.0       3.0         0.0  0.571429  0.043956\n",
       "1  2010-01-05       6.0       6.0         3.0  0.000000  0.042511\n",
       "2  2010-01-06       7.0       3.0         1.0  0.400000  0.041065\n",
       "3  2010-01-07       9.0       5.0         0.0  0.285714  0.034180\n",
       "4  2010-01-08       7.0       3.0         2.0  0.400000  0.049178"
      ]
     },
     "execution_count": 3,
     "metadata": {},
     "output_type": "execute_result"
    }
   ],
   "source": [
    "dataset.head()"
   ]
  },
  {
   "cell_type": "code",
   "execution_count": 4,
   "id": "8adf5510",
   "metadata": {
    "execution": {
     "iopub.execute_input": "2023-12-01T01:49:48.276192Z",
     "iopub.status.busy": "2023-12-01T01:49:48.275417Z",
     "iopub.status.idle": "2023-12-01T01:49:48.301531Z",
     "shell.execute_reply": "2023-12-01T01:49:48.300537Z"
    },
    "papermill": {
     "duration": 0.035402,
     "end_time": "2023-12-01T01:49:48.304121",
     "exception": false,
     "start_time": "2023-12-01T01:49:48.268719",
     "status": "completed"
    },
    "tags": []
   },
   "outputs": [
    {
     "name": "stdout",
     "output_type": "stream",
     "text": [
      "<class 'pandas.core.frame.DataFrame'>\n",
      "RangeIndex: 2594 entries, 0 to 2593\n",
      "Data columns (total 6 columns):\n",
      " #   Column      Non-Null Count  Dtype  \n",
      "---  ------      --------------  -----  \n",
      " 0   Unnamed: 0  2594 non-null   object \n",
      " 1   positive    2594 non-null   float64\n",
      " 2   negative    2594 non-null   float64\n",
      " 3   indecisive  2594 non-null   float64\n",
      " 4   score       2594 non-null   float64\n",
      " 5   y           2594 non-null   float64\n",
      "dtypes: float64(5), object(1)\n",
      "memory usage: 121.7+ KB\n"
     ]
    }
   ],
   "source": [
    "dataset.info()"
   ]
  },
  {
   "cell_type": "code",
   "execution_count": 5,
   "id": "fb2b9e5e",
   "metadata": {
    "execution": {
     "iopub.execute_input": "2023-12-01T01:49:48.317538Z",
     "iopub.status.busy": "2023-12-01T01:49:48.317199Z",
     "iopub.status.idle": "2023-12-01T01:49:48.333338Z",
     "shell.execute_reply": "2023-12-01T01:49:48.332065Z"
    },
    "papermill": {
     "duration": 0.024904,
     "end_time": "2023-12-01T01:49:48.335090",
     "exception": false,
     "start_time": "2023-12-01T01:49:48.310186",
     "status": "completed"
    },
    "tags": []
   },
   "outputs": [
    {
     "data": {
      "text/html": [
       "<div>\n",
       "<style scoped>\n",
       "    .dataframe tbody tr th:only-of-type {\n",
       "        vertical-align: middle;\n",
       "    }\n",
       "\n",
       "    .dataframe tbody tr th {\n",
       "        vertical-align: top;\n",
       "    }\n",
       "\n",
       "    .dataframe thead th {\n",
       "        text-align: right;\n",
       "    }\n",
       "</style>\n",
       "<table border=\"1\" class=\"dataframe\">\n",
       "  <thead>\n",
       "    <tr style=\"text-align: right;\">\n",
       "      <th></th>\n",
       "      <th>Unnamed: 0</th>\n",
       "      <th>positive</th>\n",
       "      <th>negative</th>\n",
       "      <th>indecisive</th>\n",
       "      <th>score</th>\n",
       "      <th>y</th>\n",
       "      <th>sum</th>\n",
       "    </tr>\n",
       "  </thead>\n",
       "  <tbody>\n",
       "    <tr>\n",
       "      <th>0</th>\n",
       "      <td>2010-01-04</td>\n",
       "      <td>11.0</td>\n",
       "      <td>3.0</td>\n",
       "      <td>0.0</td>\n",
       "      <td>0.571429</td>\n",
       "      <td>0.043956</td>\n",
       "      <td>14.0</td>\n",
       "    </tr>\n",
       "    <tr>\n",
       "      <th>1</th>\n",
       "      <td>2010-01-05</td>\n",
       "      <td>6.0</td>\n",
       "      <td>6.0</td>\n",
       "      <td>3.0</td>\n",
       "      <td>0.000000</td>\n",
       "      <td>0.042511</td>\n",
       "      <td>15.0</td>\n",
       "    </tr>\n",
       "    <tr>\n",
       "      <th>2</th>\n",
       "      <td>2010-01-06</td>\n",
       "      <td>7.0</td>\n",
       "      <td>3.0</td>\n",
       "      <td>1.0</td>\n",
       "      <td>0.400000</td>\n",
       "      <td>0.041065</td>\n",
       "      <td>11.0</td>\n",
       "    </tr>\n",
       "    <tr>\n",
       "      <th>3</th>\n",
       "      <td>2010-01-07</td>\n",
       "      <td>9.0</td>\n",
       "      <td>5.0</td>\n",
       "      <td>0.0</td>\n",
       "      <td>0.285714</td>\n",
       "      <td>0.034180</td>\n",
       "      <td>14.0</td>\n",
       "    </tr>\n",
       "    <tr>\n",
       "      <th>4</th>\n",
       "      <td>2010-01-08</td>\n",
       "      <td>7.0</td>\n",
       "      <td>3.0</td>\n",
       "      <td>2.0</td>\n",
       "      <td>0.400000</td>\n",
       "      <td>0.049178</td>\n",
       "      <td>12.0</td>\n",
       "    </tr>\n",
       "  </tbody>\n",
       "</table>\n",
       "</div>"
      ],
      "text/plain": [
       "   Unnamed: 0  positive  negative  indecisive     score         y   sum\n",
       "0  2010-01-04      11.0       3.0         0.0  0.571429  0.043956  14.0\n",
       "1  2010-01-05       6.0       6.0         3.0  0.000000  0.042511  15.0\n",
       "2  2010-01-06       7.0       3.0         1.0  0.400000  0.041065  11.0\n",
       "3  2010-01-07       9.0       5.0         0.0  0.285714  0.034180  14.0\n",
       "4  2010-01-08       7.0       3.0         2.0  0.400000  0.049178  12.0"
      ]
     },
     "execution_count": 5,
     "metadata": {},
     "output_type": "execute_result"
    }
   ],
   "source": [
    "dataset['sum'] = dataset['positive'] + dataset['negative'] + dataset['indecisive']\n",
    "dataset.head(5)"
   ]
  },
  {
   "cell_type": "code",
   "execution_count": 6,
   "id": "c9859980",
   "metadata": {
    "execution": {
     "iopub.execute_input": "2023-12-01T01:49:48.348770Z",
     "iopub.status.busy": "2023-12-01T01:49:48.348109Z",
     "iopub.status.idle": "2023-12-01T01:49:48.351617Z",
     "shell.execute_reply": "2023-12-01T01:49:48.350979Z"
    },
    "papermill": {
     "duration": 0.012145,
     "end_time": "2023-12-01T01:49:48.353208",
     "exception": false,
     "start_time": "2023-12-01T01:49:48.341063",
     "status": "completed"
    },
    "tags": []
   },
   "outputs": [],
   "source": [
    "# plt.plot(dataset['Unnamed: 0'], dataset['positive'])\n",
    "# plt.plot(dataset['Unnamed: 0'], dataset['negative'])\n",
    "# plt.plot(dataset['Unnamed: 0'], dataset['indecisive'])"
   ]
  },
  {
   "cell_type": "markdown",
   "id": "43d7c3eb",
   "metadata": {
    "papermill": {
     "duration": 0.005603,
     "end_time": "2023-12-01T01:49:48.364667",
     "exception": false,
     "start_time": "2023-12-01T01:49:48.359064",
     "status": "completed"
    },
    "tags": []
   },
   "source": [
    "# Prepare dataset"
   ]
  },
  {
   "cell_type": "code",
   "execution_count": 7,
   "id": "fb9a1f45",
   "metadata": {
    "execution": {
     "iopub.execute_input": "2023-12-01T01:49:48.378027Z",
     "iopub.status.busy": "2023-12-01T01:49:48.377479Z",
     "iopub.status.idle": "2023-12-01T01:49:48.380716Z",
     "shell.execute_reply": "2023-12-01T01:49:48.380057Z"
    },
    "papermill": {
     "duration": 0.012625,
     "end_time": "2023-12-01T01:49:48.382943",
     "exception": false,
     "start_time": "2023-12-01T01:49:48.370318",
     "status": "completed"
    },
    "tags": []
   },
   "outputs": [],
   "source": [
    "# dataset['Unnamed: 0'] = pd.to_datetime(dataset['Unnamed: 0'])\n",
    "# dataset = dataset.set_index('Unnamed: 0')"
   ]
  },
  {
   "cell_type": "code",
   "execution_count": 8,
   "id": "aef892f0",
   "metadata": {
    "execution": {
     "iopub.execute_input": "2023-12-01T01:49:48.397332Z",
     "iopub.status.busy": "2023-12-01T01:49:48.396779Z",
     "iopub.status.idle": "2023-12-01T01:49:48.400416Z",
     "shell.execute_reply": "2023-12-01T01:49:48.399477Z"
    },
    "papermill": {
     "duration": 0.012946,
     "end_time": "2023-12-01T01:49:48.402142",
     "exception": false,
     "start_time": "2023-12-01T01:49:48.389196",
     "status": "completed"
    },
    "tags": []
   },
   "outputs": [],
   "source": [
    "# from sklearn.preprocessing import MinMaxScaler\n",
    "\n",
    "# # Assuming 'Date' is a column in your dataset\n",
    "# dataset['Timestamp'] = (dataset['Unnamed: 0'] - pd.Timestamp(\"Y\")).dt.total_seconds()\n",
    "# scaler = MinMaxScaler()\n",
    "# dataset['Timestamp'] = scaler.fit_transform(dataset[['Timestamp']])"
   ]
  },
  {
   "cell_type": "code",
   "execution_count": 9,
   "id": "de865fa2",
   "metadata": {
    "execution": {
     "iopub.execute_input": "2023-12-01T01:49:48.417150Z",
     "iopub.status.busy": "2023-12-01T01:49:48.416570Z",
     "iopub.status.idle": "2023-12-01T01:49:48.420540Z",
     "shell.execute_reply": "2023-12-01T01:49:48.419279Z"
    },
    "papermill": {
     "duration": 0.014758,
     "end_time": "2023-12-01T01:49:48.422961",
     "exception": false,
     "start_time": "2023-12-01T01:49:48.408203",
     "status": "completed"
    },
    "tags": []
   },
   "outputs": [],
   "source": [
    "# try normalising each data point with the sum"
   ]
  },
  {
   "cell_type": "code",
   "execution_count": 10,
   "id": "6016a7dc",
   "metadata": {
    "execution": {
     "iopub.execute_input": "2023-12-01T01:49:48.436809Z",
     "iopub.status.busy": "2023-12-01T01:49:48.436300Z",
     "iopub.status.idle": "2023-12-01T01:49:48.443725Z",
     "shell.execute_reply": "2023-12-01T01:49:48.442713Z"
    },
    "papermill": {
     "duration": 0.01624,
     "end_time": "2023-12-01T01:49:48.445478",
     "exception": false,
     "start_time": "2023-12-01T01:49:48.429238",
     "status": "completed"
    },
    "tags": []
   },
   "outputs": [],
   "source": [
    "dataset_sum = dataset.pop('sum')\n",
    "y = dataset.pop('y')\n",
    "x = dataset\n",
    "dates = x.pop('Unnamed: 0')\n"
   ]
  },
  {
   "cell_type": "code",
   "execution_count": 11,
   "id": "94175615",
   "metadata": {
    "execution": {
     "iopub.execute_input": "2023-12-01T01:49:48.460092Z",
     "iopub.status.busy": "2023-12-01T01:49:48.459492Z",
     "iopub.status.idle": "2023-12-01T01:49:48.469761Z",
     "shell.execute_reply": "2023-12-01T01:49:48.469113Z"
    },
    "papermill": {
     "duration": 0.02023,
     "end_time": "2023-12-01T01:49:48.471623",
     "exception": false,
     "start_time": "2023-12-01T01:49:48.451393",
     "status": "completed"
    },
    "tags": []
   },
   "outputs": [
    {
     "data": {
      "text/html": [
       "<div>\n",
       "<style scoped>\n",
       "    .dataframe tbody tr th:only-of-type {\n",
       "        vertical-align: middle;\n",
       "    }\n",
       "\n",
       "    .dataframe tbody tr th {\n",
       "        vertical-align: top;\n",
       "    }\n",
       "\n",
       "    .dataframe thead th {\n",
       "        text-align: right;\n",
       "    }\n",
       "</style>\n",
       "<table border=\"1\" class=\"dataframe\">\n",
       "  <thead>\n",
       "    <tr style=\"text-align: right;\">\n",
       "      <th></th>\n",
       "      <th>positive</th>\n",
       "      <th>negative</th>\n",
       "      <th>indecisive</th>\n",
       "      <th>score</th>\n",
       "    </tr>\n",
       "  </thead>\n",
       "  <tbody>\n",
       "    <tr>\n",
       "      <th>0</th>\n",
       "      <td>11.0</td>\n",
       "      <td>3.0</td>\n",
       "      <td>0.0</td>\n",
       "      <td>0.571429</td>\n",
       "    </tr>\n",
       "    <tr>\n",
       "      <th>1</th>\n",
       "      <td>6.0</td>\n",
       "      <td>6.0</td>\n",
       "      <td>3.0</td>\n",
       "      <td>0.000000</td>\n",
       "    </tr>\n",
       "    <tr>\n",
       "      <th>2</th>\n",
       "      <td>7.0</td>\n",
       "      <td>3.0</td>\n",
       "      <td>1.0</td>\n",
       "      <td>0.400000</td>\n",
       "    </tr>\n",
       "    <tr>\n",
       "      <th>3</th>\n",
       "      <td>9.0</td>\n",
       "      <td>5.0</td>\n",
       "      <td>0.0</td>\n",
       "      <td>0.285714</td>\n",
       "    </tr>\n",
       "    <tr>\n",
       "      <th>4</th>\n",
       "      <td>7.0</td>\n",
       "      <td>3.0</td>\n",
       "      <td>2.0</td>\n",
       "      <td>0.400000</td>\n",
       "    </tr>\n",
       "  </tbody>\n",
       "</table>\n",
       "</div>"
      ],
      "text/plain": [
       "   positive  negative  indecisive     score\n",
       "0      11.0       3.0         0.0  0.571429\n",
       "1       6.0       6.0         3.0  0.000000\n",
       "2       7.0       3.0         1.0  0.400000\n",
       "3       9.0       5.0         0.0  0.285714\n",
       "4       7.0       3.0         2.0  0.400000"
      ]
     },
     "execution_count": 11,
     "metadata": {},
     "output_type": "execute_result"
    }
   ],
   "source": [
    "x.head()"
   ]
  },
  {
   "cell_type": "code",
   "execution_count": 12,
   "id": "dceec752",
   "metadata": {
    "execution": {
     "iopub.execute_input": "2023-12-01T01:49:48.485885Z",
     "iopub.status.busy": "2023-12-01T01:49:48.485336Z",
     "iopub.status.idle": "2023-12-01T01:49:48.492067Z",
     "shell.execute_reply": "2023-12-01T01:49:48.491133Z"
    },
    "papermill": {
     "duration": 0.015953,
     "end_time": "2023-12-01T01:49:48.493837",
     "exception": false,
     "start_time": "2023-12-01T01:49:48.477884",
     "status": "completed"
    },
    "tags": []
   },
   "outputs": [
    {
     "data": {
      "text/plain": [
       "0    0.043956\n",
       "1    0.042511\n",
       "2    0.041065\n",
       "3    0.034180\n",
       "4    0.049178\n",
       "Name: y, dtype: float64"
      ]
     },
     "execution_count": 12,
     "metadata": {},
     "output_type": "execute_result"
    }
   ],
   "source": [
    "y.head()"
   ]
  },
  {
   "cell_type": "markdown",
   "id": "db4c5963",
   "metadata": {
    "papermill": {
     "duration": 0.006109,
     "end_time": "2023-12-01T01:49:48.506318",
     "exception": false,
     "start_time": "2023-12-01T01:49:48.500209",
     "status": "completed"
    },
    "tags": []
   },
   "source": [
    "# Define model"
   ]
  },
  {
   "cell_type": "code",
   "execution_count": 13,
   "id": "cdb7df24",
   "metadata": {
    "execution": {
     "iopub.execute_input": "2023-12-01T01:49:48.520227Z",
     "iopub.status.busy": "2023-12-01T01:49:48.519791Z",
     "iopub.status.idle": "2023-12-01T01:49:48.889759Z",
     "shell.execute_reply": "2023-12-01T01:49:48.888725Z"
    },
    "papermill": {
     "duration": 0.379458,
     "end_time": "2023-12-01T01:49:48.891865",
     "exception": false,
     "start_time": "2023-12-01T01:49:48.512407",
     "status": "completed"
    },
    "tags": []
   },
   "outputs": [],
   "source": [
    "features = 1 # 1D data\n",
    "input_shape = x.shape[1]\n",
    "\n",
    "model = tf.keras.models.Sequential([\n",
    "    layers.LSTM(units=64, input_shape=(input_shape, features)),\n",
    "    layers.Dense(units=1)\n",
    "])\n",
    "\n",
    "loss_function = tf.keras.losses.MeanAbsoluteError()\n",
    "optimiser = tf.keras.optimizers.Adam(learning_rate=0.0001) # changed lr from 0.001\n",
    "model.compile(loss = loss_function, optimizer=optimiser, metrics=['mae'])"
   ]
  },
  {
   "cell_type": "code",
   "execution_count": 14,
   "id": "c4f86ebe",
   "metadata": {
    "execution": {
     "iopub.execute_input": "2023-12-01T01:49:48.924094Z",
     "iopub.status.busy": "2023-12-01T01:49:48.922532Z",
     "iopub.status.idle": "2023-12-01T01:49:48.942013Z",
     "shell.execute_reply": "2023-12-01T01:49:48.940687Z"
    },
    "papermill": {
     "duration": 0.030894,
     "end_time": "2023-12-01T01:49:48.945051",
     "exception": false,
     "start_time": "2023-12-01T01:49:48.914157",
     "status": "completed"
    },
    "tags": []
   },
   "outputs": [
    {
     "name": "stdout",
     "output_type": "stream",
     "text": [
      "Model: \"sequential\"\n",
      "_________________________________________________________________\n",
      " Layer (type)                Output Shape              Param #   \n",
      "=================================================================\n",
      " lstm (LSTM)                 (None, 64)                16896     \n",
      "                                                                 \n",
      " dense (Dense)               (None, 1)                 65        \n",
      "                                                                 \n",
      "=================================================================\n",
      "Total params: 16961 (66.25 KB)\n",
      "Trainable params: 16961 (66.25 KB)\n",
      "Non-trainable params: 0 (0.00 Byte)\n",
      "_________________________________________________________________\n"
     ]
    }
   ],
   "source": [
    "model.summary()"
   ]
  },
  {
   "cell_type": "markdown",
   "id": "5f100ead",
   "metadata": {
    "papermill": {
     "duration": 0.006401,
     "end_time": "2023-12-01T01:49:48.958153",
     "exception": false,
     "start_time": "2023-12-01T01:49:48.951752",
     "status": "completed"
    },
    "tags": []
   },
   "source": [
    "### Test dataset"
   ]
  },
  {
   "cell_type": "code",
   "execution_count": 15,
   "id": "ad67ea92",
   "metadata": {
    "execution": {
     "iopub.execute_input": "2023-12-01T01:49:48.973546Z",
     "iopub.status.busy": "2023-12-01T01:49:48.973215Z",
     "iopub.status.idle": "2023-12-01T01:50:11.307587Z",
     "shell.execute_reply": "2023-12-01T01:50:11.306052Z"
    },
    "papermill": {
     "duration": 22.344324,
     "end_time": "2023-12-01T01:50:11.309594",
     "exception": false,
     "start_time": "2023-12-01T01:49:48.965270",
     "status": "completed"
    },
    "tags": []
   },
   "outputs": [
    {
     "name": "stdout",
     "output_type": "stream",
     "text": [
      "Epoch 1/50\n",
      "82/82 [==============================] - 2s 4ms/step - loss: 0.1443 - mae: 0.1443\n",
      "Epoch 2/50\n",
      "82/82 [==============================] - 0s 4ms/step - loss: 0.0548 - mae: 0.0548\n",
      "Epoch 3/50\n",
      "82/82 [==============================] - 0s 4ms/step - loss: 0.0540 - mae: 0.0540\n",
      "Epoch 4/50\n",
      "82/82 [==============================] - 0s 3ms/step - loss: 0.0532 - mae: 0.0532\n",
      "Epoch 5/50\n",
      "82/82 [==============================] - 0s 4ms/step - loss: 0.0522 - mae: 0.0522\n",
      "Epoch 6/50\n",
      "82/82 [==============================] - 0s 4ms/step - loss: 0.0517 - mae: 0.0517\n",
      "Epoch 7/50\n",
      "82/82 [==============================] - 0s 3ms/step - loss: 0.0512 - mae: 0.0512\n",
      "Epoch 8/50\n",
      "82/82 [==============================] - 0s 4ms/step - loss: 0.0507 - mae: 0.0507\n",
      "Epoch 9/50\n",
      "82/82 [==============================] - 0s 3ms/step - loss: 0.0509 - mae: 0.0509\n",
      "Epoch 10/50\n",
      "82/82 [==============================] - 0s 3ms/step - loss: 0.0505 - mae: 0.0505\n",
      "Epoch 11/50\n",
      "82/82 [==============================] - 0s 4ms/step - loss: 0.0505 - mae: 0.0505\n",
      "Epoch 12/50\n",
      "82/82 [==============================] - 0s 3ms/step - loss: 0.0503 - mae: 0.0503\n",
      "Epoch 13/50\n",
      "82/82 [==============================] - 0s 3ms/step - loss: 0.0507 - mae: 0.0507\n",
      "Epoch 14/50\n",
      "82/82 [==============================] - 0s 3ms/step - loss: 0.0503 - mae: 0.0503\n",
      "Epoch 15/50\n",
      "82/82 [==============================] - 0s 3ms/step - loss: 0.0502 - mae: 0.0502\n",
      "Epoch 16/50\n",
      "82/82 [==============================] - 0s 3ms/step - loss: 0.0504 - mae: 0.0504\n",
      "Epoch 17/50\n",
      "82/82 [==============================] - 0s 3ms/step - loss: 0.0503 - mae: 0.0503\n",
      "Epoch 18/50\n",
      "82/82 [==============================] - 0s 3ms/step - loss: 0.0500 - mae: 0.0500\n",
      "Epoch 19/50\n",
      "82/82 [==============================] - 0s 4ms/step - loss: 0.0503 - mae: 0.0503\n",
      "Epoch 20/50\n",
      "82/82 [==============================] - 0s 3ms/step - loss: 0.0502 - mae: 0.0502\n",
      "Epoch 21/50\n",
      "82/82 [==============================] - 0s 4ms/step - loss: 0.0504 - mae: 0.0504\n",
      "Epoch 22/50\n",
      "82/82 [==============================] - 0s 3ms/step - loss: 0.0504 - mae: 0.0504\n",
      "Epoch 23/50\n",
      "82/82 [==============================] - 0s 3ms/step - loss: 0.0500 - mae: 0.0500\n",
      "Epoch 24/50\n",
      "82/82 [==============================] - 0s 3ms/step - loss: 0.0501 - mae: 0.0501\n",
      "Epoch 25/50\n",
      "82/82 [==============================] - 0s 3ms/step - loss: 0.0502 - mae: 0.0502\n",
      "Epoch 26/50\n",
      "82/82 [==============================] - 0s 3ms/step - loss: 0.0503 - mae: 0.0503\n",
      "Epoch 27/50\n",
      "82/82 [==============================] - 0s 4ms/step - loss: 0.0504 - mae: 0.0504\n",
      "Epoch 28/50\n",
      "82/82 [==============================] - 0s 4ms/step - loss: 0.0503 - mae: 0.0503\n",
      "Epoch 29/50\n",
      "82/82 [==============================] - 0s 3ms/step - loss: 0.0503 - mae: 0.0503\n",
      "Epoch 30/50\n",
      "82/82 [==============================] - 0s 3ms/step - loss: 0.0501 - mae: 0.0501\n",
      "Epoch 31/50\n",
      "82/82 [==============================] - 0s 4ms/step - loss: 0.0504 - mae: 0.0504\n",
      "Epoch 32/50\n",
      "82/82 [==============================] - 0s 4ms/step - loss: 0.0501 - mae: 0.0501\n",
      "Epoch 33/50\n",
      "82/82 [==============================] - 0s 4ms/step - loss: 0.0501 - mae: 0.0501\n",
      "Epoch 34/50\n",
      "82/82 [==============================] - 0s 4ms/step - loss: 0.0500 - mae: 0.0500\n",
      "Epoch 35/50\n",
      "82/82 [==============================] - 0s 4ms/step - loss: 0.0501 - mae: 0.0501\n",
      "Epoch 36/50\n",
      "82/82 [==============================] - 0s 4ms/step - loss: 0.0503 - mae: 0.0503\n",
      "Epoch 37/50\n",
      "82/82 [==============================] - 0s 4ms/step - loss: 0.0502 - mae: 0.0502\n",
      "Epoch 38/50\n",
      "82/82 [==============================] - 0s 4ms/step - loss: 0.0513 - mae: 0.0513\n",
      "Epoch 39/50\n",
      "82/82 [==============================] - 0s 4ms/step - loss: 0.0502 - mae: 0.0502\n",
      "Epoch 40/50\n",
      "82/82 [==============================] - 0s 4ms/step - loss: 0.0501 - mae: 0.0501\n",
      "Epoch 41/50\n",
      "82/82 [==============================] - 0s 4ms/step - loss: 0.0501 - mae: 0.0501\n",
      "Epoch 42/50\n",
      "82/82 [==============================] - 0s 4ms/step - loss: 0.0503 - mae: 0.0503\n",
      "Epoch 43/50\n",
      "82/82 [==============================] - 0s 4ms/step - loss: 0.0502 - mae: 0.0502\n",
      "Epoch 44/50\n",
      "82/82 [==============================] - 0s 4ms/step - loss: 0.0503 - mae: 0.0503\n",
      "Epoch 45/50\n",
      "82/82 [==============================] - 0s 4ms/step - loss: 0.0506 - mae: 0.0506\n",
      "Epoch 46/50\n",
      "82/82 [==============================] - 0s 3ms/step - loss: 0.0502 - mae: 0.0502\n",
      "Epoch 47/50\n",
      "82/82 [==============================] - 0s 4ms/step - loss: 0.0502 - mae: 0.0502\n",
      "Epoch 48/50\n",
      "82/82 [==============================] - 0s 4ms/step - loss: 0.0503 - mae: 0.0503\n",
      "Epoch 49/50\n",
      "82/82 [==============================] - 0s 4ms/step - loss: 0.0502 - mae: 0.0502\n",
      "Epoch 50/50\n",
      "82/82 [==============================] - 0s 4ms/step - loss: 0.0502 - mae: 0.0502\n"
     ]
    },
    {
     "data": {
      "text/plain": [
       "<keras.src.callbacks.History at 0x787c83b64940>"
      ]
     },
     "execution_count": 15,
     "metadata": {},
     "output_type": "execute_result"
    }
   ],
   "source": [
    "model.fit(x, y, epochs=50, batch_size=32)"
   ]
  },
  {
   "cell_type": "markdown",
   "id": "286f4dac",
   "metadata": {
    "papermill": {
     "duration": 0.028833,
     "end_time": "2023-12-01T01:50:11.368033",
     "exception": false,
     "start_time": "2023-12-01T01:50:11.339200",
     "status": "completed"
    },
    "tags": []
   },
   "source": [
    "# Generate submission"
   ]
  },
  {
   "cell_type": "code",
   "execution_count": 16,
   "id": "8bd11bdb",
   "metadata": {
    "execution": {
     "iopub.execute_input": "2023-12-01T01:50:11.430179Z",
     "iopub.status.busy": "2023-12-01T01:50:11.429132Z",
     "iopub.status.idle": "2023-12-01T01:50:11.444141Z",
     "shell.execute_reply": "2023-12-01T01:50:11.443237Z"
    },
    "papermill": {
     "duration": 0.04732,
     "end_time": "2023-12-01T01:50:11.446137",
     "exception": false,
     "start_time": "2023-12-01T01:50:11.398817",
     "status": "completed"
    },
    "tags": []
   },
   "outputs": [],
   "source": [
    "test_dataset = pd.read_csv(\"/kaggle/input/2023-psl-week-using-bloomberg-news/test.csv\")\n",
    "dates = test_dataset.pop('Unnamed: 0')"
   ]
  },
  {
   "cell_type": "code",
   "execution_count": 17,
   "id": "64482857",
   "metadata": {
    "execution": {
     "iopub.execute_input": "2023-12-01T01:50:11.555148Z",
     "iopub.status.busy": "2023-12-01T01:50:11.554762Z",
     "iopub.status.idle": "2023-12-01T01:50:11.566265Z",
     "shell.execute_reply": "2023-12-01T01:50:11.565255Z"
    },
    "papermill": {
     "duration": 0.092318,
     "end_time": "2023-12-01T01:50:11.568162",
     "exception": false,
     "start_time": "2023-12-01T01:50:11.475844",
     "status": "completed"
    },
    "tags": []
   },
   "outputs": [
    {
     "data": {
      "text/html": [
       "<div>\n",
       "<style scoped>\n",
       "    .dataframe tbody tr th:only-of-type {\n",
       "        vertical-align: middle;\n",
       "    }\n",
       "\n",
       "    .dataframe tbody tr th {\n",
       "        vertical-align: top;\n",
       "    }\n",
       "\n",
       "    .dataframe thead th {\n",
       "        text-align: right;\n",
       "    }\n",
       "</style>\n",
       "<table border=\"1\" class=\"dataframe\">\n",
       "  <thead>\n",
       "    <tr style=\"text-align: right;\">\n",
       "      <th></th>\n",
       "      <th>positive</th>\n",
       "      <th>negative</th>\n",
       "      <th>indecisive</th>\n",
       "      <th>score</th>\n",
       "    </tr>\n",
       "  </thead>\n",
       "  <tbody>\n",
       "    <tr>\n",
       "      <th>0</th>\n",
       "      <td>7.0</td>\n",
       "      <td>3.0</td>\n",
       "      <td>2.0</td>\n",
       "      <td>0.400000</td>\n",
       "    </tr>\n",
       "    <tr>\n",
       "      <th>1</th>\n",
       "      <td>1.0</td>\n",
       "      <td>11.0</td>\n",
       "      <td>2.0</td>\n",
       "      <td>-0.833333</td>\n",
       "    </tr>\n",
       "    <tr>\n",
       "      <th>2</th>\n",
       "      <td>7.0</td>\n",
       "      <td>5.0</td>\n",
       "      <td>2.0</td>\n",
       "      <td>0.166667</td>\n",
       "    </tr>\n",
       "    <tr>\n",
       "      <th>3</th>\n",
       "      <td>5.0</td>\n",
       "      <td>6.0</td>\n",
       "      <td>3.0</td>\n",
       "      <td>-0.090909</td>\n",
       "    </tr>\n",
       "    <tr>\n",
       "      <th>4</th>\n",
       "      <td>9.0</td>\n",
       "      <td>3.0</td>\n",
       "      <td>2.0</td>\n",
       "      <td>0.500000</td>\n",
       "    </tr>\n",
       "  </tbody>\n",
       "</table>\n",
       "</div>"
      ],
      "text/plain": [
       "   positive  negative  indecisive     score\n",
       "0       7.0       3.0         2.0  0.400000\n",
       "1       1.0      11.0         2.0 -0.833333\n",
       "2       7.0       5.0         2.0  0.166667\n",
       "3       5.0       6.0         3.0 -0.090909\n",
       "4       9.0       3.0         2.0  0.500000"
      ]
     },
     "execution_count": 17,
     "metadata": {},
     "output_type": "execute_result"
    }
   ],
   "source": [
    "test_dataset.head()"
   ]
  },
  {
   "cell_type": "code",
   "execution_count": 18,
   "id": "952d8ea7",
   "metadata": {
    "execution": {
     "iopub.execute_input": "2023-12-01T01:50:11.631044Z",
     "iopub.status.busy": "2023-12-01T01:50:11.630141Z",
     "iopub.status.idle": "2023-12-01T01:50:12.079434Z",
     "shell.execute_reply": "2023-12-01T01:50:12.078393Z"
    },
    "papermill": {
     "duration": 0.48284,
     "end_time": "2023-12-01T01:50:12.081760",
     "exception": false,
     "start_time": "2023-12-01T01:50:11.598920",
     "status": "completed"
    },
    "tags": []
   },
   "outputs": [
    {
     "name": "stdout",
     "output_type": "stream",
     "text": [
      "30/30 [==============================] - 0s 2ms/step\n"
     ]
    }
   ],
   "source": [
    "predictions = model.predict(test_dataset)"
   ]
  },
  {
   "cell_type": "code",
   "execution_count": 19,
   "id": "b24b734f",
   "metadata": {
    "execution": {
     "iopub.execute_input": "2023-12-01T01:50:12.142552Z",
     "iopub.status.busy": "2023-12-01T01:50:12.142217Z",
     "iopub.status.idle": "2023-12-01T01:50:12.149378Z",
     "shell.execute_reply": "2023-12-01T01:50:12.148516Z"
    },
    "papermill": {
     "duration": 0.039128,
     "end_time": "2023-12-01T01:50:12.151228",
     "exception": false,
     "start_time": "2023-12-01T01:50:12.112100",
     "status": "completed"
    },
    "tags": []
   },
   "outputs": [],
   "source": [
    "submission = pd.DataFrame()\n",
    "submission['date'] = dates\n",
    "submission['y'] = predictions"
   ]
  },
  {
   "cell_type": "code",
   "execution_count": 20,
   "id": "a05e3da3",
   "metadata": {
    "execution": {
     "iopub.execute_input": "2023-12-01T01:50:12.215254Z",
     "iopub.status.busy": "2023-12-01T01:50:12.214895Z",
     "iopub.status.idle": "2023-12-01T01:50:12.224081Z",
     "shell.execute_reply": "2023-12-01T01:50:12.223029Z"
    },
    "papermill": {
     "duration": 0.043568,
     "end_time": "2023-12-01T01:50:12.225833",
     "exception": false,
     "start_time": "2023-12-01T01:50:12.182265",
     "status": "completed"
    },
    "tags": []
   },
   "outputs": [
    {
     "data": {
      "text/html": [
       "<div>\n",
       "<style scoped>\n",
       "    .dataframe tbody tr th:only-of-type {\n",
       "        vertical-align: middle;\n",
       "    }\n",
       "\n",
       "    .dataframe tbody tr th {\n",
       "        vertical-align: top;\n",
       "    }\n",
       "\n",
       "    .dataframe thead th {\n",
       "        text-align: right;\n",
       "    }\n",
       "</style>\n",
       "<table border=\"1\" class=\"dataframe\">\n",
       "  <thead>\n",
       "    <tr style=\"text-align: right;\">\n",
       "      <th></th>\n",
       "      <th>date</th>\n",
       "      <th>y</th>\n",
       "    </tr>\n",
       "  </thead>\n",
       "  <tbody>\n",
       "    <tr>\n",
       "      <th>0</th>\n",
       "      <td>2020-01-02</td>\n",
       "      <td>0.040986</td>\n",
       "    </tr>\n",
       "    <tr>\n",
       "      <th>1</th>\n",
       "      <td>2020-01-03</td>\n",
       "      <td>0.041603</td>\n",
       "    </tr>\n",
       "    <tr>\n",
       "      <th>2</th>\n",
       "      <td>2020-01-06</td>\n",
       "      <td>0.044100</td>\n",
       "    </tr>\n",
       "    <tr>\n",
       "      <th>3</th>\n",
       "      <td>2020-01-07</td>\n",
       "      <td>0.047528</td>\n",
       "    </tr>\n",
       "    <tr>\n",
       "      <th>4</th>\n",
       "      <td>2020-01-08</td>\n",
       "      <td>0.040461</td>\n",
       "    </tr>\n",
       "  </tbody>\n",
       "</table>\n",
       "</div>"
      ],
      "text/plain": [
       "         date         y\n",
       "0  2020-01-02  0.040986\n",
       "1  2020-01-03  0.041603\n",
       "2  2020-01-06  0.044100\n",
       "3  2020-01-07  0.047528\n",
       "4  2020-01-08  0.040461"
      ]
     },
     "execution_count": 20,
     "metadata": {},
     "output_type": "execute_result"
    }
   ],
   "source": [
    "submission.head()"
   ]
  },
  {
   "cell_type": "code",
   "execution_count": 21,
   "id": "f8c6cbd2",
   "metadata": {
    "execution": {
     "iopub.execute_input": "2023-12-01T01:50:12.288960Z",
     "iopub.status.busy": "2023-12-01T01:50:12.288636Z",
     "iopub.status.idle": "2023-12-01T01:50:12.302102Z",
     "shell.execute_reply": "2023-12-01T01:50:12.300925Z"
    },
    "papermill": {
     "duration": 0.047292,
     "end_time": "2023-12-01T01:50:12.304036",
     "exception": false,
     "start_time": "2023-12-01T01:50:12.256744",
     "status": "completed"
    },
    "tags": []
   },
   "outputs": [
    {
     "data": {
      "text/html": [
       "<div>\n",
       "<style scoped>\n",
       "    .dataframe tbody tr th:only-of-type {\n",
       "        vertical-align: middle;\n",
       "    }\n",
       "\n",
       "    .dataframe tbody tr th {\n",
       "        vertical-align: top;\n",
       "    }\n",
       "\n",
       "    .dataframe thead th {\n",
       "        text-align: right;\n",
       "    }\n",
       "</style>\n",
       "<table border=\"1\" class=\"dataframe\">\n",
       "  <thead>\n",
       "    <tr style=\"text-align: right;\">\n",
       "      <th></th>\n",
       "      <th>y</th>\n",
       "    </tr>\n",
       "  </thead>\n",
       "  <tbody>\n",
       "    <tr>\n",
       "      <th>count</th>\n",
       "      <td>957.000000</td>\n",
       "    </tr>\n",
       "    <tr>\n",
       "      <th>mean</th>\n",
       "      <td>0.043398</td>\n",
       "    </tr>\n",
       "    <tr>\n",
       "      <th>std</th>\n",
       "      <td>0.004038</td>\n",
       "    </tr>\n",
       "    <tr>\n",
       "      <th>min</th>\n",
       "      <td>0.026484</td>\n",
       "    </tr>\n",
       "    <tr>\n",
       "      <th>25%</th>\n",
       "      <td>0.041051</td>\n",
       "    </tr>\n",
       "    <tr>\n",
       "      <th>50%</th>\n",
       "      <td>0.044306</td>\n",
       "    </tr>\n",
       "    <tr>\n",
       "      <th>75%</th>\n",
       "      <td>0.046429</td>\n",
       "    </tr>\n",
       "    <tr>\n",
       "      <th>max</th>\n",
       "      <td>0.048937</td>\n",
       "    </tr>\n",
       "  </tbody>\n",
       "</table>\n",
       "</div>"
      ],
      "text/plain": [
       "                y\n",
       "count  957.000000\n",
       "mean     0.043398\n",
       "std      0.004038\n",
       "min      0.026484\n",
       "25%      0.041051\n",
       "50%      0.044306\n",
       "75%      0.046429\n",
       "max      0.048937"
      ]
     },
     "execution_count": 21,
     "metadata": {},
     "output_type": "execute_result"
    }
   ],
   "source": [
    "submission.describe()"
   ]
  },
  {
   "cell_type": "code",
   "execution_count": 22,
   "id": "02dad8f4",
   "metadata": {
    "execution": {
     "iopub.execute_input": "2023-12-01T01:50:12.365356Z",
     "iopub.status.busy": "2023-12-01T01:50:12.365007Z",
     "iopub.status.idle": "2023-12-01T01:50:12.374964Z",
     "shell.execute_reply": "2023-12-01T01:50:12.374045Z"
    },
    "papermill": {
     "duration": 0.042498,
     "end_time": "2023-12-01T01:50:12.376816",
     "exception": false,
     "start_time": "2023-12-01T01:50:12.334318",
     "status": "completed"
    },
    "tags": []
   },
   "outputs": [],
   "source": [
    "submission.to_csv('/kaggle/working/submission.csv',index=False,header=True)"
   ]
  }
 ],
 "metadata": {
  "kaggle": {
   "accelerator": "none",
   "dataSources": [
    {
     "databundleVersionId": 7177891,
     "sourceId": 65279,
     "sourceType": "competition"
    }
   ],
   "dockerImageVersionId": 30587,
   "isGpuEnabled": false,
   "isInternetEnabled": true,
   "language": "python",
   "sourceType": "notebook"
  },
  "kernelspec": {
   "display_name": "Python 3",
   "language": "python",
   "name": "python3"
  },
  "language_info": {
   "codemirror_mode": {
    "name": "ipython",
    "version": 3
   },
   "file_extension": ".py",
   "mimetype": "text/x-python",
   "name": "python",
   "nbconvert_exporter": "python",
   "pygments_lexer": "ipython3",
   "version": "3.10.12"
  },
  "papermill": {
   "default_parameters": {},
   "duration": 39.737142,
   "end_time": "2023-12-01T01:50:13.929846",
   "environment_variables": {},
   "exception": null,
   "input_path": "__notebook__.ipynb",
   "output_path": "__notebook__.ipynb",
   "parameters": {},
   "start_time": "2023-12-01T01:49:34.192704",
   "version": "2.4.0"
  }
 },
 "nbformat": 4,
 "nbformat_minor": 5
}
