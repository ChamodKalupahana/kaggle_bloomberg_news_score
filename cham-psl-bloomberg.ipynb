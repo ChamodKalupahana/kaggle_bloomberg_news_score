{
 "cells": [
  {
   "cell_type": "code",
   "execution_count": 1,
   "id": "1b0f506f",
   "metadata": {
    "_cell_guid": "b1076dfc-b9ad-4769-8c92-a6c4dae69d19",
    "_uuid": "8f2839f25d086af736a60e9eeb907d3b93b6e0e5",
    "execution": {
     "iopub.execute_input": "2023-12-01T02:05:45.425992Z",
     "iopub.status.busy": "2023-12-01T02:05:45.425224Z",
     "iopub.status.idle": "2023-12-01T02:06:01.701577Z",
     "shell.execute_reply": "2023-12-01T02:06:01.700575Z"
    },
    "papermill": {
     "duration": 16.292561,
     "end_time": "2023-12-01T02:06:01.706008",
     "exception": false,
     "start_time": "2023-12-01T02:05:45.413447",
     "status": "completed"
    },
    "tags": []
   },
   "outputs": [
    {
     "name": "stdout",
     "output_type": "stream",
     "text": [
      "/kaggle/input/2023-psl-week-using-bloomberg-news/train.csv\n",
      "/kaggle/input/2023-psl-week-using-bloomberg-news/test.csv\n"
     ]
    }
   ],
   "source": [
    "# This Python 3 environment comes with many helpful analytics libraries installed\n",
    "# It is defined by the kaggle/python Docker image: https://github.com/kaggle/docker-python\n",
    "# For example, here's several helpful packages to load\n",
    "\n",
    "import numpy as np # linear algebra\n",
    "import pandas as pd # data processing, CSV file I/O (e.g. pd.read_csv)\n",
    "import matplotlib.pyplot as plt\n",
    "\n",
    "import matplotlib.pyplot as plt\n",
    "\n",
    "import tensorflow as tf\n",
    "import tensorflow.keras.layers as layers\n",
    "\n",
    "\n",
    "# Input data files are available in the read-only \"../input/\" directory\n",
    "# For example, running this (by clicking run or pressing Shift+Enter) will list all files under the input directory\n",
    "\n",
    "import os\n",
    "for dirname, _, filenames in os.walk('/kaggle/input'):\n",
    "    for filename in filenames:\n",
    "        print(os.path.join(dirname, filename))\n",
    "\n",
    "# You can write up to 20GB to the current directory (/kaggle/working/) that gets preserved as output when you create a version using \"Save & Run All\" \n",
    "# You can also write temporary files to /kaggle/temp/, but they won't be saved outside of the current session"
   ]
  },
  {
   "cell_type": "markdown",
   "id": "e0388d26",
   "metadata": {
    "papermill": {
     "duration": 0.01244,
     "end_time": "2023-12-01T02:06:01.735060",
     "exception": false,
     "start_time": "2023-12-01T02:06:01.722620",
     "status": "completed"
    },
    "tags": []
   },
   "source": [
    "# Load dataset"
   ]
  },
  {
   "cell_type": "code",
   "execution_count": 2,
   "id": "81ad0f7a",
   "metadata": {
    "execution": {
     "iopub.execute_input": "2023-12-01T02:06:01.759913Z",
     "iopub.status.busy": "2023-12-01T02:06:01.757862Z",
     "iopub.status.idle": "2023-12-01T02:06:01.786718Z",
     "shell.execute_reply": "2023-12-01T02:06:01.785793Z"
    },
    "papermill": {
     "duration": 0.043365,
     "end_time": "2023-12-01T02:06:01.789338",
     "exception": false,
     "start_time": "2023-12-01T02:06:01.745973",
     "status": "completed"
    },
    "tags": []
   },
   "outputs": [],
   "source": [
    "filepath = \"/kaggle/input/2023-psl-week-using-bloomberg-news/train.csv\"\n",
    "\n",
    "dataset = pd.read_csv(filepath)"
   ]
  },
  {
   "cell_type": "code",
   "execution_count": 3,
   "id": "59b9d829",
   "metadata": {
    "execution": {
     "iopub.execute_input": "2023-12-01T02:06:01.810842Z",
     "iopub.status.busy": "2023-12-01T02:06:01.810453Z",
     "iopub.status.idle": "2023-12-01T02:06:01.841516Z",
     "shell.execute_reply": "2023-12-01T02:06:01.840131Z"
    },
    "papermill": {
     "duration": 0.045378,
     "end_time": "2023-12-01T02:06:01.844415",
     "exception": false,
     "start_time": "2023-12-01T02:06:01.799037",
     "status": "completed"
    },
    "tags": []
   },
   "outputs": [
    {
     "data": {
      "text/html": [
       "<div>\n",
       "<style scoped>\n",
       "    .dataframe tbody tr th:only-of-type {\n",
       "        vertical-align: middle;\n",
       "    }\n",
       "\n",
       "    .dataframe tbody tr th {\n",
       "        vertical-align: top;\n",
       "    }\n",
       "\n",
       "    .dataframe thead th {\n",
       "        text-align: right;\n",
       "    }\n",
       "</style>\n",
       "<table border=\"1\" class=\"dataframe\">\n",
       "  <thead>\n",
       "    <tr style=\"text-align: right;\">\n",
       "      <th></th>\n",
       "      <th>Unnamed: 0</th>\n",
       "      <th>positive</th>\n",
       "      <th>negative</th>\n",
       "      <th>indecisive</th>\n",
       "      <th>score</th>\n",
       "      <th>y</th>\n",
       "    </tr>\n",
       "  </thead>\n",
       "  <tbody>\n",
       "    <tr>\n",
       "      <th>0</th>\n",
       "      <td>2010-01-04</td>\n",
       "      <td>11.0</td>\n",
       "      <td>3.0</td>\n",
       "      <td>0.0</td>\n",
       "      <td>0.571429</td>\n",
       "      <td>0.043956</td>\n",
       "    </tr>\n",
       "    <tr>\n",
       "      <th>1</th>\n",
       "      <td>2010-01-05</td>\n",
       "      <td>6.0</td>\n",
       "      <td>6.0</td>\n",
       "      <td>3.0</td>\n",
       "      <td>0.000000</td>\n",
       "      <td>0.042511</td>\n",
       "    </tr>\n",
       "    <tr>\n",
       "      <th>2</th>\n",
       "      <td>2010-01-06</td>\n",
       "      <td>7.0</td>\n",
       "      <td>3.0</td>\n",
       "      <td>1.0</td>\n",
       "      <td>0.400000</td>\n",
       "      <td>0.041065</td>\n",
       "    </tr>\n",
       "    <tr>\n",
       "      <th>3</th>\n",
       "      <td>2010-01-07</td>\n",
       "      <td>9.0</td>\n",
       "      <td>5.0</td>\n",
       "      <td>0.0</td>\n",
       "      <td>0.285714</td>\n",
       "      <td>0.034180</td>\n",
       "    </tr>\n",
       "    <tr>\n",
       "      <th>4</th>\n",
       "      <td>2010-01-08</td>\n",
       "      <td>7.0</td>\n",
       "      <td>3.0</td>\n",
       "      <td>2.0</td>\n",
       "      <td>0.400000</td>\n",
       "      <td>0.049178</td>\n",
       "    </tr>\n",
       "  </tbody>\n",
       "</table>\n",
       "</div>"
      ],
      "text/plain": [
       "   Unnamed: 0  positive  negative  indecisive     score         y\n",
       "0  2010-01-04      11.0       3.0         0.0  0.571429  0.043956\n",
       "1  2010-01-05       6.0       6.0         3.0  0.000000  0.042511\n",
       "2  2010-01-06       7.0       3.0         1.0  0.400000  0.041065\n",
       "3  2010-01-07       9.0       5.0         0.0  0.285714  0.034180\n",
       "4  2010-01-08       7.0       3.0         2.0  0.400000  0.049178"
      ]
     },
     "execution_count": 3,
     "metadata": {},
     "output_type": "execute_result"
    }
   ],
   "source": [
    "dataset.head()"
   ]
  },
  {
   "cell_type": "code",
   "execution_count": 4,
   "id": "5bcf0a10",
   "metadata": {
    "execution": {
     "iopub.execute_input": "2023-12-01T02:06:01.866867Z",
     "iopub.status.busy": "2023-12-01T02:06:01.866398Z",
     "iopub.status.idle": "2023-12-01T02:06:01.896975Z",
     "shell.execute_reply": "2023-12-01T02:06:01.896148Z"
    },
    "papermill": {
     "duration": 0.044803,
     "end_time": "2023-12-01T02:06:01.899707",
     "exception": false,
     "start_time": "2023-12-01T02:06:01.854904",
     "status": "completed"
    },
    "tags": []
   },
   "outputs": [
    {
     "name": "stdout",
     "output_type": "stream",
     "text": [
      "<class 'pandas.core.frame.DataFrame'>\n",
      "RangeIndex: 2594 entries, 0 to 2593\n",
      "Data columns (total 6 columns):\n",
      " #   Column      Non-Null Count  Dtype  \n",
      "---  ------      --------------  -----  \n",
      " 0   Unnamed: 0  2594 non-null   object \n",
      " 1   positive    2594 non-null   float64\n",
      " 2   negative    2594 non-null   float64\n",
      " 3   indecisive  2594 non-null   float64\n",
      " 4   score       2594 non-null   float64\n",
      " 5   y           2594 non-null   float64\n",
      "dtypes: float64(5), object(1)\n",
      "memory usage: 121.7+ KB\n"
     ]
    }
   ],
   "source": [
    "dataset.info()"
   ]
  },
  {
   "cell_type": "code",
   "execution_count": 5,
   "id": "d3094d16",
   "metadata": {
    "execution": {
     "iopub.execute_input": "2023-12-01T02:06:01.922027Z",
     "iopub.status.busy": "2023-12-01T02:06:01.921593Z",
     "iopub.status.idle": "2023-12-01T02:06:01.940624Z",
     "shell.execute_reply": "2023-12-01T02:06:01.939302Z"
    },
    "papermill": {
     "duration": 0.03373,
     "end_time": "2023-12-01T02:06:01.943518",
     "exception": false,
     "start_time": "2023-12-01T02:06:01.909788",
     "status": "completed"
    },
    "tags": []
   },
   "outputs": [
    {
     "data": {
      "text/html": [
       "<div>\n",
       "<style scoped>\n",
       "    .dataframe tbody tr th:only-of-type {\n",
       "        vertical-align: middle;\n",
       "    }\n",
       "\n",
       "    .dataframe tbody tr th {\n",
       "        vertical-align: top;\n",
       "    }\n",
       "\n",
       "    .dataframe thead th {\n",
       "        text-align: right;\n",
       "    }\n",
       "</style>\n",
       "<table border=\"1\" class=\"dataframe\">\n",
       "  <thead>\n",
       "    <tr style=\"text-align: right;\">\n",
       "      <th></th>\n",
       "      <th>Unnamed: 0</th>\n",
       "      <th>positive</th>\n",
       "      <th>negative</th>\n",
       "      <th>indecisive</th>\n",
       "      <th>score</th>\n",
       "      <th>y</th>\n",
       "      <th>sum</th>\n",
       "    </tr>\n",
       "  </thead>\n",
       "  <tbody>\n",
       "    <tr>\n",
       "      <th>0</th>\n",
       "      <td>2010-01-04</td>\n",
       "      <td>11.0</td>\n",
       "      <td>3.0</td>\n",
       "      <td>0.0</td>\n",
       "      <td>0.571429</td>\n",
       "      <td>0.043956</td>\n",
       "      <td>14.0</td>\n",
       "    </tr>\n",
       "    <tr>\n",
       "      <th>1</th>\n",
       "      <td>2010-01-05</td>\n",
       "      <td>6.0</td>\n",
       "      <td>6.0</td>\n",
       "      <td>3.0</td>\n",
       "      <td>0.000000</td>\n",
       "      <td>0.042511</td>\n",
       "      <td>15.0</td>\n",
       "    </tr>\n",
       "    <tr>\n",
       "      <th>2</th>\n",
       "      <td>2010-01-06</td>\n",
       "      <td>7.0</td>\n",
       "      <td>3.0</td>\n",
       "      <td>1.0</td>\n",
       "      <td>0.400000</td>\n",
       "      <td>0.041065</td>\n",
       "      <td>11.0</td>\n",
       "    </tr>\n",
       "    <tr>\n",
       "      <th>3</th>\n",
       "      <td>2010-01-07</td>\n",
       "      <td>9.0</td>\n",
       "      <td>5.0</td>\n",
       "      <td>0.0</td>\n",
       "      <td>0.285714</td>\n",
       "      <td>0.034180</td>\n",
       "      <td>14.0</td>\n",
       "    </tr>\n",
       "    <tr>\n",
       "      <th>4</th>\n",
       "      <td>2010-01-08</td>\n",
       "      <td>7.0</td>\n",
       "      <td>3.0</td>\n",
       "      <td>2.0</td>\n",
       "      <td>0.400000</td>\n",
       "      <td>0.049178</td>\n",
       "      <td>12.0</td>\n",
       "    </tr>\n",
       "  </tbody>\n",
       "</table>\n",
       "</div>"
      ],
      "text/plain": [
       "   Unnamed: 0  positive  negative  indecisive     score         y   sum\n",
       "0  2010-01-04      11.0       3.0         0.0  0.571429  0.043956  14.0\n",
       "1  2010-01-05       6.0       6.0         3.0  0.000000  0.042511  15.0\n",
       "2  2010-01-06       7.0       3.0         1.0  0.400000  0.041065  11.0\n",
       "3  2010-01-07       9.0       5.0         0.0  0.285714  0.034180  14.0\n",
       "4  2010-01-08       7.0       3.0         2.0  0.400000  0.049178  12.0"
      ]
     },
     "execution_count": 5,
     "metadata": {},
     "output_type": "execute_result"
    }
   ],
   "source": [
    "dataset['sum'] = dataset['positive'] + dataset['negative'] + dataset['indecisive']\n",
    "dataset.head(5)"
   ]
  },
  {
   "cell_type": "code",
   "execution_count": 6,
   "id": "24bac462",
   "metadata": {
    "execution": {
     "iopub.execute_input": "2023-12-01T02:06:01.966001Z",
     "iopub.status.busy": "2023-12-01T02:06:01.965549Z",
     "iopub.status.idle": "2023-12-01T02:06:01.970314Z",
     "shell.execute_reply": "2023-12-01T02:06:01.969126Z"
    },
    "papermill": {
     "duration": 0.019243,
     "end_time": "2023-12-01T02:06:01.973033",
     "exception": false,
     "start_time": "2023-12-01T02:06:01.953790",
     "status": "completed"
    },
    "tags": []
   },
   "outputs": [],
   "source": [
    "# plt.plot(dataset['Unnamed: 0'], dataset['positive'])\n",
    "# plt.plot(dataset['Unnamed: 0'], dataset['negative'])\n",
    "# plt.plot(dataset['Unnamed: 0'], dataset['indecisive'])"
   ]
  },
  {
   "cell_type": "markdown",
   "id": "a614ba53",
   "metadata": {
    "papermill": {
     "duration": 0.009816,
     "end_time": "2023-12-01T02:06:01.993365",
     "exception": false,
     "start_time": "2023-12-01T02:06:01.983549",
     "status": "completed"
    },
    "tags": []
   },
   "source": [
    "# Prepare dataset"
   ]
  },
  {
   "cell_type": "code",
   "execution_count": 7,
   "id": "850a1be6",
   "metadata": {
    "execution": {
     "iopub.execute_input": "2023-12-01T02:06:02.016023Z",
     "iopub.status.busy": "2023-12-01T02:06:02.015576Z",
     "iopub.status.idle": "2023-12-01T02:06:02.020530Z",
     "shell.execute_reply": "2023-12-01T02:06:02.019281Z"
    },
    "papermill": {
     "duration": 0.019733,
     "end_time": "2023-12-01T02:06:02.023354",
     "exception": false,
     "start_time": "2023-12-01T02:06:02.003621",
     "status": "completed"
    },
    "tags": []
   },
   "outputs": [],
   "source": [
    "# dataset['Unnamed: 0'] = pd.to_datetime(dataset['Unnamed: 0'])\n",
    "# dataset = dataset.set_index('Unnamed: 0')"
   ]
  },
  {
   "cell_type": "code",
   "execution_count": 8,
   "id": "75b89f46",
   "metadata": {
    "execution": {
     "iopub.execute_input": "2023-12-01T02:06:02.046404Z",
     "iopub.status.busy": "2023-12-01T02:06:02.045939Z",
     "iopub.status.idle": "2023-12-01T02:06:02.051323Z",
     "shell.execute_reply": "2023-12-01T02:06:02.050128Z"
    },
    "papermill": {
     "duration": 0.020338,
     "end_time": "2023-12-01T02:06:02.054215",
     "exception": false,
     "start_time": "2023-12-01T02:06:02.033877",
     "status": "completed"
    },
    "tags": []
   },
   "outputs": [],
   "source": [
    "# from sklearn.preprocessing import MinMaxScaler\n",
    "\n",
    "# # Assuming 'Date' is a column in your dataset\n",
    "# dataset['Timestamp'] = (dataset['Unnamed: 0'] - pd.Timestamp(\"Y\")).dt.total_seconds()\n",
    "# scaler = MinMaxScaler()\n",
    "# dataset['Timestamp'] = scaler.fit_transform(dataset[['Timestamp']])"
   ]
  },
  {
   "cell_type": "code",
   "execution_count": 9,
   "id": "399580e8",
   "metadata": {
    "execution": {
     "iopub.execute_input": "2023-12-01T02:06:02.077308Z",
     "iopub.status.busy": "2023-12-01T02:06:02.076836Z",
     "iopub.status.idle": "2023-12-01T02:06:02.081708Z",
     "shell.execute_reply": "2023-12-01T02:06:02.080495Z"
    },
    "papermill": {
     "duration": 0.019823,
     "end_time": "2023-12-01T02:06:02.084279",
     "exception": false,
     "start_time": "2023-12-01T02:06:02.064456",
     "status": "completed"
    },
    "tags": []
   },
   "outputs": [],
   "source": [
    "# try normalising each data point with the sum"
   ]
  },
  {
   "cell_type": "code",
   "execution_count": 10,
   "id": "130ae5a0",
   "metadata": {
    "execution": {
     "iopub.execute_input": "2023-12-01T02:06:02.106970Z",
     "iopub.status.busy": "2023-12-01T02:06:02.106551Z",
     "iopub.status.idle": "2023-12-01T02:06:02.115309Z",
     "shell.execute_reply": "2023-12-01T02:06:02.114437Z"
    },
    "papermill": {
     "duration": 0.023317,
     "end_time": "2023-12-01T02:06:02.117759",
     "exception": false,
     "start_time": "2023-12-01T02:06:02.094442",
     "status": "completed"
    },
    "tags": []
   },
   "outputs": [],
   "source": [
    "dataset['positive'] = dataset['positive'] / dataset['sum']\n",
    "dataset['negative'] = dataset['negative'] / dataset['sum']\n",
    "dataset['indecisive'] = dataset['indecisive'] / dataset['sum']"
   ]
  },
  {
   "cell_type": "code",
   "execution_count": 11,
   "id": "99e80231",
   "metadata": {
    "execution": {
     "iopub.execute_input": "2023-12-01T02:06:02.140531Z",
     "iopub.status.busy": "2023-12-01T02:06:02.140105Z",
     "iopub.status.idle": "2023-12-01T02:06:02.146982Z",
     "shell.execute_reply": "2023-12-01T02:06:02.145794Z"
    },
    "papermill": {
     "duration": 0.021351,
     "end_time": "2023-12-01T02:06:02.149489",
     "exception": false,
     "start_time": "2023-12-01T02:06:02.128138",
     "status": "completed"
    },
    "tags": []
   },
   "outputs": [],
   "source": [
    "dataset_sum = dataset.pop('sum')\n",
    "y = dataset.pop('y')\n",
    "x = dataset\n",
    "dates = x.pop('Unnamed: 0')\n"
   ]
  },
  {
   "cell_type": "code",
   "execution_count": 12,
   "id": "ea650413",
   "metadata": {
    "execution": {
     "iopub.execute_input": "2023-12-01T02:06:02.171551Z",
     "iopub.status.busy": "2023-12-01T02:06:02.171132Z",
     "iopub.status.idle": "2023-12-01T02:06:02.184337Z",
     "shell.execute_reply": "2023-12-01T02:06:02.183207Z"
    },
    "papermill": {
     "duration": 0.027216,
     "end_time": "2023-12-01T02:06:02.186703",
     "exception": false,
     "start_time": "2023-12-01T02:06:02.159487",
     "status": "completed"
    },
    "tags": []
   },
   "outputs": [
    {
     "data": {
      "text/html": [
       "<div>\n",
       "<style scoped>\n",
       "    .dataframe tbody tr th:only-of-type {\n",
       "        vertical-align: middle;\n",
       "    }\n",
       "\n",
       "    .dataframe tbody tr th {\n",
       "        vertical-align: top;\n",
       "    }\n",
       "\n",
       "    .dataframe thead th {\n",
       "        text-align: right;\n",
       "    }\n",
       "</style>\n",
       "<table border=\"1\" class=\"dataframe\">\n",
       "  <thead>\n",
       "    <tr style=\"text-align: right;\">\n",
       "      <th></th>\n",
       "      <th>positive</th>\n",
       "      <th>negative</th>\n",
       "      <th>indecisive</th>\n",
       "      <th>score</th>\n",
       "    </tr>\n",
       "  </thead>\n",
       "  <tbody>\n",
       "    <tr>\n",
       "      <th>0</th>\n",
       "      <td>0.785714</td>\n",
       "      <td>0.214286</td>\n",
       "      <td>0.000000</td>\n",
       "      <td>0.571429</td>\n",
       "    </tr>\n",
       "    <tr>\n",
       "      <th>1</th>\n",
       "      <td>0.400000</td>\n",
       "      <td>0.400000</td>\n",
       "      <td>0.200000</td>\n",
       "      <td>0.000000</td>\n",
       "    </tr>\n",
       "    <tr>\n",
       "      <th>2</th>\n",
       "      <td>0.636364</td>\n",
       "      <td>0.272727</td>\n",
       "      <td>0.090909</td>\n",
       "      <td>0.400000</td>\n",
       "    </tr>\n",
       "    <tr>\n",
       "      <th>3</th>\n",
       "      <td>0.642857</td>\n",
       "      <td>0.357143</td>\n",
       "      <td>0.000000</td>\n",
       "      <td>0.285714</td>\n",
       "    </tr>\n",
       "    <tr>\n",
       "      <th>4</th>\n",
       "      <td>0.583333</td>\n",
       "      <td>0.250000</td>\n",
       "      <td>0.166667</td>\n",
       "      <td>0.400000</td>\n",
       "    </tr>\n",
       "  </tbody>\n",
       "</table>\n",
       "</div>"
      ],
      "text/plain": [
       "   positive  negative  indecisive     score\n",
       "0  0.785714  0.214286    0.000000  0.571429\n",
       "1  0.400000  0.400000    0.200000  0.000000\n",
       "2  0.636364  0.272727    0.090909  0.400000\n",
       "3  0.642857  0.357143    0.000000  0.285714\n",
       "4  0.583333  0.250000    0.166667  0.400000"
      ]
     },
     "execution_count": 12,
     "metadata": {},
     "output_type": "execute_result"
    }
   ],
   "source": [
    "x.head()"
   ]
  },
  {
   "cell_type": "code",
   "execution_count": 13,
   "id": "9d5d819a",
   "metadata": {
    "execution": {
     "iopub.execute_input": "2023-12-01T02:06:02.209416Z",
     "iopub.status.busy": "2023-12-01T02:06:02.208964Z",
     "iopub.status.idle": "2023-12-01T02:06:02.217674Z",
     "shell.execute_reply": "2023-12-01T02:06:02.216755Z"
    },
    "papermill": {
     "duration": 0.022585,
     "end_time": "2023-12-01T02:06:02.219936",
     "exception": false,
     "start_time": "2023-12-01T02:06:02.197351",
     "status": "completed"
    },
    "tags": []
   },
   "outputs": [
    {
     "data": {
      "text/plain": [
       "0    0.043956\n",
       "1    0.042511\n",
       "2    0.041065\n",
       "3    0.034180\n",
       "4    0.049178\n",
       "Name: y, dtype: float64"
      ]
     },
     "execution_count": 13,
     "metadata": {},
     "output_type": "execute_result"
    }
   ],
   "source": [
    "y.head()"
   ]
  },
  {
   "cell_type": "markdown",
   "id": "ad219812",
   "metadata": {
    "papermill": {
     "duration": 0.010058,
     "end_time": "2023-12-01T02:06:02.240571",
     "exception": false,
     "start_time": "2023-12-01T02:06:02.230513",
     "status": "completed"
    },
    "tags": []
   },
   "source": [
    "# Define model"
   ]
  },
  {
   "cell_type": "code",
   "execution_count": 14,
   "id": "d24673e9",
   "metadata": {
    "execution": {
     "iopub.execute_input": "2023-12-01T02:06:02.263324Z",
     "iopub.status.busy": "2023-12-01T02:06:02.262858Z",
     "iopub.status.idle": "2023-12-01T02:06:02.786202Z",
     "shell.execute_reply": "2023-12-01T02:06:02.784940Z"
    },
    "papermill": {
     "duration": 0.537953,
     "end_time": "2023-12-01T02:06:02.789001",
     "exception": false,
     "start_time": "2023-12-01T02:06:02.251048",
     "status": "completed"
    },
    "tags": []
   },
   "outputs": [],
   "source": [
    "features = 1 # 1D data\n",
    "input_shape = x.shape[1]\n",
    "\n",
    "model = tf.keras.models.Sequential([\n",
    "    layers.LSTM(units=64, input_shape=(input_shape, features)),\n",
    "    layers.Dense(units=1)\n",
    "])\n",
    "\n",
    "loss_function = tf.keras.losses.MeanAbsoluteError()\n",
    "optimiser = tf.keras.optimizers.Adam(learning_rate=0.0001) # changed lr from 0.001\n",
    "model.compile(loss = loss_function, optimizer=optimiser, metrics=['mae'])"
   ]
  },
  {
   "cell_type": "code",
   "execution_count": 15,
   "id": "5d1aa56e",
   "metadata": {
    "execution": {
     "iopub.execute_input": "2023-12-01T02:06:02.813589Z",
     "iopub.status.busy": "2023-12-01T02:06:02.813123Z",
     "iopub.status.idle": "2023-12-01T02:06:02.837353Z",
     "shell.execute_reply": "2023-12-01T02:06:02.835639Z"
    },
    "papermill": {
     "duration": 0.041298,
     "end_time": "2023-12-01T02:06:02.841743",
     "exception": false,
     "start_time": "2023-12-01T02:06:02.800445",
     "status": "completed"
    },
    "tags": []
   },
   "outputs": [
    {
     "name": "stdout",
     "output_type": "stream",
     "text": [
      "Model: \"sequential\"\n",
      "_________________________________________________________________\n",
      " Layer (type)                Output Shape              Param #   \n",
      "=================================================================\n",
      " lstm (LSTM)                 (None, 64)                16896     \n",
      "                                                                 \n",
      " dense (Dense)               (None, 1)                 65        \n",
      "                                                                 \n",
      "=================================================================\n",
      "Total params: 16961 (66.25 KB)\n",
      "Trainable params: 16961 (66.25 KB)\n",
      "Non-trainable params: 0 (0.00 Byte)\n",
      "_________________________________________________________________\n"
     ]
    }
   ],
   "source": [
    "model.summary()"
   ]
  },
  {
   "cell_type": "markdown",
   "id": "ba023f92",
   "metadata": {
    "papermill": {
     "duration": 0.011912,
     "end_time": "2023-12-01T02:06:02.865497",
     "exception": false,
     "start_time": "2023-12-01T02:06:02.853585",
     "status": "completed"
    },
    "tags": []
   },
   "source": [
    "### Test dataset"
   ]
  },
  {
   "cell_type": "code",
   "execution_count": 16,
   "id": "73b8ba6f",
   "metadata": {
    "execution": {
     "iopub.execute_input": "2023-12-01T02:06:02.890573Z",
     "iopub.status.busy": "2023-12-01T02:06:02.890141Z",
     "iopub.status.idle": "2023-12-01T02:06:25.163367Z",
     "shell.execute_reply": "2023-12-01T02:06:25.162135Z"
    },
    "papermill": {
     "duration": 22.289002,
     "end_time": "2023-12-01T02:06:25.166142",
     "exception": false,
     "start_time": "2023-12-01T02:06:02.877140",
     "status": "completed"
    },
    "tags": []
   },
   "outputs": [
    {
     "name": "stdout",
     "output_type": "stream",
     "text": [
      "Epoch 1/50\n",
      "82/82 [==============================] - 3s 4ms/step - loss: 0.0517 - mae: 0.0517\n",
      "Epoch 2/50\n",
      "82/82 [==============================] - 0s 4ms/step - loss: 0.0506 - mae: 0.0506\n",
      "Epoch 3/50\n",
      "82/82 [==============================] - 0s 5ms/step - loss: 0.0502 - mae: 0.0502\n",
      "Epoch 4/50\n",
      "82/82 [==============================] - 0s 5ms/step - loss: 0.0501 - mae: 0.0501\n",
      "Epoch 5/50\n",
      "82/82 [==============================] - 1s 6ms/step - loss: 0.0500 - mae: 0.0500\n",
      "Epoch 6/50\n",
      "82/82 [==============================] - 0s 5ms/step - loss: 0.0501 - mae: 0.0501\n",
      "Epoch 7/50\n",
      "82/82 [==============================] - 0s 5ms/step - loss: 0.0500 - mae: 0.0500\n",
      "Epoch 8/50\n",
      "82/82 [==============================] - 0s 5ms/step - loss: 0.0500 - mae: 0.0500\n",
      "Epoch 9/50\n",
      "82/82 [==============================] - 0s 5ms/step - loss: 0.0500 - mae: 0.0500\n",
      "Epoch 10/50\n",
      "82/82 [==============================] - 0s 5ms/step - loss: 0.0500 - mae: 0.0500\n",
      "Epoch 11/50\n",
      "82/82 [==============================] - 0s 5ms/step - loss: 0.0500 - mae: 0.0500\n",
      "Epoch 12/50\n",
      "82/82 [==============================] - 0s 4ms/step - loss: 0.0500 - mae: 0.0500\n",
      "Epoch 13/50\n",
      "82/82 [==============================] - 0s 4ms/step - loss: 0.0500 - mae: 0.0500\n",
      "Epoch 14/50\n",
      "82/82 [==============================] - 0s 4ms/step - loss: 0.0500 - mae: 0.0500\n",
      "Epoch 15/50\n",
      "82/82 [==============================] - 0s 4ms/step - loss: 0.0500 - mae: 0.0500\n",
      "Epoch 16/50\n",
      "82/82 [==============================] - 0s 4ms/step - loss: 0.0500 - mae: 0.0500\n",
      "Epoch 17/50\n",
      "82/82 [==============================] - 0s 5ms/step - loss: 0.0500 - mae: 0.0500\n",
      "Epoch 18/50\n",
      "82/82 [==============================] - 0s 4ms/step - loss: 0.0501 - mae: 0.0501\n",
      "Epoch 19/50\n",
      "82/82 [==============================] - 0s 5ms/step - loss: 0.0500 - mae: 0.0500\n",
      "Epoch 20/50\n",
      "82/82 [==============================] - 0s 5ms/step - loss: 0.0500 - mae: 0.0500\n",
      "Epoch 21/50\n",
      "82/82 [==============================] - 0s 4ms/step - loss: 0.0500 - mae: 0.0500\n",
      "Epoch 22/50\n",
      "82/82 [==============================] - 0s 5ms/step - loss: 0.0500 - mae: 0.0500\n",
      "Epoch 23/50\n",
      "82/82 [==============================] - 0s 4ms/step - loss: 0.0500 - mae: 0.0500\n",
      "Epoch 24/50\n",
      "82/82 [==============================] - 0s 5ms/step - loss: 0.0500 - mae: 0.0500\n",
      "Epoch 25/50\n",
      "82/82 [==============================] - 0s 5ms/step - loss: 0.0500 - mae: 0.0500\n",
      "Epoch 26/50\n",
      "82/82 [==============================] - 0s 5ms/step - loss: 0.0500 - mae: 0.0500\n",
      "Epoch 27/50\n",
      "82/82 [==============================] - 0s 4ms/step - loss: 0.0499 - mae: 0.0499\n",
      "Epoch 28/50\n",
      "82/82 [==============================] - 0s 5ms/step - loss: 0.0500 - mae: 0.0500\n",
      "Epoch 29/50\n",
      "82/82 [==============================] - 0s 4ms/step - loss: 0.0500 - mae: 0.0500\n",
      "Epoch 30/50\n",
      "82/82 [==============================] - 0s 5ms/step - loss: 0.0500 - mae: 0.0500\n",
      "Epoch 31/50\n",
      "82/82 [==============================] - 0s 5ms/step - loss: 0.0500 - mae: 0.0500\n",
      "Epoch 32/50\n",
      "82/82 [==============================] - 0s 4ms/step - loss: 0.0500 - mae: 0.0500\n",
      "Epoch 33/50\n",
      "82/82 [==============================] - 0s 5ms/step - loss: 0.0500 - mae: 0.0500\n",
      "Epoch 34/50\n",
      "82/82 [==============================] - 0s 5ms/step - loss: 0.0500 - mae: 0.0500\n",
      "Epoch 35/50\n",
      "82/82 [==============================] - 0s 4ms/step - loss: 0.0501 - mae: 0.0501\n",
      "Epoch 36/50\n",
      "82/82 [==============================] - 0s 4ms/step - loss: 0.0500 - mae: 0.0500\n",
      "Epoch 37/50\n",
      "82/82 [==============================] - 0s 5ms/step - loss: 0.0499 - mae: 0.0499\n",
      "Epoch 38/50\n",
      "82/82 [==============================] - 0s 5ms/step - loss: 0.0500 - mae: 0.0500\n",
      "Epoch 39/50\n",
      "82/82 [==============================] - 0s 4ms/step - loss: 0.0500 - mae: 0.0500\n",
      "Epoch 40/50\n",
      "82/82 [==============================] - 0s 5ms/step - loss: 0.0500 - mae: 0.0500\n",
      "Epoch 41/50\n",
      "82/82 [==============================] - 0s 5ms/step - loss: 0.0500 - mae: 0.0500\n",
      "Epoch 42/50\n",
      "82/82 [==============================] - 0s 5ms/step - loss: 0.0500 - mae: 0.0500\n",
      "Epoch 43/50\n",
      "82/82 [==============================] - 0s 5ms/step - loss: 0.0500 - mae: 0.0500\n",
      "Epoch 44/50\n",
      "82/82 [==============================] - 0s 4ms/step - loss: 0.0500 - mae: 0.0500\n",
      "Epoch 45/50\n",
      "82/82 [==============================] - 0s 5ms/step - loss: 0.0500 - mae: 0.0500\n",
      "Epoch 46/50\n",
      "82/82 [==============================] - 0s 4ms/step - loss: 0.0499 - mae: 0.0499\n",
      "Epoch 47/50\n",
      "82/82 [==============================] - 0s 5ms/step - loss: 0.0500 - mae: 0.0500\n",
      "Epoch 48/50\n",
      "82/82 [==============================] - 0s 5ms/step - loss: 0.0500 - mae: 0.0500\n",
      "Epoch 49/50\n",
      "82/82 [==============================] - 0s 5ms/step - loss: 0.0500 - mae: 0.0500\n",
      "Epoch 50/50\n",
      "82/82 [==============================] - 0s 4ms/step - loss: 0.0499 - mae: 0.0499\n"
     ]
    },
    {
     "data": {
      "text/plain": [
       "<keras.src.callbacks.History at 0x7be2d4c71240>"
      ]
     },
     "execution_count": 16,
     "metadata": {},
     "output_type": "execute_result"
    }
   ],
   "source": [
    "model.fit(x, y, epochs=50, batch_size=32)"
   ]
  },
  {
   "cell_type": "markdown",
   "id": "839b5f87",
   "metadata": {
    "papermill": {
     "duration": 0.057234,
     "end_time": "2023-12-01T02:06:25.280909",
     "exception": false,
     "start_time": "2023-12-01T02:06:25.223675",
     "status": "completed"
    },
    "tags": []
   },
   "source": [
    "# Generate submission"
   ]
  },
  {
   "cell_type": "code",
   "execution_count": 17,
   "id": "1843df9a",
   "metadata": {
    "execution": {
     "iopub.execute_input": "2023-12-01T02:06:25.463505Z",
     "iopub.status.busy": "2023-12-01T02:06:25.463037Z",
     "iopub.status.idle": "2023-12-01T02:06:25.478362Z",
     "shell.execute_reply": "2023-12-01T02:06:25.477135Z"
    },
    "papermill": {
     "duration": 0.143927,
     "end_time": "2023-12-01T02:06:25.481257",
     "exception": false,
     "start_time": "2023-12-01T02:06:25.337330",
     "status": "completed"
    },
    "tags": []
   },
   "outputs": [],
   "source": [
    "test_dataset = pd.read_csv(\"/kaggle/input/2023-psl-week-using-bloomberg-news/test.csv\")\n",
    "dates = test_dataset.pop('Unnamed: 0')"
   ]
  },
  {
   "cell_type": "code",
   "execution_count": 18,
   "id": "9d7f484b",
   "metadata": {
    "execution": {
     "iopub.execute_input": "2023-12-01T02:06:25.598126Z",
     "iopub.status.busy": "2023-12-01T02:06:25.597279Z",
     "iopub.status.idle": "2023-12-01T02:06:25.606674Z",
     "shell.execute_reply": "2023-12-01T02:06:25.605782Z"
    },
    "papermill": {
     "duration": 0.070396,
     "end_time": "2023-12-01T02:06:25.609071",
     "exception": false,
     "start_time": "2023-12-01T02:06:25.538675",
     "status": "completed"
    },
    "tags": []
   },
   "outputs": [],
   "source": [
    "test_dataset['sum'] = test_dataset['positive'] + test_dataset['negative'] + test_dataset['indecisive']\n",
    "\n",
    "test_dataset['positive'] = test_dataset['positive'] / test_dataset['sum']\n",
    "test_dataset['negative'] = test_dataset['negative'] / test_dataset['sum']\n",
    "test_dataset['indecisive'] = test_dataset['indecisive'] / test_dataset['sum']\n",
    "\n",
    "test_dataset_sum = test_dataset.pop('sum')"
   ]
  },
  {
   "cell_type": "code",
   "execution_count": 19,
   "id": "1ea43d8f",
   "metadata": {
    "execution": {
     "iopub.execute_input": "2023-12-01T02:06:25.727243Z",
     "iopub.status.busy": "2023-12-01T02:06:25.726446Z",
     "iopub.status.idle": "2023-12-01T02:06:25.739310Z",
     "shell.execute_reply": "2023-12-01T02:06:25.737994Z"
    },
    "papermill": {
     "duration": 0.074698,
     "end_time": "2023-12-01T02:06:25.742062",
     "exception": false,
     "start_time": "2023-12-01T02:06:25.667364",
     "status": "completed"
    },
    "tags": []
   },
   "outputs": [
    {
     "data": {
      "text/html": [
       "<div>\n",
       "<style scoped>\n",
       "    .dataframe tbody tr th:only-of-type {\n",
       "        vertical-align: middle;\n",
       "    }\n",
       "\n",
       "    .dataframe tbody tr th {\n",
       "        vertical-align: top;\n",
       "    }\n",
       "\n",
       "    .dataframe thead th {\n",
       "        text-align: right;\n",
       "    }\n",
       "</style>\n",
       "<table border=\"1\" class=\"dataframe\">\n",
       "  <thead>\n",
       "    <tr style=\"text-align: right;\">\n",
       "      <th></th>\n",
       "      <th>positive</th>\n",
       "      <th>negative</th>\n",
       "      <th>indecisive</th>\n",
       "      <th>score</th>\n",
       "    </tr>\n",
       "  </thead>\n",
       "  <tbody>\n",
       "    <tr>\n",
       "      <th>0</th>\n",
       "      <td>0.583333</td>\n",
       "      <td>0.250000</td>\n",
       "      <td>0.166667</td>\n",
       "      <td>0.400000</td>\n",
       "    </tr>\n",
       "    <tr>\n",
       "      <th>1</th>\n",
       "      <td>0.071429</td>\n",
       "      <td>0.785714</td>\n",
       "      <td>0.142857</td>\n",
       "      <td>-0.833333</td>\n",
       "    </tr>\n",
       "    <tr>\n",
       "      <th>2</th>\n",
       "      <td>0.500000</td>\n",
       "      <td>0.357143</td>\n",
       "      <td>0.142857</td>\n",
       "      <td>0.166667</td>\n",
       "    </tr>\n",
       "    <tr>\n",
       "      <th>3</th>\n",
       "      <td>0.357143</td>\n",
       "      <td>0.428571</td>\n",
       "      <td>0.214286</td>\n",
       "      <td>-0.090909</td>\n",
       "    </tr>\n",
       "    <tr>\n",
       "      <th>4</th>\n",
       "      <td>0.642857</td>\n",
       "      <td>0.214286</td>\n",
       "      <td>0.142857</td>\n",
       "      <td>0.500000</td>\n",
       "    </tr>\n",
       "  </tbody>\n",
       "</table>\n",
       "</div>"
      ],
      "text/plain": [
       "   positive  negative  indecisive     score\n",
       "0  0.583333  0.250000    0.166667  0.400000\n",
       "1  0.071429  0.785714    0.142857 -0.833333\n",
       "2  0.500000  0.357143    0.142857  0.166667\n",
       "3  0.357143  0.428571    0.214286 -0.090909\n",
       "4  0.642857  0.214286    0.142857  0.500000"
      ]
     },
     "execution_count": 19,
     "metadata": {},
     "output_type": "execute_result"
    }
   ],
   "source": [
    "test_dataset.head()"
   ]
  },
  {
   "cell_type": "code",
   "execution_count": 20,
   "id": "e1e9f663",
   "metadata": {
    "execution": {
     "iopub.execute_input": "2023-12-01T02:06:25.861068Z",
     "iopub.status.busy": "2023-12-01T02:06:25.860606Z",
     "iopub.status.idle": "2023-12-01T02:06:26.519121Z",
     "shell.execute_reply": "2023-12-01T02:06:26.517881Z"
    },
    "papermill": {
     "duration": 0.72157,
     "end_time": "2023-12-01T02:06:26.522126",
     "exception": false,
     "start_time": "2023-12-01T02:06:25.800556",
     "status": "completed"
    },
    "tags": []
   },
   "outputs": [
    {
     "name": "stdout",
     "output_type": "stream",
     "text": [
      "30/30 [==============================] - 1s 2ms/step\n"
     ]
    }
   ],
   "source": [
    "predictions = model.predict(test_dataset)"
   ]
  },
  {
   "cell_type": "code",
   "execution_count": 21,
   "id": "02161fd5",
   "metadata": {
    "execution": {
     "iopub.execute_input": "2023-12-01T02:06:26.641576Z",
     "iopub.status.busy": "2023-12-01T02:06:26.641095Z",
     "iopub.status.idle": "2023-12-01T02:06:26.650831Z",
     "shell.execute_reply": "2023-12-01T02:06:26.649170Z"
    },
    "papermill": {
     "duration": 0.072394,
     "end_time": "2023-12-01T02:06:26.653607",
     "exception": false,
     "start_time": "2023-12-01T02:06:26.581213",
     "status": "completed"
    },
    "tags": []
   },
   "outputs": [],
   "source": [
    "submission = pd.DataFrame()\n",
    "submission['date'] = dates\n",
    "submission['y'] = predictions"
   ]
  },
  {
   "cell_type": "code",
   "execution_count": 22,
   "id": "9a5e33e7",
   "metadata": {
    "execution": {
     "iopub.execute_input": "2023-12-01T02:06:26.771140Z",
     "iopub.status.busy": "2023-12-01T02:06:26.770684Z",
     "iopub.status.idle": "2023-12-01T02:06:26.781727Z",
     "shell.execute_reply": "2023-12-01T02:06:26.780628Z"
    },
    "papermill": {
     "duration": 0.072297,
     "end_time": "2023-12-01T02:06:26.784004",
     "exception": false,
     "start_time": "2023-12-01T02:06:26.711707",
     "status": "completed"
    },
    "tags": []
   },
   "outputs": [
    {
     "data": {
      "text/html": [
       "<div>\n",
       "<style scoped>\n",
       "    .dataframe tbody tr th:only-of-type {\n",
       "        vertical-align: middle;\n",
       "    }\n",
       "\n",
       "    .dataframe tbody tr th {\n",
       "        vertical-align: top;\n",
       "    }\n",
       "\n",
       "    .dataframe thead th {\n",
       "        text-align: right;\n",
       "    }\n",
       "</style>\n",
       "<table border=\"1\" class=\"dataframe\">\n",
       "  <thead>\n",
       "    <tr style=\"text-align: right;\">\n",
       "      <th></th>\n",
       "      <th>date</th>\n",
       "      <th>y</th>\n",
       "    </tr>\n",
       "  </thead>\n",
       "  <tbody>\n",
       "    <tr>\n",
       "      <th>0</th>\n",
       "      <td>2020-01-02</td>\n",
       "      <td>0.041269</td>\n",
       "    </tr>\n",
       "    <tr>\n",
       "      <th>1</th>\n",
       "      <td>2020-01-03</td>\n",
       "      <td>0.045125</td>\n",
       "    </tr>\n",
       "    <tr>\n",
       "      <th>2</th>\n",
       "      <td>2020-01-06</td>\n",
       "      <td>0.042873</td>\n",
       "    </tr>\n",
       "    <tr>\n",
       "      <th>3</th>\n",
       "      <td>2020-01-07</td>\n",
       "      <td>0.043875</td>\n",
       "    </tr>\n",
       "    <tr>\n",
       "      <th>4</th>\n",
       "      <td>2020-01-08</td>\n",
       "      <td>0.040617</td>\n",
       "    </tr>\n",
       "  </tbody>\n",
       "</table>\n",
       "</div>"
      ],
      "text/plain": [
       "         date         y\n",
       "0  2020-01-02  0.041269\n",
       "1  2020-01-03  0.045125\n",
       "2  2020-01-06  0.042873\n",
       "3  2020-01-07  0.043875\n",
       "4  2020-01-08  0.040617"
      ]
     },
     "execution_count": 22,
     "metadata": {},
     "output_type": "execute_result"
    }
   ],
   "source": [
    "submission.head()"
   ]
  },
  {
   "cell_type": "code",
   "execution_count": 23,
   "id": "e0b3425b",
   "metadata": {
    "execution": {
     "iopub.execute_input": "2023-12-01T02:06:26.903661Z",
     "iopub.status.busy": "2023-12-01T02:06:26.903266Z",
     "iopub.status.idle": "2023-12-01T02:06:26.919506Z",
     "shell.execute_reply": "2023-12-01T02:06:26.918430Z"
    },
    "papermill": {
     "duration": 0.079974,
     "end_time": "2023-12-01T02:06:26.922021",
     "exception": false,
     "start_time": "2023-12-01T02:06:26.842047",
     "status": "completed"
    },
    "tags": []
   },
   "outputs": [
    {
     "data": {
      "text/html": [
       "<div>\n",
       "<style scoped>\n",
       "    .dataframe tbody tr th:only-of-type {\n",
       "        vertical-align: middle;\n",
       "    }\n",
       "\n",
       "    .dataframe tbody tr th {\n",
       "        vertical-align: top;\n",
       "    }\n",
       "\n",
       "    .dataframe thead th {\n",
       "        text-align: right;\n",
       "    }\n",
       "</style>\n",
       "<table border=\"1\" class=\"dataframe\">\n",
       "  <thead>\n",
       "    <tr style=\"text-align: right;\">\n",
       "      <th></th>\n",
       "      <th>y</th>\n",
       "    </tr>\n",
       "  </thead>\n",
       "  <tbody>\n",
       "    <tr>\n",
       "      <th>count</th>\n",
       "      <td>957.000000</td>\n",
       "    </tr>\n",
       "    <tr>\n",
       "      <th>mean</th>\n",
       "      <td>0.043247</td>\n",
       "    </tr>\n",
       "    <tr>\n",
       "      <th>std</th>\n",
       "      <td>0.002076</td>\n",
       "    </tr>\n",
       "    <tr>\n",
       "      <th>min</th>\n",
       "      <td>0.035111</td>\n",
       "    </tr>\n",
       "    <tr>\n",
       "      <th>25%</th>\n",
       "      <td>0.042161</td>\n",
       "    </tr>\n",
       "    <tr>\n",
       "      <th>50%</th>\n",
       "      <td>0.043995</td>\n",
       "    </tr>\n",
       "    <tr>\n",
       "      <th>75%</th>\n",
       "      <td>0.044720</td>\n",
       "    </tr>\n",
       "    <tr>\n",
       "      <th>max</th>\n",
       "      <td>0.045651</td>\n",
       "    </tr>\n",
       "  </tbody>\n",
       "</table>\n",
       "</div>"
      ],
      "text/plain": [
       "                y\n",
       "count  957.000000\n",
       "mean     0.043247\n",
       "std      0.002076\n",
       "min      0.035111\n",
       "25%      0.042161\n",
       "50%      0.043995\n",
       "75%      0.044720\n",
       "max      0.045651"
      ]
     },
     "execution_count": 23,
     "metadata": {},
     "output_type": "execute_result"
    }
   ],
   "source": [
    "submission.describe()"
   ]
  },
  {
   "cell_type": "code",
   "execution_count": 24,
   "id": "14360374",
   "metadata": {
    "execution": {
     "iopub.execute_input": "2023-12-01T02:06:27.040880Z",
     "iopub.status.busy": "2023-12-01T02:06:27.040468Z",
     "iopub.status.idle": "2023-12-01T02:06:27.053590Z",
     "shell.execute_reply": "2023-12-01T02:06:27.052177Z"
    },
    "papermill": {
     "duration": 0.075886,
     "end_time": "2023-12-01T02:06:27.056428",
     "exception": false,
     "start_time": "2023-12-01T02:06:26.980542",
     "status": "completed"
    },
    "tags": []
   },
   "outputs": [],
   "source": [
    "submission.to_csv('/kaggle/working/submission.csv',index=False,header=True)"
   ]
  }
 ],
 "metadata": {
  "kaggle": {
   "accelerator": "none",
   "dataSources": [
    {
     "databundleVersionId": 7177891,
     "sourceId": 65279,
     "sourceType": "competition"
    }
   ],
   "dockerImageVersionId": 30587,
   "isGpuEnabled": false,
   "isInternetEnabled": true,
   "language": "python",
   "sourceType": "notebook"
  },
  "kernelspec": {
   "display_name": "Python 3",
   "language": "python",
   "name": "python3"
  },
  "language_info": {
   "codemirror_mode": {
    "name": "ipython",
    "version": 3
   },
   "file_extension": ".py",
   "mimetype": "text/x-python",
   "name": "python",
   "nbconvert_exporter": "python",
   "pygments_lexer": "ipython3",
   "version": "3.10.12"
  },
  "papermill": {
   "default_parameters": {},
   "duration": 48.456233,
   "end_time": "2023-12-01T02:06:28.740957",
   "environment_variables": {},
   "exception": null,
   "input_path": "__notebook__.ipynb",
   "output_path": "__notebook__.ipynb",
   "parameters": {},
   "start_time": "2023-12-01T02:05:40.284724",
   "version": "2.4.0"
  }
 },
 "nbformat": 4,
 "nbformat_minor": 5
}
