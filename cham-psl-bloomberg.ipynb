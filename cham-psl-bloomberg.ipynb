{
 "cells": [
  {
   "cell_type": "code",
   "execution_count": 1,
   "id": "aaf7d129",
   "metadata": {
    "_cell_guid": "b1076dfc-b9ad-4769-8c92-a6c4dae69d19",
    "_uuid": "8f2839f25d086af736a60e9eeb907d3b93b6e0e5",
    "execution": {
     "iopub.execute_input": "2023-12-01T02:30:02.525975Z",
     "iopub.status.busy": "2023-12-01T02:30:02.525382Z",
     "iopub.status.idle": "2023-12-01T02:30:15.664328Z",
     "shell.execute_reply": "2023-12-01T02:30:15.663012Z"
    },
    "papermill": {
     "duration": 13.150087,
     "end_time": "2023-12-01T02:30:15.666821",
     "exception": false,
     "start_time": "2023-12-01T02:30:02.516734",
     "status": "completed"
    },
    "tags": []
   },
   "outputs": [
    {
     "name": "stdout",
     "output_type": "stream",
     "text": [
      "/kaggle/input/2023-psl-week-using-bloomberg-news/train.csv\n",
      "/kaggle/input/2023-psl-week-using-bloomberg-news/test.csv\n"
     ]
    }
   ],
   "source": [
    "# This Python 3 environment comes with many helpful analytics libraries installed\n",
    "# It is defined by the kaggle/python Docker image: https://github.com/kaggle/docker-python\n",
    "# For example, here's several helpful packages to load\n",
    "\n",
    "import numpy as np # linear algebra\n",
    "import pandas as pd # data processing, CSV file I/O (e.g. pd.read_csv)\n",
    "import matplotlib.pyplot as plt\n",
    "\n",
    "import matplotlib.pyplot as plt\n",
    "\n",
    "import tensorflow as tf\n",
    "import tensorflow.keras.layers as layers\n",
    "\n",
    "\n",
    "# Input data files are available in the read-only \"../input/\" directory\n",
    "# For example, running this (by clicking run or pressing Shift+Enter) will list all files under the input directory\n",
    "\n",
    "import os\n",
    "for dirname, _, filenames in os.walk('/kaggle/input'):\n",
    "    for filename in filenames:\n",
    "        print(os.path.join(dirname, filename))\n",
    "\n",
    "# You can write up to 20GB to the current directory (/kaggle/working/) that gets preserved as output when you create a version using \"Save & Run All\" \n",
    "# You can also write temporary files to /kaggle/temp/, but they won't be saved outside of the current session"
   ]
  },
  {
   "cell_type": "markdown",
   "id": "46f7db60",
   "metadata": {
    "papermill": {
     "duration": 0.005782,
     "end_time": "2023-12-01T02:30:15.679191",
     "exception": false,
     "start_time": "2023-12-01T02:30:15.673409",
     "status": "completed"
    },
    "tags": []
   },
   "source": [
    "# Load dataset"
   ]
  },
  {
   "cell_type": "code",
   "execution_count": 2,
   "id": "e46959f8",
   "metadata": {
    "execution": {
     "iopub.execute_input": "2023-12-01T02:30:15.692913Z",
     "iopub.status.busy": "2023-12-01T02:30:15.692303Z",
     "iopub.status.idle": "2023-12-01T02:30:15.710236Z",
     "shell.execute_reply": "2023-12-01T02:30:15.708866Z"
    },
    "papermill": {
     "duration": 0.027658,
     "end_time": "2023-12-01T02:30:15.712834",
     "exception": false,
     "start_time": "2023-12-01T02:30:15.685176",
     "status": "completed"
    },
    "tags": []
   },
   "outputs": [],
   "source": [
    "filepath = \"/kaggle/input/2023-psl-week-using-bloomberg-news/train.csv\"\n",
    "\n",
    "dataset = pd.read_csv(filepath)"
   ]
  },
  {
   "cell_type": "code",
   "execution_count": 3,
   "id": "9d9db3da",
   "metadata": {
    "execution": {
     "iopub.execute_input": "2023-12-01T02:30:15.728806Z",
     "iopub.status.busy": "2023-12-01T02:30:15.727987Z",
     "iopub.status.idle": "2023-12-01T02:30:15.753078Z",
     "shell.execute_reply": "2023-12-01T02:30:15.751691Z"
    },
    "papermill": {
     "duration": 0.035117,
     "end_time": "2023-12-01T02:30:15.755090",
     "exception": false,
     "start_time": "2023-12-01T02:30:15.719973",
     "status": "completed"
    },
    "tags": []
   },
   "outputs": [
    {
     "data": {
      "text/html": [
       "<div>\n",
       "<style scoped>\n",
       "    .dataframe tbody tr th:only-of-type {\n",
       "        vertical-align: middle;\n",
       "    }\n",
       "\n",
       "    .dataframe tbody tr th {\n",
       "        vertical-align: top;\n",
       "    }\n",
       "\n",
       "    .dataframe thead th {\n",
       "        text-align: right;\n",
       "    }\n",
       "</style>\n",
       "<table border=\"1\" class=\"dataframe\">\n",
       "  <thead>\n",
       "    <tr style=\"text-align: right;\">\n",
       "      <th></th>\n",
       "      <th>Unnamed: 0</th>\n",
       "      <th>positive</th>\n",
       "      <th>negative</th>\n",
       "      <th>indecisive</th>\n",
       "      <th>score</th>\n",
       "      <th>y</th>\n",
       "    </tr>\n",
       "  </thead>\n",
       "  <tbody>\n",
       "    <tr>\n",
       "      <th>0</th>\n",
       "      <td>2010-01-04</td>\n",
       "      <td>11.0</td>\n",
       "      <td>3.0</td>\n",
       "      <td>0.0</td>\n",
       "      <td>0.571429</td>\n",
       "      <td>0.043956</td>\n",
       "    </tr>\n",
       "    <tr>\n",
       "      <th>1</th>\n",
       "      <td>2010-01-05</td>\n",
       "      <td>6.0</td>\n",
       "      <td>6.0</td>\n",
       "      <td>3.0</td>\n",
       "      <td>0.000000</td>\n",
       "      <td>0.042511</td>\n",
       "    </tr>\n",
       "    <tr>\n",
       "      <th>2</th>\n",
       "      <td>2010-01-06</td>\n",
       "      <td>7.0</td>\n",
       "      <td>3.0</td>\n",
       "      <td>1.0</td>\n",
       "      <td>0.400000</td>\n",
       "      <td>0.041065</td>\n",
       "    </tr>\n",
       "    <tr>\n",
       "      <th>3</th>\n",
       "      <td>2010-01-07</td>\n",
       "      <td>9.0</td>\n",
       "      <td>5.0</td>\n",
       "      <td>0.0</td>\n",
       "      <td>0.285714</td>\n",
       "      <td>0.034180</td>\n",
       "    </tr>\n",
       "    <tr>\n",
       "      <th>4</th>\n",
       "      <td>2010-01-08</td>\n",
       "      <td>7.0</td>\n",
       "      <td>3.0</td>\n",
       "      <td>2.0</td>\n",
       "      <td>0.400000</td>\n",
       "      <td>0.049178</td>\n",
       "    </tr>\n",
       "  </tbody>\n",
       "</table>\n",
       "</div>"
      ],
      "text/plain": [
       "   Unnamed: 0  positive  negative  indecisive     score         y\n",
       "0  2010-01-04      11.0       3.0         0.0  0.571429  0.043956\n",
       "1  2010-01-05       6.0       6.0         3.0  0.000000  0.042511\n",
       "2  2010-01-06       7.0       3.0         1.0  0.400000  0.041065\n",
       "3  2010-01-07       9.0       5.0         0.0  0.285714  0.034180\n",
       "4  2010-01-08       7.0       3.0         2.0  0.400000  0.049178"
      ]
     },
     "execution_count": 3,
     "metadata": {},
     "output_type": "execute_result"
    }
   ],
   "source": [
    "dataset.head()"
   ]
  },
  {
   "cell_type": "code",
   "execution_count": 4,
   "id": "05ef3ab9",
   "metadata": {
    "execution": {
     "iopub.execute_input": "2023-12-01T02:30:15.769853Z",
     "iopub.status.busy": "2023-12-01T02:30:15.769499Z",
     "iopub.status.idle": "2023-12-01T02:30:15.795723Z",
     "shell.execute_reply": "2023-12-01T02:30:15.794322Z"
    },
    "papermill": {
     "duration": 0.036115,
     "end_time": "2023-12-01T02:30:15.798027",
     "exception": false,
     "start_time": "2023-12-01T02:30:15.761912",
     "status": "completed"
    },
    "tags": []
   },
   "outputs": [
    {
     "name": "stdout",
     "output_type": "stream",
     "text": [
      "<class 'pandas.core.frame.DataFrame'>\n",
      "RangeIndex: 2594 entries, 0 to 2593\n",
      "Data columns (total 6 columns):\n",
      " #   Column      Non-Null Count  Dtype  \n",
      "---  ------      --------------  -----  \n",
      " 0   Unnamed: 0  2594 non-null   object \n",
      " 1   positive    2594 non-null   float64\n",
      " 2   negative    2594 non-null   float64\n",
      " 3   indecisive  2594 non-null   float64\n",
      " 4   score       2594 non-null   float64\n",
      " 5   y           2594 non-null   float64\n",
      "dtypes: float64(5), object(1)\n",
      "memory usage: 121.7+ KB\n"
     ]
    }
   ],
   "source": [
    "dataset.info()"
   ]
  },
  {
   "cell_type": "code",
   "execution_count": 5,
   "id": "a3b7d1b4",
   "metadata": {
    "execution": {
     "iopub.execute_input": "2023-12-01T02:30:15.813501Z",
     "iopub.status.busy": "2023-12-01T02:30:15.812568Z",
     "iopub.status.idle": "2023-12-01T02:30:15.827029Z",
     "shell.execute_reply": "2023-12-01T02:30:15.826130Z"
    },
    "papermill": {
     "duration": 0.024215,
     "end_time": "2023-12-01T02:30:15.829011",
     "exception": false,
     "start_time": "2023-12-01T02:30:15.804796",
     "status": "completed"
    },
    "tags": []
   },
   "outputs": [
    {
     "data": {
      "text/html": [
       "<div>\n",
       "<style scoped>\n",
       "    .dataframe tbody tr th:only-of-type {\n",
       "        vertical-align: middle;\n",
       "    }\n",
       "\n",
       "    .dataframe tbody tr th {\n",
       "        vertical-align: top;\n",
       "    }\n",
       "\n",
       "    .dataframe thead th {\n",
       "        text-align: right;\n",
       "    }\n",
       "</style>\n",
       "<table border=\"1\" class=\"dataframe\">\n",
       "  <thead>\n",
       "    <tr style=\"text-align: right;\">\n",
       "      <th></th>\n",
       "      <th>Unnamed: 0</th>\n",
       "      <th>positive</th>\n",
       "      <th>negative</th>\n",
       "      <th>indecisive</th>\n",
       "      <th>score</th>\n",
       "      <th>y</th>\n",
       "      <th>sum</th>\n",
       "    </tr>\n",
       "  </thead>\n",
       "  <tbody>\n",
       "    <tr>\n",
       "      <th>0</th>\n",
       "      <td>2010-01-04</td>\n",
       "      <td>11.0</td>\n",
       "      <td>3.0</td>\n",
       "      <td>0.0</td>\n",
       "      <td>0.571429</td>\n",
       "      <td>0.043956</td>\n",
       "      <td>14.0</td>\n",
       "    </tr>\n",
       "    <tr>\n",
       "      <th>1</th>\n",
       "      <td>2010-01-05</td>\n",
       "      <td>6.0</td>\n",
       "      <td>6.0</td>\n",
       "      <td>3.0</td>\n",
       "      <td>0.000000</td>\n",
       "      <td>0.042511</td>\n",
       "      <td>15.0</td>\n",
       "    </tr>\n",
       "    <tr>\n",
       "      <th>2</th>\n",
       "      <td>2010-01-06</td>\n",
       "      <td>7.0</td>\n",
       "      <td>3.0</td>\n",
       "      <td>1.0</td>\n",
       "      <td>0.400000</td>\n",
       "      <td>0.041065</td>\n",
       "      <td>11.0</td>\n",
       "    </tr>\n",
       "    <tr>\n",
       "      <th>3</th>\n",
       "      <td>2010-01-07</td>\n",
       "      <td>9.0</td>\n",
       "      <td>5.0</td>\n",
       "      <td>0.0</td>\n",
       "      <td>0.285714</td>\n",
       "      <td>0.034180</td>\n",
       "      <td>14.0</td>\n",
       "    </tr>\n",
       "    <tr>\n",
       "      <th>4</th>\n",
       "      <td>2010-01-08</td>\n",
       "      <td>7.0</td>\n",
       "      <td>3.0</td>\n",
       "      <td>2.0</td>\n",
       "      <td>0.400000</td>\n",
       "      <td>0.049178</td>\n",
       "      <td>12.0</td>\n",
       "    </tr>\n",
       "  </tbody>\n",
       "</table>\n",
       "</div>"
      ],
      "text/plain": [
       "   Unnamed: 0  positive  negative  indecisive     score         y   sum\n",
       "0  2010-01-04      11.0       3.0         0.0  0.571429  0.043956  14.0\n",
       "1  2010-01-05       6.0       6.0         3.0  0.000000  0.042511  15.0\n",
       "2  2010-01-06       7.0       3.0         1.0  0.400000  0.041065  11.0\n",
       "3  2010-01-07       9.0       5.0         0.0  0.285714  0.034180  14.0\n",
       "4  2010-01-08       7.0       3.0         2.0  0.400000  0.049178  12.0"
      ]
     },
     "execution_count": 5,
     "metadata": {},
     "output_type": "execute_result"
    }
   ],
   "source": [
    "dataset['sum'] = dataset['positive'] + dataset['negative'] + dataset['indecisive']\n",
    "dataset.head(5)"
   ]
  },
  {
   "cell_type": "code",
   "execution_count": 6,
   "id": "0b66d33f",
   "metadata": {
    "execution": {
     "iopub.execute_input": "2023-12-01T02:30:15.844499Z",
     "iopub.status.busy": "2023-12-01T02:30:15.844081Z",
     "iopub.status.idle": "2023-12-01T02:30:15.848671Z",
     "shell.execute_reply": "2023-12-01T02:30:15.847371Z"
    },
    "papermill": {
     "duration": 0.015475,
     "end_time": "2023-12-01T02:30:15.851354",
     "exception": false,
     "start_time": "2023-12-01T02:30:15.835879",
     "status": "completed"
    },
    "tags": []
   },
   "outputs": [],
   "source": [
    "# plt.plot(dataset['Unnamed: 0'], dataset['positive'])\n",
    "# plt.plot(dataset['Unnamed: 0'], dataset['negative'])\n",
    "# plt.plot(dataset['Unnamed: 0'], dataset['indecisive'])"
   ]
  },
  {
   "cell_type": "code",
   "execution_count": 7,
   "id": "d68396be",
   "metadata": {
    "execution": {
     "iopub.execute_input": "2023-12-01T02:30:15.867533Z",
     "iopub.status.busy": "2023-12-01T02:30:15.866249Z",
     "iopub.status.idle": "2023-12-01T02:30:15.893750Z",
     "shell.execute_reply": "2023-12-01T02:30:15.892716Z"
    },
    "papermill": {
     "duration": 0.037459,
     "end_time": "2023-12-01T02:30:15.895743",
     "exception": false,
     "start_time": "2023-12-01T02:30:15.858284",
     "status": "completed"
    },
    "tags": []
   },
   "outputs": [
    {
     "data": {
      "text/html": [
       "<div>\n",
       "<style scoped>\n",
       "    .dataframe tbody tr th:only-of-type {\n",
       "        vertical-align: middle;\n",
       "    }\n",
       "\n",
       "    .dataframe tbody tr th {\n",
       "        vertical-align: top;\n",
       "    }\n",
       "\n",
       "    .dataframe thead th {\n",
       "        text-align: right;\n",
       "    }\n",
       "</style>\n",
       "<table border=\"1\" class=\"dataframe\">\n",
       "  <thead>\n",
       "    <tr style=\"text-align: right;\">\n",
       "      <th></th>\n",
       "      <th>positive</th>\n",
       "      <th>negative</th>\n",
       "      <th>indecisive</th>\n",
       "      <th>score</th>\n",
       "      <th>y</th>\n",
       "      <th>sum</th>\n",
       "    </tr>\n",
       "  </thead>\n",
       "  <tbody>\n",
       "    <tr>\n",
       "      <th>count</th>\n",
       "      <td>2594.000000</td>\n",
       "      <td>2594.000000</td>\n",
       "      <td>2594.000000</td>\n",
       "      <td>2594.000000</td>\n",
       "      <td>2594.000000</td>\n",
       "      <td>2594.000000</td>\n",
       "    </tr>\n",
       "    <tr>\n",
       "      <th>mean</th>\n",
       "      <td>5.520432</td>\n",
       "      <td>5.919429</td>\n",
       "      <td>2.308019</td>\n",
       "      <td>-0.036421</td>\n",
       "      <td>0.038795</td>\n",
       "      <td>13.747880</td>\n",
       "    </tr>\n",
       "    <tr>\n",
       "      <th>std</th>\n",
       "      <td>2.963424</td>\n",
       "      <td>2.966854</td>\n",
       "      <td>1.823159</td>\n",
       "      <td>0.473590</td>\n",
       "      <td>0.064975</td>\n",
       "      <td>1.238462</td>\n",
       "    </tr>\n",
       "    <tr>\n",
       "      <th>min</th>\n",
       "      <td>0.000000</td>\n",
       "      <td>0.000000</td>\n",
       "      <td>0.000000</td>\n",
       "      <td>-1.000000</td>\n",
       "      <td>-0.234264</td>\n",
       "      <td>6.000000</td>\n",
       "    </tr>\n",
       "    <tr>\n",
       "      <th>25%</th>\n",
       "      <td>3.000000</td>\n",
       "      <td>4.000000</td>\n",
       "      <td>1.000000</td>\n",
       "      <td>-0.400000</td>\n",
       "      <td>0.003406</td>\n",
       "      <td>13.000000</td>\n",
       "    </tr>\n",
       "    <tr>\n",
       "      <th>50%</th>\n",
       "      <td>5.000000</td>\n",
       "      <td>6.000000</td>\n",
       "      <td>2.000000</td>\n",
       "      <td>0.000000</td>\n",
       "      <td>0.042638</td>\n",
       "      <td>14.000000</td>\n",
       "    </tr>\n",
       "    <tr>\n",
       "      <th>75%</th>\n",
       "      <td>8.000000</td>\n",
       "      <td>8.000000</td>\n",
       "      <td>3.000000</td>\n",
       "      <td>0.333333</td>\n",
       "      <td>0.081637</td>\n",
       "      <td>15.000000</td>\n",
       "    </tr>\n",
       "    <tr>\n",
       "      <th>max</th>\n",
       "      <td>14.000000</td>\n",
       "      <td>14.000000</td>\n",
       "      <td>10.000000</td>\n",
       "      <td>1.000000</td>\n",
       "      <td>0.254303</td>\n",
       "      <td>15.000000</td>\n",
       "    </tr>\n",
       "  </tbody>\n",
       "</table>\n",
       "</div>"
      ],
      "text/plain": [
       "          positive     negative   indecisive        score            y  \\\n",
       "count  2594.000000  2594.000000  2594.000000  2594.000000  2594.000000   \n",
       "mean      5.520432     5.919429     2.308019    -0.036421     0.038795   \n",
       "std       2.963424     2.966854     1.823159     0.473590     0.064975   \n",
       "min       0.000000     0.000000     0.000000    -1.000000    -0.234264   \n",
       "25%       3.000000     4.000000     1.000000    -0.400000     0.003406   \n",
       "50%       5.000000     6.000000     2.000000     0.000000     0.042638   \n",
       "75%       8.000000     8.000000     3.000000     0.333333     0.081637   \n",
       "max      14.000000    14.000000    10.000000     1.000000     0.254303   \n",
       "\n",
       "               sum  \n",
       "count  2594.000000  \n",
       "mean     13.747880  \n",
       "std       1.238462  \n",
       "min       6.000000  \n",
       "25%      13.000000  \n",
       "50%      14.000000  \n",
       "75%      15.000000  \n",
       "max      15.000000  "
      ]
     },
     "execution_count": 7,
     "metadata": {},
     "output_type": "execute_result"
    }
   ],
   "source": [
    "dataset.describe()"
   ]
  },
  {
   "cell_type": "markdown",
   "id": "17a708f3",
   "metadata": {
    "papermill": {
     "duration": 0.007049,
     "end_time": "2023-12-01T02:30:15.910116",
     "exception": false,
     "start_time": "2023-12-01T02:30:15.903067",
     "status": "completed"
    },
    "tags": []
   },
   "source": [
    "# Prepare dataset"
   ]
  },
  {
   "cell_type": "code",
   "execution_count": 8,
   "id": "6c96332d",
   "metadata": {
    "execution": {
     "iopub.execute_input": "2023-12-01T02:30:15.925909Z",
     "iopub.status.busy": "2023-12-01T02:30:15.925559Z",
     "iopub.status.idle": "2023-12-01T02:30:15.929027Z",
     "shell.execute_reply": "2023-12-01T02:30:15.928393Z"
    },
    "papermill": {
     "duration": 0.013567,
     "end_time": "2023-12-01T02:30:15.930641",
     "exception": false,
     "start_time": "2023-12-01T02:30:15.917074",
     "status": "completed"
    },
    "tags": []
   },
   "outputs": [],
   "source": [
    "# dataset['Unnamed: 0'] = pd.to_datetime(dataset['Unnamed: 0'])\n",
    "# dataset = dataset.set_index('Unnamed: 0')"
   ]
  },
  {
   "cell_type": "code",
   "execution_count": 9,
   "id": "885dc515",
   "metadata": {
    "execution": {
     "iopub.execute_input": "2023-12-01T02:30:15.946993Z",
     "iopub.status.busy": "2023-12-01T02:30:15.946384Z",
     "iopub.status.idle": "2023-12-01T02:30:15.949810Z",
     "shell.execute_reply": "2023-12-01T02:30:15.949198Z"
    },
    "papermill": {
     "duration": 0.013715,
     "end_time": "2023-12-01T02:30:15.951552",
     "exception": false,
     "start_time": "2023-12-01T02:30:15.937837",
     "status": "completed"
    },
    "tags": []
   },
   "outputs": [],
   "source": [
    "# from sklearn.preprocessing import MinMaxScaler\n",
    "\n",
    "# # Assuming 'Date' is a column in your dataset\n",
    "# dataset['Timestamp'] = (dataset['Unnamed: 0'] - pd.Timestamp(\"Y\")).dt.total_seconds()\n",
    "# scaler = MinMaxScaler()\n",
    "# dataset['Timestamp'] = scaler.fit_transform(dataset[['Timestamp']])"
   ]
  },
  {
   "cell_type": "code",
   "execution_count": 10,
   "id": "a107aad2",
   "metadata": {
    "execution": {
     "iopub.execute_input": "2023-12-01T02:30:15.967791Z",
     "iopub.status.busy": "2023-12-01T02:30:15.967201Z",
     "iopub.status.idle": "2023-12-01T02:30:15.971319Z",
     "shell.execute_reply": "2023-12-01T02:30:15.970351Z"
    },
    "papermill": {
     "duration": 0.015046,
     "end_time": "2023-12-01T02:30:15.973866",
     "exception": false,
     "start_time": "2023-12-01T02:30:15.958820",
     "status": "completed"
    },
    "tags": []
   },
   "outputs": [],
   "source": [
    "# try normalising each data point with the sum"
   ]
  },
  {
   "cell_type": "code",
   "execution_count": 11,
   "id": "4e53c67e",
   "metadata": {
    "execution": {
     "iopub.execute_input": "2023-12-01T02:30:15.990365Z",
     "iopub.status.busy": "2023-12-01T02:30:15.989993Z",
     "iopub.status.idle": "2023-12-01T02:30:15.999845Z",
     "shell.execute_reply": "2023-12-01T02:30:15.998654Z"
    },
    "papermill": {
     "duration": 0.021471,
     "end_time": "2023-12-01T02:30:16.002503",
     "exception": false,
     "start_time": "2023-12-01T02:30:15.981032",
     "status": "completed"
    },
    "tags": []
   },
   "outputs": [],
   "source": [
    "dataset['positive'] = dataset['positive'] / dataset['sum']\n",
    "dataset['negative'] = dataset['negative'] / dataset['sum']\n",
    "dataset['indecisive'] = dataset['indecisive'] / dataset['sum']"
   ]
  },
  {
   "cell_type": "code",
   "execution_count": 12,
   "id": "f6bf4d7a",
   "metadata": {
    "execution": {
     "iopub.execute_input": "2023-12-01T02:30:16.017808Z",
     "iopub.status.busy": "2023-12-01T02:30:16.017441Z",
     "iopub.status.idle": "2023-12-01T02:30:16.024173Z",
     "shell.execute_reply": "2023-12-01T02:30:16.023055Z"
    },
    "papermill": {
     "duration": 0.016591,
     "end_time": "2023-12-01T02:30:16.026166",
     "exception": false,
     "start_time": "2023-12-01T02:30:16.009575",
     "status": "completed"
    },
    "tags": []
   },
   "outputs": [],
   "source": [
    "dataset_sum = dataset.pop('sum')\n",
    "y = dataset.pop('y')\n",
    "x = dataset\n",
    "dates = x.pop('Unnamed: 0')\n"
   ]
  },
  {
   "cell_type": "code",
   "execution_count": 13,
   "id": "bd4854be",
   "metadata": {
    "execution": {
     "iopub.execute_input": "2023-12-01T02:30:16.042271Z",
     "iopub.status.busy": "2023-12-01T02:30:16.041617Z",
     "iopub.status.idle": "2023-12-01T02:30:16.053193Z",
     "shell.execute_reply": "2023-12-01T02:30:16.051632Z"
    },
    "papermill": {
     "duration": 0.022616,
     "end_time": "2023-12-01T02:30:16.055814",
     "exception": false,
     "start_time": "2023-12-01T02:30:16.033198",
     "status": "completed"
    },
    "tags": []
   },
   "outputs": [
    {
     "data": {
      "text/html": [
       "<div>\n",
       "<style scoped>\n",
       "    .dataframe tbody tr th:only-of-type {\n",
       "        vertical-align: middle;\n",
       "    }\n",
       "\n",
       "    .dataframe tbody tr th {\n",
       "        vertical-align: top;\n",
       "    }\n",
       "\n",
       "    .dataframe thead th {\n",
       "        text-align: right;\n",
       "    }\n",
       "</style>\n",
       "<table border=\"1\" class=\"dataframe\">\n",
       "  <thead>\n",
       "    <tr style=\"text-align: right;\">\n",
       "      <th></th>\n",
       "      <th>positive</th>\n",
       "      <th>negative</th>\n",
       "      <th>indecisive</th>\n",
       "      <th>score</th>\n",
       "    </tr>\n",
       "  </thead>\n",
       "  <tbody>\n",
       "    <tr>\n",
       "      <th>0</th>\n",
       "      <td>0.785714</td>\n",
       "      <td>0.214286</td>\n",
       "      <td>0.000000</td>\n",
       "      <td>0.571429</td>\n",
       "    </tr>\n",
       "    <tr>\n",
       "      <th>1</th>\n",
       "      <td>0.400000</td>\n",
       "      <td>0.400000</td>\n",
       "      <td>0.200000</td>\n",
       "      <td>0.000000</td>\n",
       "    </tr>\n",
       "    <tr>\n",
       "      <th>2</th>\n",
       "      <td>0.636364</td>\n",
       "      <td>0.272727</td>\n",
       "      <td>0.090909</td>\n",
       "      <td>0.400000</td>\n",
       "    </tr>\n",
       "    <tr>\n",
       "      <th>3</th>\n",
       "      <td>0.642857</td>\n",
       "      <td>0.357143</td>\n",
       "      <td>0.000000</td>\n",
       "      <td>0.285714</td>\n",
       "    </tr>\n",
       "    <tr>\n",
       "      <th>4</th>\n",
       "      <td>0.583333</td>\n",
       "      <td>0.250000</td>\n",
       "      <td>0.166667</td>\n",
       "      <td>0.400000</td>\n",
       "    </tr>\n",
       "  </tbody>\n",
       "</table>\n",
       "</div>"
      ],
      "text/plain": [
       "   positive  negative  indecisive     score\n",
       "0  0.785714  0.214286    0.000000  0.571429\n",
       "1  0.400000  0.400000    0.200000  0.000000\n",
       "2  0.636364  0.272727    0.090909  0.400000\n",
       "3  0.642857  0.357143    0.000000  0.285714\n",
       "4  0.583333  0.250000    0.166667  0.400000"
      ]
     },
     "execution_count": 13,
     "metadata": {},
     "output_type": "execute_result"
    }
   ],
   "source": [
    "x.head()"
   ]
  },
  {
   "cell_type": "code",
   "execution_count": 14,
   "id": "2cf65271",
   "metadata": {
    "execution": {
     "iopub.execute_input": "2023-12-01T02:30:16.071867Z",
     "iopub.status.busy": "2023-12-01T02:30:16.071499Z",
     "iopub.status.idle": "2023-12-01T02:30:16.078608Z",
     "shell.execute_reply": "2023-12-01T02:30:16.077644Z"
    },
    "papermill": {
     "duration": 0.01764,
     "end_time": "2023-12-01T02:30:16.080763",
     "exception": false,
     "start_time": "2023-12-01T02:30:16.063123",
     "status": "completed"
    },
    "tags": []
   },
   "outputs": [
    {
     "data": {
      "text/plain": [
       "0    0.043956\n",
       "1    0.042511\n",
       "2    0.041065\n",
       "3    0.034180\n",
       "4    0.049178\n",
       "Name: y, dtype: float64"
      ]
     },
     "execution_count": 14,
     "metadata": {},
     "output_type": "execute_result"
    }
   ],
   "source": [
    "y.head()"
   ]
  },
  {
   "cell_type": "markdown",
   "id": "da44cb3d",
   "metadata": {
    "papermill": {
     "duration": 0.006662,
     "end_time": "2023-12-01T02:30:16.094772",
     "exception": false,
     "start_time": "2023-12-01T02:30:16.088110",
     "status": "completed"
    },
    "tags": []
   },
   "source": [
    "# Define model"
   ]
  },
  {
   "cell_type": "code",
   "execution_count": 15,
   "id": "8e70d967",
   "metadata": {
    "execution": {
     "iopub.execute_input": "2023-12-01T02:30:16.110722Z",
     "iopub.status.busy": "2023-12-01T02:30:16.110048Z",
     "iopub.status.idle": "2023-12-01T02:30:16.748789Z",
     "shell.execute_reply": "2023-12-01T02:30:16.747245Z"
    },
    "papermill": {
     "duration": 0.649631,
     "end_time": "2023-12-01T02:30:16.751352",
     "exception": false,
     "start_time": "2023-12-01T02:30:16.101721",
     "status": "completed"
    },
    "tags": []
   },
   "outputs": [],
   "source": [
    "features = 1 # 1D data\n",
    "input_shape = x.shape[1]\n",
    "\n",
    "model = tf.keras.models.Sequential([\n",
    "    layers.LSTM(units=128, input_shape=(input_shape, features), return_sequences=True),\n",
    "    layers.LSTM(units=64, input_shape=(input_shape, features)),\n",
    "    layers.Dense(units=1)\n",
    "])\n",
    "\n",
    "loss_function = tf.keras.losses.MeanAbsoluteError()\n",
    "optimiser = tf.keras.optimizers.Adam(learning_rate=0.0001) # changed lr from 0.001\n",
    "model.compile(loss = loss_function, optimizer=optimiser, metrics=['mae'])"
   ]
  },
  {
   "cell_type": "code",
   "execution_count": 16,
   "id": "9d76d178",
   "metadata": {
    "execution": {
     "iopub.execute_input": "2023-12-01T02:30:16.767145Z",
     "iopub.status.busy": "2023-12-01T02:30:16.766776Z",
     "iopub.status.idle": "2023-12-01T02:30:16.787580Z",
     "shell.execute_reply": "2023-12-01T02:30:16.786567Z"
    },
    "papermill": {
     "duration": 0.030841,
     "end_time": "2023-12-01T02:30:16.789357",
     "exception": false,
     "start_time": "2023-12-01T02:30:16.758516",
     "status": "completed"
    },
    "tags": []
   },
   "outputs": [
    {
     "name": "stdout",
     "output_type": "stream",
     "text": [
      "Model: \"sequential\"\n",
      "_________________________________________________________________\n",
      " Layer (type)                Output Shape              Param #   \n",
      "=================================================================\n",
      " lstm (LSTM)                 (None, 4, 128)            66560     \n",
      "                                                                 \n",
      " lstm_1 (LSTM)               (None, 64)                49408     \n",
      "                                                                 \n",
      " dense (Dense)               (None, 1)                 65        \n",
      "                                                                 \n",
      "=================================================================\n",
      "Total params: 116033 (453.25 KB)\n",
      "Trainable params: 116033 (453.25 KB)\n",
      "Non-trainable params: 0 (0.00 Byte)\n",
      "_________________________________________________________________\n"
     ]
    }
   ],
   "source": [
    "model.summary()"
   ]
  },
  {
   "cell_type": "code",
   "execution_count": 17,
   "id": "7db034f4",
   "metadata": {
    "execution": {
     "iopub.execute_input": "2023-12-01T02:30:16.806423Z",
     "iopub.status.busy": "2023-12-01T02:30:16.806049Z",
     "iopub.status.idle": "2023-12-01T02:30:17.040280Z",
     "shell.execute_reply": "2023-12-01T02:30:17.038699Z"
    },
    "papermill": {
     "duration": 0.246245,
     "end_time": "2023-12-01T02:30:17.043374",
     "exception": false,
     "start_time": "2023-12-01T02:30:16.797129",
     "status": "completed"
    },
    "tags": []
   },
   "outputs": [
    {
     "data": {
      "image/png": "[encoded data removed]",
      "text/plain": [
       "<IPython.core.display.Image object>"
      ]
     },
     "execution_count": 17,
     "metadata": {},
     "output_type": "execute_result"
    }
   ],
   "source": [
    "tf.keras.utils.plot_model(model, show_shapes=True)"
   ]
  },
  {
   "cell_type": "markdown",
   "id": "d589d9d2",
   "metadata": {
    "papermill": {
     "duration": 0.007868,
     "end_time": "2023-12-01T02:30:17.060040",
     "exception": false,
     "start_time": "2023-12-01T02:30:17.052172",
     "status": "completed"
    },
    "tags": []
   },
   "source": [
    "### Test dataset"
   ]
  },
  {
   "cell_type": "code",
   "execution_count": 18,
   "id": "5ab1c4cf",
   "metadata": {
    "execution": {
     "iopub.execute_input": "2023-12-01T02:30:17.079705Z",
     "iopub.status.busy": "2023-12-01T02:30:17.079010Z",
     "iopub.status.idle": "2023-12-01T02:31:01.296431Z",
     "shell.execute_reply": "2023-12-01T02:31:01.295175Z"
    },
    "papermill": {
     "duration": 44.230813,
     "end_time": "2023-12-01T02:31:01.298949",
     "exception": false,
     "start_time": "2023-12-01T02:30:17.068136",
     "status": "completed"
    },
    "tags": []
   },
   "outputs": [
    {
     "name": "stdout",
     "output_type": "stream",
     "text": [
      "Epoch 1/50\n",
      "82/82 [==============================] - 4s 10ms/step - loss: 0.0517 - mae: 0.0517\n",
      "Epoch 2/50\n",
      "82/82 [==============================] - 1s 9ms/step - loss: 0.0501 - mae: 0.0501\n",
      "Epoch 3/50\n",
      "82/82 [==============================] - 1s 10ms/step - loss: 0.0501 - mae: 0.0501\n",
      "Epoch 4/50\n",
      "82/82 [==============================] - 1s 9ms/step - loss: 0.0501 - mae: 0.0501\n",
      "Epoch 5/50\n",
      "82/82 [==============================] - 1s 10ms/step - loss: 0.0500 - mae: 0.0500\n",
      "Epoch 6/50\n",
      "82/82 [==============================] - 1s 10ms/step - loss: 0.0500 - mae: 0.0500\n",
      "Epoch 7/50\n",
      "82/82 [==============================] - 1s 10ms/step - loss: 0.0500 - mae: 0.0500\n",
      "Epoch 8/50\n",
      "82/82 [==============================] - 1s 9ms/step - loss: 0.0501 - mae: 0.0501\n",
      "Epoch 9/50\n",
      "82/82 [==============================] - 1s 10ms/step - loss: 0.0500 - mae: 0.0500\n",
      "Epoch 10/50\n",
      "82/82 [==============================] - 1s 10ms/step - loss: 0.0501 - mae: 0.0501\n",
      "Epoch 11/50\n",
      "82/82 [==============================] - 1s 10ms/step - loss: 0.0499 - mae: 0.0499\n",
      "Epoch 12/50\n",
      "82/82 [==============================] - 1s 10ms/step - loss: 0.0500 - mae: 0.0500\n",
      "Epoch 13/50\n",
      "82/82 [==============================] - 1s 10ms/step - loss: 0.0501 - mae: 0.0501\n",
      "Epoch 14/50\n",
      "82/82 [==============================] - 1s 9ms/step - loss: 0.0500 - mae: 0.0500\n",
      "Epoch 15/50\n",
      "82/82 [==============================] - 1s 10ms/step - loss: 0.0500 - mae: 0.0500\n",
      "Epoch 16/50\n",
      "82/82 [==============================] - 1s 9ms/step - loss: 0.0499 - mae: 0.0499\n",
      "Epoch 17/50\n",
      "82/82 [==============================] - 1s 10ms/step - loss: 0.0502 - mae: 0.0502\n",
      "Epoch 18/50\n",
      "82/82 [==============================] - 1s 9ms/step - loss: 0.0500 - mae: 0.0500\n",
      "Epoch 19/50\n",
      "82/82 [==============================] - 1s 9ms/step - loss: 0.0500 - mae: 0.0500\n",
      "Epoch 20/50\n",
      "82/82 [==============================] - 1s 9ms/step - loss: 0.0499 - mae: 0.0499\n",
      "Epoch 21/50\n",
      "82/82 [==============================] - 1s 9ms/step - loss: 0.0500 - mae: 0.0500\n",
      "Epoch 22/50\n",
      "82/82 [==============================] - 1s 9ms/step - loss: 0.0499 - mae: 0.0499\n",
      "Epoch 23/50\n",
      "82/82 [==============================] - 1s 10ms/step - loss: 0.0501 - mae: 0.0501\n",
      "Epoch 24/50\n",
      "82/82 [==============================] - 1s 9ms/step - loss: 0.0500 - mae: 0.0500\n",
      "Epoch 25/50\n",
      "82/82 [==============================] - 1s 10ms/step - loss: 0.0500 - mae: 0.0500\n",
      "Epoch 26/50\n",
      "82/82 [==============================] - 1s 9ms/step - loss: 0.0500 - mae: 0.0500\n",
      "Epoch 27/50\n",
      "82/82 [==============================] - 1s 9ms/step - loss: 0.0500 - mae: 0.0500\n",
      "Epoch 28/50\n",
      "82/82 [==============================] - 1s 10ms/step - loss: 0.0500 - mae: 0.0500\n",
      "Epoch 29/50\n",
      "82/82 [==============================] - 1s 10ms/step - loss: 0.0500 - mae: 0.0500\n",
      "Epoch 30/50\n",
      "82/82 [==============================] - 1s 10ms/step - loss: 0.0501 - mae: 0.0501\n",
      "Epoch 31/50\n",
      "82/82 [==============================] - 1s 10ms/step - loss: 0.0499 - mae: 0.0499\n",
      "Epoch 32/50\n",
      "82/82 [==============================] - 1s 9ms/step - loss: 0.0501 - mae: 0.0501\n",
      "Epoch 33/50\n",
      "82/82 [==============================] - 1s 9ms/step - loss: 0.0499 - mae: 0.0499\n",
      "Epoch 34/50\n",
      "82/82 [==============================] - 1s 10ms/step - loss: 0.0500 - mae: 0.0500\n",
      "Epoch 35/50\n",
      "82/82 [==============================] - 1s 9ms/step - loss: 0.0500 - mae: 0.0500\n",
      "Epoch 36/50\n",
      "82/82 [==============================] - 1s 10ms/step - loss: 0.0500 - mae: 0.0500\n",
      "Epoch 37/50\n",
      "82/82 [==============================] - 1s 10ms/step - loss: 0.0500 - mae: 0.0500\n",
      "Epoch 38/50\n",
      "82/82 [==============================] - 1s 10ms/step - loss: 0.0500 - mae: 0.0500\n",
      "Epoch 39/50\n",
      "82/82 [==============================] - 1s 9ms/step - loss: 0.0500 - mae: 0.0500\n",
      "Epoch 40/50\n",
      "82/82 [==============================] - 1s 9ms/step - loss: 0.0500 - mae: 0.0500\n",
      "Epoch 41/50\n",
      "82/82 [==============================] - 1s 9ms/step - loss: 0.0499 - mae: 0.0499\n",
      "Epoch 42/50\n",
      "82/82 [==============================] - 1s 10ms/step - loss: 0.0500 - mae: 0.0500\n",
      "Epoch 43/50\n",
      "82/82 [==============================] - 1s 10ms/step - loss: 0.0499 - mae: 0.0499\n",
      "Epoch 44/50\n",
      "82/82 [==============================] - 1s 10ms/step - loss: 0.0500 - mae: 0.0500\n",
      "Epoch 45/50\n",
      "82/82 [==============================] - 1s 10ms/step - loss: 0.0500 - mae: 0.0500\n",
      "Epoch 46/50\n",
      "82/82 [==============================] - 1s 9ms/step - loss: 0.0499 - mae: 0.0499\n",
      "Epoch 47/50\n",
      "82/82 [==============================] - 1s 10ms/step - loss: 0.0500 - mae: 0.0500\n",
      "Epoch 48/50\n",
      "82/82 [==============================] - 1s 10ms/step - loss: 0.0500 - mae: 0.0500\n",
      "Epoch 49/50\n",
      "82/82 [==============================] - 1s 9ms/step - loss: 0.0500 - mae: 0.0500\n",
      "Epoch 50/50\n",
      "82/82 [==============================] - 1s 10ms/step - loss: 0.0500 - mae: 0.0500\n"
     ]
    },
    {
     "data": {
      "text/plain": [
       "<keras.src.callbacks.History at 0x78d7f72e42b0>"
      ]
     },
     "execution_count": 18,
     "metadata": {},
     "output_type": "execute_result"
    }
   ],
   "source": [
    "model.fit(x, y, epochs=50, batch_size=32)"
   ]
  },
  {
   "cell_type": "markdown",
   "id": "41f78516",
   "metadata": {
    "papermill": {
     "duration": 0.056593,
     "end_time": "2023-12-01T02:31:01.471958",
     "exception": false,
     "start_time": "2023-12-01T02:31:01.415365",
     "status": "completed"
    },
    "tags": []
   },
   "source": [
    "# Generate submission"
   ]
  },
  {
   "cell_type": "code",
   "execution_count": 19,
   "id": "d081b39d",
   "metadata": {
    "execution": {
     "iopub.execute_input": "2023-12-01T02:31:01.586555Z",
     "iopub.status.busy": "2023-12-01T02:31:01.586207Z",
     "iopub.status.idle": "2023-12-01T02:31:01.599722Z",
     "shell.execute_reply": "2023-12-01T02:31:01.598358Z"
    },
    "papermill": {
     "duration": 0.073046,
     "end_time": "2023-12-01T02:31:01.602098",
     "exception": false,
     "start_time": "2023-12-01T02:31:01.529052",
     "status": "completed"
    },
    "tags": []
   },
   "outputs": [],
   "source": [
    "test_dataset = pd.read_csv(\"/kaggle/input/2023-psl-week-using-bloomberg-news/test.csv\")\n",
    "dates = test_dataset.pop('Unnamed: 0')"
   ]
  },
  {
   "cell_type": "code",
   "execution_count": 20,
   "id": "e668b574",
   "metadata": {
    "execution": {
     "iopub.execute_input": "2023-12-01T02:31:01.716312Z",
     "iopub.status.busy": "2023-12-01T02:31:01.715967Z",
     "iopub.status.idle": "2023-12-01T02:31:01.723743Z",
     "shell.execute_reply": "2023-12-01T02:31:01.722794Z"
    },
    "papermill": {
     "duration": 0.066832,
     "end_time": "2023-12-01T02:31:01.725804",
     "exception": false,
     "start_time": "2023-12-01T02:31:01.658972",
     "status": "completed"
    },
    "tags": []
   },
   "outputs": [],
   "source": [
    "test_dataset['sum'] = test_dataset['positive'] + test_dataset['negative'] + test_dataset['indecisive']\n",
    "\n",
    "test_dataset['positive'] = test_dataset['positive'] / test_dataset['sum']\n",
    "test_dataset['negative'] = test_dataset['negative'] / test_dataset['sum']\n",
    "test_dataset['indecisive'] = test_dataset['indecisive'] / test_dataset['sum']\n",
    "\n",
    "test_dataset_sum = test_dataset.pop('sum')"
   ]
  },
  {
   "cell_type": "code",
   "execution_count": 21,
   "id": "54476024",
   "metadata": {
    "execution": {
     "iopub.execute_input": "2023-12-01T02:31:01.838381Z",
     "iopub.status.busy": "2023-12-01T02:31:01.838046Z",
     "iopub.status.idle": "2023-12-01T02:31:01.850296Z",
     "shell.execute_reply": "2023-12-01T02:31:01.848858Z"
    },
    "papermill": {
     "duration": 0.071197,
     "end_time": "2023-12-01T02:31:01.852580",
     "exception": false,
     "start_time": "2023-12-01T02:31:01.781383",
     "status": "completed"
    },
    "tags": []
   },
   "outputs": [
    {
     "data": {
      "text/html": [
       "<div>\n",
       "<style scoped>\n",
       "    .dataframe tbody tr th:only-of-type {\n",
       "        vertical-align: middle;\n",
       "    }\n",
       "\n",
       "    .dataframe tbody tr th {\n",
       "        vertical-align: top;\n",
       "    }\n",
       "\n",
       "    .dataframe thead th {\n",
       "        text-align: right;\n",
       "    }\n",
       "</style>\n",
       "<table border=\"1\" class=\"dataframe\">\n",
       "  <thead>\n",
       "    <tr style=\"text-align: right;\">\n",
       "      <th></th>\n",
       "      <th>positive</th>\n",
       "      <th>negative</th>\n",
       "      <th>indecisive</th>\n",
       "      <th>score</th>\n",
       "    </tr>\n",
       "  </thead>\n",
       "  <tbody>\n",
       "    <tr>\n",
       "      <th>0</th>\n",
       "      <td>0.583333</td>\n",
       "      <td>0.250000</td>\n",
       "      <td>0.166667</td>\n",
       "      <td>0.400000</td>\n",
       "    </tr>\n",
       "    <tr>\n",
       "      <th>1</th>\n",
       "      <td>0.071429</td>\n",
       "      <td>0.785714</td>\n",
       "      <td>0.142857</td>\n",
       "      <td>-0.833333</td>\n",
       "    </tr>\n",
       "    <tr>\n",
       "      <th>2</th>\n",
       "      <td>0.500000</td>\n",
       "      <td>0.357143</td>\n",
       "      <td>0.142857</td>\n",
       "      <td>0.166667</td>\n",
       "    </tr>\n",
       "    <tr>\n",
       "      <th>3</th>\n",
       "      <td>0.357143</td>\n",
       "      <td>0.428571</td>\n",
       "      <td>0.214286</td>\n",
       "      <td>-0.090909</td>\n",
       "    </tr>\n",
       "    <tr>\n",
       "      <th>4</th>\n",
       "      <td>0.642857</td>\n",
       "      <td>0.214286</td>\n",
       "      <td>0.142857</td>\n",
       "      <td>0.500000</td>\n",
       "    </tr>\n",
       "  </tbody>\n",
       "</table>\n",
       "</div>"
      ],
      "text/plain": [
       "   positive  negative  indecisive     score\n",
       "0  0.583333  0.250000    0.166667  0.400000\n",
       "1  0.071429  0.785714    0.142857 -0.833333\n",
       "2  0.500000  0.357143    0.142857  0.166667\n",
       "3  0.357143  0.428571    0.214286 -0.090909\n",
       "4  0.642857  0.214286    0.142857  0.500000"
      ]
     },
     "execution_count": 21,
     "metadata": {},
     "output_type": "execute_result"
    }
   ],
   "source": [
    "test_dataset.head()"
   ]
  },
  {
   "cell_type": "code",
   "execution_count": 22,
   "id": "733e229f",
   "metadata": {
    "execution": {
     "iopub.execute_input": "2023-12-01T02:31:01.971692Z",
     "iopub.status.busy": "2023-12-01T02:31:01.971304Z",
     "iopub.status.idle": "2023-12-01T02:31:02.921412Z",
     "shell.execute_reply": "2023-12-01T02:31:02.919795Z"
    },
    "papermill": {
     "duration": 1.01311,
     "end_time": "2023-12-01T02:31:02.923912",
     "exception": false,
     "start_time": "2023-12-01T02:31:01.910802",
     "status": "completed"
    },
    "tags": []
   },
   "outputs": [
    {
     "name": "stdout",
     "output_type": "stream",
     "text": [
      "30/30 [==============================] - 1s 4ms/step\n"
     ]
    }
   ],
   "source": [
    "predictions = model.predict(test_dataset)"
   ]
  },
  {
   "cell_type": "code",
   "execution_count": 23,
   "id": "393e4d78",
   "metadata": {
    "execution": {
     "iopub.execute_input": "2023-12-01T02:31:03.039211Z",
     "iopub.status.busy": "2023-12-01T02:31:03.038882Z",
     "iopub.status.idle": "2023-12-01T02:31:03.046325Z",
     "shell.execute_reply": "2023-12-01T02:31:03.045408Z"
    },
    "papermill": {
     "duration": 0.068215,
     "end_time": "2023-12-01T02:31:03.048920",
     "exception": false,
     "start_time": "2023-12-01T02:31:02.980705",
     "status": "completed"
    },
    "tags": []
   },
   "outputs": [],
   "source": [
    "submission = pd.DataFrame()\n",
    "submission['date'] = dates\n",
    "submission['y'] = predictions"
   ]
  },
  {
   "cell_type": "code",
   "execution_count": 24,
   "id": "b6ae6d32",
   "metadata": {
    "execution": {
     "iopub.execute_input": "2023-12-01T02:31:03.166169Z",
     "iopub.status.busy": "2023-12-01T02:31:03.165786Z",
     "iopub.status.idle": "2023-12-01T02:31:03.176818Z",
     "shell.execute_reply": "2023-12-01T02:31:03.175673Z"
    },
    "papermill": {
     "duration": 0.072311,
     "end_time": "2023-12-01T02:31:03.179176",
     "exception": false,
     "start_time": "2023-12-01T02:31:03.106865",
     "status": "completed"
    },
    "tags": []
   },
   "outputs": [
    {
     "data": {
      "text/html": [
       "<div>\n",
       "<style scoped>\n",
       "    .dataframe tbody tr th:only-of-type {\n",
       "        vertical-align: middle;\n",
       "    }\n",
       "\n",
       "    .dataframe tbody tr th {\n",
       "        vertical-align: top;\n",
       "    }\n",
       "\n",
       "    .dataframe thead th {\n",
       "        text-align: right;\n",
       "    }\n",
       "</style>\n",
       "<table border=\"1\" class=\"dataframe\">\n",
       "  <thead>\n",
       "    <tr style=\"text-align: right;\">\n",
       "      <th></th>\n",
       "      <th>date</th>\n",
       "      <th>y</th>\n",
       "    </tr>\n",
       "  </thead>\n",
       "  <tbody>\n",
       "    <tr>\n",
       "      <th>0</th>\n",
       "      <td>2020-01-02</td>\n",
       "      <td>0.042845</td>\n",
       "    </tr>\n",
       "    <tr>\n",
       "      <th>1</th>\n",
       "      <td>2020-01-03</td>\n",
       "      <td>0.047488</td>\n",
       "    </tr>\n",
       "    <tr>\n",
       "      <th>2</th>\n",
       "      <td>2020-01-06</td>\n",
       "      <td>0.044103</td>\n",
       "    </tr>\n",
       "    <tr>\n",
       "      <th>3</th>\n",
       "      <td>2020-01-07</td>\n",
       "      <td>0.045256</td>\n",
       "    </tr>\n",
       "    <tr>\n",
       "      <th>4</th>\n",
       "      <td>2020-01-08</td>\n",
       "      <td>0.042267</td>\n",
       "    </tr>\n",
       "  </tbody>\n",
       "</table>\n",
       "</div>"
      ],
      "text/plain": [
       "         date         y\n",
       "0  2020-01-02  0.042845\n",
       "1  2020-01-03  0.047488\n",
       "2  2020-01-06  0.044103\n",
       "3  2020-01-07  0.045256\n",
       "4  2020-01-08  0.042267"
      ]
     },
     "execution_count": 24,
     "metadata": {},
     "output_type": "execute_result"
    }
   ],
   "source": [
    "submission.head()"
   ]
  },
  {
   "cell_type": "code",
   "execution_count": 25,
   "id": "a995ea66",
   "metadata": {
    "execution": {
     "iopub.execute_input": "2023-12-01T02:31:03.295332Z",
     "iopub.status.busy": "2023-12-01T02:31:03.294925Z",
     "iopub.status.idle": "2023-12-01T02:31:03.308362Z",
     "shell.execute_reply": "2023-12-01T02:31:03.307741Z"
    },
    "papermill": {
     "duration": 0.073195,
     "end_time": "2023-12-01T02:31:03.309912",
     "exception": false,
     "start_time": "2023-12-01T02:31:03.236717",
     "status": "completed"
    },
    "tags": []
   },
   "outputs": [
    {
     "data": {
      "text/html": [
       "<div>\n",
       "<style scoped>\n",
       "    .dataframe tbody tr th:only-of-type {\n",
       "        vertical-align: middle;\n",
       "    }\n",
       "\n",
       "    .dataframe tbody tr th {\n",
       "        vertical-align: top;\n",
       "    }\n",
       "\n",
       "    .dataframe thead th {\n",
       "        text-align: right;\n",
       "    }\n",
       "</style>\n",
       "<table border=\"1\" class=\"dataframe\">\n",
       "  <thead>\n",
       "    <tr style=\"text-align: right;\">\n",
       "      <th></th>\n",
       "      <th>y</th>\n",
       "    </tr>\n",
       "  </thead>\n",
       "  <tbody>\n",
       "    <tr>\n",
       "      <th>count</th>\n",
       "      <td>957.000000</td>\n",
       "    </tr>\n",
       "    <tr>\n",
       "      <th>mean</th>\n",
       "      <td>0.045175</td>\n",
       "    </tr>\n",
       "    <tr>\n",
       "      <th>std</th>\n",
       "      <td>0.001999</td>\n",
       "    </tr>\n",
       "    <tr>\n",
       "      <th>min</th>\n",
       "      <td>0.038825</td>\n",
       "    </tr>\n",
       "    <tr>\n",
       "      <th>25%</th>\n",
       "      <td>0.043851</td>\n",
       "    </tr>\n",
       "    <tr>\n",
       "      <th>50%</th>\n",
       "      <td>0.045625</td>\n",
       "    </tr>\n",
       "    <tr>\n",
       "      <th>75%</th>\n",
       "      <td>0.046825</td>\n",
       "    </tr>\n",
       "    <tr>\n",
       "      <th>max</th>\n",
       "      <td>0.047846</td>\n",
       "    </tr>\n",
       "  </tbody>\n",
       "</table>\n",
       "</div>"
      ],
      "text/plain": [
       "                y\n",
       "count  957.000000\n",
       "mean     0.045175\n",
       "std      0.001999\n",
       "min      0.038825\n",
       "25%      0.043851\n",
       "50%      0.045625\n",
       "75%      0.046825\n",
       "max      0.047846"
      ]
     },
     "execution_count": 25,
     "metadata": {},
     "output_type": "execute_result"
    }
   ],
   "source": [
    "submission.describe()"
   ]
  },
  {
   "cell_type": "code",
   "execution_count": 26,
   "id": "63a58b5e",
   "metadata": {
    "execution": {
     "iopub.execute_input": "2023-12-01T02:31:03.426464Z",
     "iopub.status.busy": "2023-12-01T02:31:03.426065Z",
     "iopub.status.idle": "2023-12-01T02:31:03.434721Z",
     "shell.execute_reply": "2023-12-01T02:31:03.433816Z"
    },
    "papermill": {
     "duration": 0.070084,
     "end_time": "2023-12-01T02:31:03.437089",
     "exception": false,
     "start_time": "2023-12-01T02:31:03.367005",
     "status": "completed"
    },
    "tags": []
   },
   "outputs": [],
   "source": [
    "submission.to_csv('/kaggle/working/submission.csv',index=False,header=True)"
   ]
  }
 ],
 "metadata": {
  "kaggle": {
   "accelerator": "none",
   "dataSources": [
    {
     "databundleVersionId": 7177891,
     "sourceId": 65279,
     "sourceType": "competition"
    }
   ],
   "dockerImageVersionId": 30587,
   "isGpuEnabled": false,
   "isInternetEnabled": true,
   "language": "python",
   "sourceType": "notebook"
  },
  "kernelspec": {
   "display_name": "Python 3",
   "language": "python",
   "name": "python3"
  },
  "language_info": {
   "codemirror_mode": {
    "name": "ipython",
    "version": 3
   },
   "file_extension": ".py",
   "mimetype": "text/x-python",
   "name": "python",
   "nbconvert_exporter": "python",
   "pygments_lexer": "ipython3",
   "version": "3.10.12"
  },
  "papermill": {
   "default_parameters": {},
   "duration": 66.359037,
   "end_time": "2023-12-01T02:31:06.079483",
   "environment_variables": {},
   "exception": null,
   "input_path": "__notebook__.ipynb",
   "output_path": "__notebook__.ipynb",
   "parameters": {},
   "start_time": "2023-12-01T02:29:59.720446",
   "version": "2.4.0"
  }
 },
 "nbformat": 4,
 "nbformat_minor": 5
}
