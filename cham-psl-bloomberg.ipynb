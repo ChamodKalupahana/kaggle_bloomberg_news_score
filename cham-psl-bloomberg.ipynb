{
 "cells": [
  {
   "cell_type": "code",
   "execution_count": 1,
   "id": "cda4323b",
   "metadata": {
    "_cell_guid": "b1076dfc-b9ad-4769-8c92-a6c4dae69d19",
    "_uuid": "8f2839f25d086af736a60e9eeb907d3b93b6e0e5",
    "execution": {
     "iopub.execute_input": "2023-12-01T01:44:03.045906Z",
     "iopub.status.busy": "2023-12-01T01:44:03.045438Z",
     "iopub.status.idle": "2023-12-01T01:44:18.046633Z",
     "shell.execute_reply": "2023-12-01T01:44:18.045275Z"
    },
    "papermill": {
     "duration": 15.019967,
     "end_time": "2023-12-01T01:44:18.050769",
     "exception": false,
     "start_time": "2023-12-01T01:44:03.030802",
     "status": "completed"
    },
    "tags": []
   },
   "outputs": [
    {
     "name": "stdout",
     "output_type": "stream",
     "text": [
      "/kaggle/input/2023-psl-week-using-bloomberg-news/train.csv\n",
      "/kaggle/input/2023-psl-week-using-bloomberg-news/test.csv\n"
     ]
    }
   ],
   "source": [
    "# This Python 3 environment comes with many helpful analytics libraries installed\n",
    "# It is defined by the kaggle/python Docker image: https://github.com/kaggle/docker-python\n",
    "# For example, here's several helpful packages to load\n",
    "\n",
    "import numpy as np # linear algebra\n",
    "import pandas as pd # data processing, CSV file I/O (e.g. pd.read_csv)\n",
    "import matplotlib.pyplot as plt\n",
    "\n",
    "import matplotlib.pyplot as plt\n",
    "\n",
    "import tensorflow as tf\n",
    "import tensorflow.keras.layers as layers\n",
    "\n",
    "\n",
    "# Input data files are available in the read-only \"../input/\" directory\n",
    "# For example, running this (by clicking run or pressing Shift+Enter) will list all files under the input directory\n",
    "\n",
    "import os\n",
    "for dirname, _, filenames in os.walk('/kaggle/input'):\n",
    "    for filename in filenames:\n",
    "        print(os.path.join(dirname, filename))\n",
    "\n",
    "# You can write up to 20GB to the current directory (/kaggle/working/) that gets preserved as output when you create a version using \"Save & Run All\" \n",
    "# You can also write temporary files to /kaggle/temp/, but they won't be saved outside of the current session"
   ]
  },
  {
   "cell_type": "markdown",
   "id": "9dc676b4",
   "metadata": {
    "papermill": {
     "duration": 0.008546,
     "end_time": "2023-12-01T01:44:18.068544",
     "exception": false,
     "start_time": "2023-12-01T01:44:18.059998",
     "status": "completed"
    },
    "tags": []
   },
   "source": [
    "# Load dataset"
   ]
  },
  {
   "cell_type": "code",
   "execution_count": 2,
   "id": "cd857eb0",
   "metadata": {
    "execution": {
     "iopub.execute_input": "2023-12-01T01:44:18.088037Z",
     "iopub.status.busy": "2023-12-01T01:44:18.087335Z",
     "iopub.status.idle": "2023-12-01T01:44:18.107716Z",
     "shell.execute_reply": "2023-12-01T01:44:18.106688Z"
    },
    "papermill": {
     "duration": 0.033254,
     "end_time": "2023-12-01T01:44:18.110388",
     "exception": false,
     "start_time": "2023-12-01T01:44:18.077134",
     "status": "completed"
    },
    "tags": []
   },
   "outputs": [],
   "source": [
    "filepath = \"/kaggle/input/2023-psl-week-using-bloomberg-news/train.csv\"\n",
    "\n",
    "dataset = pd.read_csv(filepath)"
   ]
  },
  {
   "cell_type": "code",
   "execution_count": 3,
   "id": "02233f08",
   "metadata": {
    "execution": {
     "iopub.execute_input": "2023-12-01T01:44:18.133639Z",
     "iopub.status.busy": "2023-12-01T01:44:18.131757Z",
     "iopub.status.idle": "2023-12-01T01:44:18.171315Z",
     "shell.execute_reply": "2023-12-01T01:44:18.168965Z"
    },
    "papermill": {
     "duration": 0.055677,
     "end_time": "2023-12-01T01:44:18.175085",
     "exception": false,
     "start_time": "2023-12-01T01:44:18.119408",
     "status": "completed"
    },
    "tags": []
   },
   "outputs": [
    {
     "data": {
      "text/html": [
       "<div>\n",
       "<style scoped>\n",
       "    .dataframe tbody tr th:only-of-type {\n",
       "        vertical-align: middle;\n",
       "    }\n",
       "\n",
       "    .dataframe tbody tr th {\n",
       "        vertical-align: top;\n",
       "    }\n",
       "\n",
       "    .dataframe thead th {\n",
       "        text-align: right;\n",
       "    }\n",
       "</style>\n",
       "<table border=\"1\" class=\"dataframe\">\n",
       "  <thead>\n",
       "    <tr style=\"text-align: right;\">\n",
       "      <th></th>\n",
       "      <th>Unnamed: 0</th>\n",
       "      <th>positive</th>\n",
       "      <th>negative</th>\n",
       "      <th>indecisive</th>\n",
       "      <th>score</th>\n",
       "      <th>y</th>\n",
       "    </tr>\n",
       "  </thead>\n",
       "  <tbody>\n",
       "    <tr>\n",
       "      <th>0</th>\n",
       "      <td>2010-01-04</td>\n",
       "      <td>11.0</td>\n",
       "      <td>3.0</td>\n",
       "      <td>0.0</td>\n",
       "      <td>0.571429</td>\n",
       "      <td>0.043956</td>\n",
       "    </tr>\n",
       "    <tr>\n",
       "      <th>1</th>\n",
       "      <td>2010-01-05</td>\n",
       "      <td>6.0</td>\n",
       "      <td>6.0</td>\n",
       "      <td>3.0</td>\n",
       "      <td>0.000000</td>\n",
       "      <td>0.042511</td>\n",
       "    </tr>\n",
       "    <tr>\n",
       "      <th>2</th>\n",
       "      <td>2010-01-06</td>\n",
       "      <td>7.0</td>\n",
       "      <td>3.0</td>\n",
       "      <td>1.0</td>\n",
       "      <td>0.400000</td>\n",
       "      <td>0.041065</td>\n",
       "    </tr>\n",
       "    <tr>\n",
       "      <th>3</th>\n",
       "      <td>2010-01-07</td>\n",
       "      <td>9.0</td>\n",
       "      <td>5.0</td>\n",
       "      <td>0.0</td>\n",
       "      <td>0.285714</td>\n",
       "      <td>0.034180</td>\n",
       "    </tr>\n",
       "    <tr>\n",
       "      <th>4</th>\n",
       "      <td>2010-01-08</td>\n",
       "      <td>7.0</td>\n",
       "      <td>3.0</td>\n",
       "      <td>2.0</td>\n",
       "      <td>0.400000</td>\n",
       "      <td>0.049178</td>\n",
       "    </tr>\n",
       "  </tbody>\n",
       "</table>\n",
       "</div>"
      ],
      "text/plain": [
       "   Unnamed: 0  positive  negative  indecisive     score         y\n",
       "0  2010-01-04      11.0       3.0         0.0  0.571429  0.043956\n",
       "1  2010-01-05       6.0       6.0         3.0  0.000000  0.042511\n",
       "2  2010-01-06       7.0       3.0         1.0  0.400000  0.041065\n",
       "3  2010-01-07       9.0       5.0         0.0  0.285714  0.034180\n",
       "4  2010-01-08       7.0       3.0         2.0  0.400000  0.049178"
      ]
     },
     "execution_count": 3,
     "metadata": {},
     "output_type": "execute_result"
    }
   ],
   "source": [
    "dataset.head()"
   ]
  },
  {
   "cell_type": "code",
   "execution_count": 4,
   "id": "f2d310f0",
   "metadata": {
    "execution": {
     "iopub.execute_input": "2023-12-01T01:44:18.203761Z",
     "iopub.status.busy": "2023-12-01T01:44:18.202633Z",
     "iopub.status.idle": "2023-12-01T01:44:18.237185Z",
     "shell.execute_reply": "2023-12-01T01:44:18.235889Z"
    },
    "papermill": {
     "duration": 0.053079,
     "end_time": "2023-12-01T01:44:18.240373",
     "exception": false,
     "start_time": "2023-12-01T01:44:18.187294",
     "status": "completed"
    },
    "tags": []
   },
   "outputs": [
    {
     "name": "stdout",
     "output_type": "stream",
     "text": [
      "<class 'pandas.core.frame.DataFrame'>\n",
      "RangeIndex: 2594 entries, 0 to 2593\n",
      "Data columns (total 6 columns):\n",
      " #   Column      Non-Null Count  Dtype  \n",
      "---  ------      --------------  -----  \n",
      " 0   Unnamed: 0  2594 non-null   object \n",
      " 1   positive    2594 non-null   float64\n",
      " 2   negative    2594 non-null   float64\n",
      " 3   indecisive  2594 non-null   float64\n",
      " 4   score       2594 non-null   float64\n",
      " 5   y           2594 non-null   float64\n",
      "dtypes: float64(5), object(1)\n",
      "memory usage: 121.7+ KB\n"
     ]
    }
   ],
   "source": [
    "dataset.info()"
   ]
  },
  {
   "cell_type": "code",
   "execution_count": 5,
   "id": "9a484091",
   "metadata": {
    "execution": {
     "iopub.execute_input": "2023-12-01T01:44:18.261630Z",
     "iopub.status.busy": "2023-12-01T01:44:18.260646Z",
     "iopub.status.idle": "2023-12-01T01:44:18.282669Z",
     "shell.execute_reply": "2023-12-01T01:44:18.281068Z"
    },
    "papermill": {
     "duration": 0.03588,
     "end_time": "2023-12-01T01:44:18.285572",
     "exception": false,
     "start_time": "2023-12-01T01:44:18.249692",
     "status": "completed"
    },
    "tags": []
   },
   "outputs": [
    {
     "data": {
      "text/html": [
       "<div>\n",
       "<style scoped>\n",
       "    .dataframe tbody tr th:only-of-type {\n",
       "        vertical-align: middle;\n",
       "    }\n",
       "\n",
       "    .dataframe tbody tr th {\n",
       "        vertical-align: top;\n",
       "    }\n",
       "\n",
       "    .dataframe thead th {\n",
       "        text-align: right;\n",
       "    }\n",
       "</style>\n",
       "<table border=\"1\" class=\"dataframe\">\n",
       "  <thead>\n",
       "    <tr style=\"text-align: right;\">\n",
       "      <th></th>\n",
       "      <th>Unnamed: 0</th>\n",
       "      <th>positive</th>\n",
       "      <th>negative</th>\n",
       "      <th>indecisive</th>\n",
       "      <th>score</th>\n",
       "      <th>y</th>\n",
       "      <th>sum</th>\n",
       "    </tr>\n",
       "  </thead>\n",
       "  <tbody>\n",
       "    <tr>\n",
       "      <th>0</th>\n",
       "      <td>2010-01-04</td>\n",
       "      <td>11.0</td>\n",
       "      <td>3.0</td>\n",
       "      <td>0.0</td>\n",
       "      <td>0.571429</td>\n",
       "      <td>0.043956</td>\n",
       "      <td>14.0</td>\n",
       "    </tr>\n",
       "    <tr>\n",
       "      <th>1</th>\n",
       "      <td>2010-01-05</td>\n",
       "      <td>6.0</td>\n",
       "      <td>6.0</td>\n",
       "      <td>3.0</td>\n",
       "      <td>0.000000</td>\n",
       "      <td>0.042511</td>\n",
       "      <td>15.0</td>\n",
       "    </tr>\n",
       "    <tr>\n",
       "      <th>2</th>\n",
       "      <td>2010-01-06</td>\n",
       "      <td>7.0</td>\n",
       "      <td>3.0</td>\n",
       "      <td>1.0</td>\n",
       "      <td>0.400000</td>\n",
       "      <td>0.041065</td>\n",
       "      <td>11.0</td>\n",
       "    </tr>\n",
       "    <tr>\n",
       "      <th>3</th>\n",
       "      <td>2010-01-07</td>\n",
       "      <td>9.0</td>\n",
       "      <td>5.0</td>\n",
       "      <td>0.0</td>\n",
       "      <td>0.285714</td>\n",
       "      <td>0.034180</td>\n",
       "      <td>14.0</td>\n",
       "    </tr>\n",
       "    <tr>\n",
       "      <th>4</th>\n",
       "      <td>2010-01-08</td>\n",
       "      <td>7.0</td>\n",
       "      <td>3.0</td>\n",
       "      <td>2.0</td>\n",
       "      <td>0.400000</td>\n",
       "      <td>0.049178</td>\n",
       "      <td>12.0</td>\n",
       "    </tr>\n",
       "  </tbody>\n",
       "</table>\n",
       "</div>"
      ],
      "text/plain": [
       "   Unnamed: 0  positive  negative  indecisive     score         y   sum\n",
       "0  2010-01-04      11.0       3.0         0.0  0.571429  0.043956  14.0\n",
       "1  2010-01-05       6.0       6.0         3.0  0.000000  0.042511  15.0\n",
       "2  2010-01-06       7.0       3.0         1.0  0.400000  0.041065  11.0\n",
       "3  2010-01-07       9.0       5.0         0.0  0.285714  0.034180  14.0\n",
       "4  2010-01-08       7.0       3.0         2.0  0.400000  0.049178  12.0"
      ]
     },
     "execution_count": 5,
     "metadata": {},
     "output_type": "execute_result"
    }
   ],
   "source": [
    "dataset['sum'] = dataset['positive'] + dataset['negative'] + dataset['indecisive']\n",
    "dataset.head(5)"
   ]
  },
  {
   "cell_type": "code",
   "execution_count": 6,
   "id": "c7725ba3",
   "metadata": {
    "execution": {
     "iopub.execute_input": "2023-12-01T01:44:18.308228Z",
     "iopub.status.busy": "2023-12-01T01:44:18.306800Z",
     "iopub.status.idle": "2023-12-01T01:44:40.358448Z",
     "shell.execute_reply": "2023-12-01T01:44:40.356991Z"
    },
    "papermill": {
     "duration": 22.066462,
     "end_time": "2023-12-01T01:44:40.361844",
     "exception": false,
     "start_time": "2023-12-01T01:44:18.295382",
     "status": "completed"
    },
    "tags": []
   },
   "outputs": [
    {
     "data": {
      "text/plain": [
       "[<matplotlib.lines.Line2D at 0x7ee4e8050e20>]"
      ]
     },
     "execution_count": 6,
     "metadata": {},
     "output_type": "execute_result"
    },
    {
     "data": {
      "image/png": "[encoded data removed]",
      "text/plain": [
       "<Figure size 640x480 with 1 Axes>"
      ]
     },
     "metadata": {},
     "output_type": "display_data"
    }
   ],
   "source": [
    "plt.plot(dataset['Unnamed: 0'], dataset['positive'])\n",
    "plt.plot(dataset['Unnamed: 0'], dataset['negative'])\n",
    "plt.plot(dataset['Unnamed: 0'], dataset['indecisive'])"
   ]
  },
  {
   "cell_type": "markdown",
   "id": "d96d89a7",
   "metadata": {
    "papermill": {
     "duration": 0.010544,
     "end_time": "2023-12-01T01:44:40.383818",
     "exception": false,
     "start_time": "2023-12-01T01:44:40.373274",
     "status": "completed"
    },
    "tags": []
   },
   "source": [
    "# Prepare dataset"
   ]
  },
  {
   "cell_type": "code",
   "execution_count": 7,
   "id": "5cc3e3cb",
   "metadata": {
    "execution": {
     "iopub.execute_input": "2023-12-01T01:44:40.407798Z",
     "iopub.status.busy": "2023-12-01T01:44:40.407386Z",
     "iopub.status.idle": "2023-12-01T01:44:40.412450Z",
     "shell.execute_reply": "2023-12-01T01:44:40.411250Z"
    },
    "papermill": {
     "duration": 0.020105,
     "end_time": "2023-12-01T01:44:40.414771",
     "exception": false,
     "start_time": "2023-12-01T01:44:40.394666",
     "status": "completed"
    },
    "tags": []
   },
   "outputs": [],
   "source": [
    "# dataset['Unnamed: 0'] = pd.to_datetime(dataset['Unnamed: 0'])\n",
    "# dataset = dataset.set_index('Unnamed: 0')"
   ]
  },
  {
   "cell_type": "code",
   "execution_count": 8,
   "id": "5cf6d7de",
   "metadata": {
    "execution": {
     "iopub.execute_input": "2023-12-01T01:44:40.438770Z",
     "iopub.status.busy": "2023-12-01T01:44:40.437963Z",
     "iopub.status.idle": "2023-12-01T01:44:40.442734Z",
     "shell.execute_reply": "2023-12-01T01:44:40.441362Z"
    },
    "papermill": {
     "duration": 0.019827,
     "end_time": "2023-12-01T01:44:40.445335",
     "exception": false,
     "start_time": "2023-12-01T01:44:40.425508",
     "status": "completed"
    },
    "tags": []
   },
   "outputs": [],
   "source": [
    "# from sklearn.preprocessing import MinMaxScaler\n",
    "\n",
    "# # Assuming 'Date' is a column in your dataset\n",
    "# dataset['Timestamp'] = (dataset['Unnamed: 0'] - pd.Timestamp(\"Y\")).dt.total_seconds()\n",
    "# scaler = MinMaxScaler()\n",
    "# dataset['Timestamp'] = scaler.fit_transform(dataset[['Timestamp']])"
   ]
  },
  {
   "cell_type": "code",
   "execution_count": 9,
   "id": "8489b8c6",
   "metadata": {
    "execution": {
     "iopub.execute_input": "2023-12-01T01:44:40.469654Z",
     "iopub.status.busy": "2023-12-01T01:44:40.468916Z",
     "iopub.status.idle": "2023-12-01T01:44:40.472962Z",
     "shell.execute_reply": "2023-12-01T01:44:40.472165Z"
    },
    "papermill": {
     "duration": 0.0192,
     "end_time": "2023-12-01T01:44:40.475456",
     "exception": false,
     "start_time": "2023-12-01T01:44:40.456256",
     "status": "completed"
    },
    "tags": []
   },
   "outputs": [],
   "source": [
    "# try normalising each data point with the sum"
   ]
  },
  {
   "cell_type": "code",
   "execution_count": 10,
   "id": "b8c27685",
   "metadata": {
    "execution": {
     "iopub.execute_input": "2023-12-01T01:44:40.499475Z",
     "iopub.status.busy": "2023-12-01T01:44:40.499020Z",
     "iopub.status.idle": "2023-12-01T01:44:40.507653Z",
     "shell.execute_reply": "2023-12-01T01:44:40.506326Z"
    },
    "papermill": {
     "duration": 0.024332,
     "end_time": "2023-12-01T01:44:40.510811",
     "exception": false,
     "start_time": "2023-12-01T01:44:40.486479",
     "status": "completed"
    },
    "tags": []
   },
   "outputs": [],
   "source": [
    "dataset_sum = dataset.pop('sum')\n",
    "y = dataset.pop('y')\n",
    "x = dataset\n",
    "dates = x.pop('Unnamed: 0')\n"
   ]
  },
  {
   "cell_type": "code",
   "execution_count": 11,
   "id": "7a4dd89a",
   "metadata": {
    "execution": {
     "iopub.execute_input": "2023-12-01T01:44:40.534692Z",
     "iopub.status.busy": "2023-12-01T01:44:40.534014Z",
     "iopub.status.idle": "2023-12-01T01:44:40.547982Z",
     "shell.execute_reply": "2023-12-01T01:44:40.546856Z"
    },
    "papermill": {
     "duration": 0.028434,
     "end_time": "2023-12-01T01:44:40.550363",
     "exception": false,
     "start_time": "2023-12-01T01:44:40.521929",
     "status": "completed"
    },
    "tags": []
   },
   "outputs": [
    {
     "data": {
      "text/html": [
       "<div>\n",
       "<style scoped>\n",
       "    .dataframe tbody tr th:only-of-type {\n",
       "        vertical-align: middle;\n",
       "    }\n",
       "\n",
       "    .dataframe tbody tr th {\n",
       "        vertical-align: top;\n",
       "    }\n",
       "\n",
       "    .dataframe thead th {\n",
       "        text-align: right;\n",
       "    }\n",
       "</style>\n",
       "<table border=\"1\" class=\"dataframe\">\n",
       "  <thead>\n",
       "    <tr style=\"text-align: right;\">\n",
       "      <th></th>\n",
       "      <th>positive</th>\n",
       "      <th>negative</th>\n",
       "      <th>indecisive</th>\n",
       "      <th>score</th>\n",
       "    </tr>\n",
       "  </thead>\n",
       "  <tbody>\n",
       "    <tr>\n",
       "      <th>0</th>\n",
       "      <td>11.0</td>\n",
       "      <td>3.0</td>\n",
       "      <td>0.0</td>\n",
       "      <td>0.571429</td>\n",
       "    </tr>\n",
       "    <tr>\n",
       "      <th>1</th>\n",
       "      <td>6.0</td>\n",
       "      <td>6.0</td>\n",
       "      <td>3.0</td>\n",
       "      <td>0.000000</td>\n",
       "    </tr>\n",
       "    <tr>\n",
       "      <th>2</th>\n",
       "      <td>7.0</td>\n",
       "      <td>3.0</td>\n",
       "      <td>1.0</td>\n",
       "      <td>0.400000</td>\n",
       "    </tr>\n",
       "    <tr>\n",
       "      <th>3</th>\n",
       "      <td>9.0</td>\n",
       "      <td>5.0</td>\n",
       "      <td>0.0</td>\n",
       "      <td>0.285714</td>\n",
       "    </tr>\n",
       "    <tr>\n",
       "      <th>4</th>\n",
       "      <td>7.0</td>\n",
       "      <td>3.0</td>\n",
       "      <td>2.0</td>\n",
       "      <td>0.400000</td>\n",
       "    </tr>\n",
       "  </tbody>\n",
       "</table>\n",
       "</div>"
      ],
      "text/plain": [
       "   positive  negative  indecisive     score\n",
       "0      11.0       3.0         0.0  0.571429\n",
       "1       6.0       6.0         3.0  0.000000\n",
       "2       7.0       3.0         1.0  0.400000\n",
       "3       9.0       5.0         0.0  0.285714\n",
       "4       7.0       3.0         2.0  0.400000"
      ]
     },
     "execution_count": 11,
     "metadata": {},
     "output_type": "execute_result"
    }
   ],
   "source": [
    "x.head()"
   ]
  },
  {
   "cell_type": "code",
   "execution_count": 12,
   "id": "501b01e5",
   "metadata": {
    "execution": {
     "iopub.execute_input": "2023-12-01T01:44:40.573805Z",
     "iopub.status.busy": "2023-12-01T01:44:40.572850Z",
     "iopub.status.idle": "2023-12-01T01:44:40.582584Z",
     "shell.execute_reply": "2023-12-01T01:44:40.581222Z"
    },
    "papermill": {
     "duration": 0.024531,
     "end_time": "2023-12-01T01:44:40.585261",
     "exception": false,
     "start_time": "2023-12-01T01:44:40.560730",
     "status": "completed"
    },
    "tags": []
   },
   "outputs": [
    {
     "data": {
      "text/plain": [
       "0    0.043956\n",
       "1    0.042511\n",
       "2    0.041065\n",
       "3    0.034180\n",
       "4    0.049178\n",
       "Name: y, dtype: float64"
      ]
     },
     "execution_count": 12,
     "metadata": {},
     "output_type": "execute_result"
    }
   ],
   "source": [
    "y.head()"
   ]
  },
  {
   "cell_type": "markdown",
   "id": "e2556db4",
   "metadata": {
    "papermill": {
     "duration": 0.010809,
     "end_time": "2023-12-01T01:44:40.606746",
     "exception": false,
     "start_time": "2023-12-01T01:44:40.595937",
     "status": "completed"
    },
    "tags": []
   },
   "source": [
    "# Define model"
   ]
  },
  {
   "cell_type": "code",
   "execution_count": 13,
   "id": "690a2549",
   "metadata": {
    "execution": {
     "iopub.execute_input": "2023-12-01T01:44:40.629934Z",
     "iopub.status.busy": "2023-12-01T01:44:40.629555Z",
     "iopub.status.idle": "2023-12-01T01:44:41.449299Z",
     "shell.execute_reply": "2023-12-01T01:44:41.447792Z"
    },
    "papermill": {
     "duration": 0.835201,
     "end_time": "2023-12-01T01:44:41.452547",
     "exception": false,
     "start_time": "2023-12-01T01:44:40.617346",
     "status": "completed"
    },
    "tags": []
   },
   "outputs": [],
   "source": [
    "features = 1 # 1D data\n",
    "input_shape = x.shape[1]\n",
    "\n",
    "model = tf.keras.models.Sequential([\n",
    "    layers.LSTM(units=64, input_shape=(input_shape, features), return_sequences=True),\n",
    "    layers.LSTM(units=32),\n",
    "    layers.Dense(units=1)\n",
    "])\n",
    "\n",
    "loss_function = tf.keras.losses.MeanAbsoluteError()\n",
    "optimiser = tf.keras.optimizers.Adam(learning_rate=0.0001) # changed lr from 0.001\n",
    "model.compile(loss = loss_function, optimizer=optimiser, metrics=['mae'])"
   ]
  },
  {
   "cell_type": "code",
   "execution_count": 14,
   "id": "72a3faeb",
   "metadata": {
    "execution": {
     "iopub.execute_input": "2023-12-01T01:44:41.477228Z",
     "iopub.status.busy": "2023-12-01T01:44:41.476728Z",
     "iopub.status.idle": "2023-12-01T01:44:41.500773Z",
     "shell.execute_reply": "2023-12-01T01:44:41.499357Z"
    },
    "papermill": {
     "duration": 0.044433,
     "end_time": "2023-12-01T01:44:41.508084",
     "exception": false,
     "start_time": "2023-12-01T01:44:41.463651",
     "status": "completed"
    },
    "tags": []
   },
   "outputs": [
    {
     "name": "stdout",
     "output_type": "stream",
     "text": [
      "Model: \"sequential\"\n",
      "_________________________________________________________________\n",
      " Layer (type)                Output Shape              Param #   \n",
      "=================================================================\n",
      " lstm (LSTM)                 (None, 4, 64)             16896     \n",
      "                                                                 \n",
      " lstm_1 (LSTM)               (None, 32)                12416     \n",
      "                                                                 \n",
      " dense (Dense)               (None, 1)                 33        \n",
      "                                                                 \n",
      "=================================================================\n",
      "Total params: 29345 (114.63 KB)\n",
      "Trainable params: 29345 (114.63 KB)\n",
      "Non-trainable params: 0 (0.00 Byte)\n",
      "_________________________________________________________________\n"
     ]
    }
   ],
   "source": [
    "model.summary()"
   ]
  },
  {
   "cell_type": "markdown",
   "id": "87ac0709",
   "metadata": {
    "papermill": {
     "duration": 0.011963,
     "end_time": "2023-12-01T01:44:41.532228",
     "exception": false,
     "start_time": "2023-12-01T01:44:41.520265",
     "status": "completed"
    },
    "tags": []
   },
   "source": [
    "### Test dataset"
   ]
  },
  {
   "cell_type": "code",
   "execution_count": 15,
   "id": "34b9400e",
   "metadata": {
    "execution": {
     "iopub.execute_input": "2023-12-01T01:44:41.559704Z",
     "iopub.status.busy": "2023-12-01T01:44:41.559230Z",
     "iopub.status.idle": "2023-12-01T01:45:26.800455Z",
     "shell.execute_reply": "2023-12-01T01:45:26.799196Z"
    },
    "papermill": {
     "duration": 45.258242,
     "end_time": "2023-12-01T01:45:26.803162",
     "exception": false,
     "start_time": "2023-12-01T01:44:41.544920",
     "status": "completed"
    },
    "tags": []
   },
   "outputs": [
    {
     "name": "stdout",
     "output_type": "stream",
     "text": [
      "Epoch 1/50\n",
      "82/82 [==============================] - 5s 9ms/step - loss: 0.0544 - mae: 0.0544\n",
      "Epoch 2/50\n",
      "82/82 [==============================] - 1s 8ms/step - loss: 0.0509 - mae: 0.0509\n",
      "Epoch 3/50\n",
      "82/82 [==============================] - 1s 9ms/step - loss: 0.0506 - mae: 0.0506\n",
      "Epoch 4/50\n",
      "82/82 [==============================] - 1s 9ms/step - loss: 0.0505 - mae: 0.0505\n",
      "Epoch 5/50\n",
      "82/82 [==============================] - 1s 9ms/step - loss: 0.0505 - mae: 0.0505\n",
      "Epoch 6/50\n",
      "82/82 [==============================] - 1s 10ms/step - loss: 0.0502 - mae: 0.0502\n",
      "Epoch 7/50\n",
      "82/82 [==============================] - 1s 9ms/step - loss: 0.0507 - mae: 0.0507\n",
      "Epoch 8/50\n",
      "82/82 [==============================] - 1s 9ms/step - loss: 0.0504 - mae: 0.0504\n",
      "Epoch 9/50\n",
      "82/82 [==============================] - 1s 9ms/step - loss: 0.0508 - mae: 0.0508\n",
      "Epoch 10/50\n",
      "82/82 [==============================] - 1s 9ms/step - loss: 0.0501 - mae: 0.0501\n",
      "Epoch 11/50\n",
      "82/82 [==============================] - 1s 8ms/step - loss: 0.0504 - mae: 0.0504\n",
      "Epoch 12/50\n",
      "82/82 [==============================] - 1s 9ms/step - loss: 0.0505 - mae: 0.0505\n",
      "Epoch 13/50\n",
      "82/82 [==============================] - 1s 9ms/step - loss: 0.0501 - mae: 0.0501\n",
      "Epoch 14/50\n",
      "82/82 [==============================] - 1s 8ms/step - loss: 0.0502 - mae: 0.0502\n",
      "Epoch 15/50\n",
      "82/82 [==============================] - 1s 8ms/step - loss: 0.0500 - mae: 0.0500\n",
      "Epoch 16/50\n",
      "82/82 [==============================] - 1s 8ms/step - loss: 0.0503 - mae: 0.0503\n",
      "Epoch 17/50\n",
      "82/82 [==============================] - 1s 9ms/step - loss: 0.0502 - mae: 0.0502\n",
      "Epoch 18/50\n",
      "82/82 [==============================] - 1s 9ms/step - loss: 0.0503 - mae: 0.0503\n",
      "Epoch 19/50\n",
      "82/82 [==============================] - 1s 8ms/step - loss: 0.0500 - mae: 0.0500\n",
      "Epoch 20/50\n",
      "82/82 [==============================] - 1s 8ms/step - loss: 0.0502 - mae: 0.0502\n",
      "Epoch 21/50\n",
      "82/82 [==============================] - 1s 9ms/step - loss: 0.0503 - mae: 0.0503\n",
      "Epoch 22/50\n",
      "82/82 [==============================] - 1s 9ms/step - loss: 0.0501 - mae: 0.0501\n",
      "Epoch 23/50\n",
      "82/82 [==============================] - 1s 8ms/step - loss: 0.0502 - mae: 0.0502\n",
      "Epoch 24/50\n",
      "82/82 [==============================] - 1s 9ms/step - loss: 0.0500 - mae: 0.0500\n",
      "Epoch 25/50\n",
      "82/82 [==============================] - 1s 8ms/step - loss: 0.0501 - mae: 0.0501\n",
      "Epoch 26/50\n",
      "82/82 [==============================] - 1s 9ms/step - loss: 0.0500 - mae: 0.0500\n",
      "Epoch 27/50\n",
      "82/82 [==============================] - 1s 9ms/step - loss: 0.0500 - mae: 0.0500\n",
      "Epoch 28/50\n",
      "82/82 [==============================] - 1s 8ms/step - loss: 0.0501 - mae: 0.0501\n",
      "Epoch 29/50\n",
      "82/82 [==============================] - 1s 9ms/step - loss: 0.0501 - mae: 0.0501\n",
      "Epoch 30/50\n",
      "82/82 [==============================] - 1s 9ms/step - loss: 0.0500 - mae: 0.0500\n",
      "Epoch 31/50\n",
      "82/82 [==============================] - 1s 9ms/step - loss: 0.0500 - mae: 0.0500\n",
      "Epoch 32/50\n",
      "82/82 [==============================] - 1s 9ms/step - loss: 0.0504 - mae: 0.0504\n",
      "Epoch 33/50\n",
      "82/82 [==============================] - 1s 9ms/step - loss: 0.0502 - mae: 0.0502\n",
      "Epoch 34/50\n",
      "82/82 [==============================] - 1s 9ms/step - loss: 0.0501 - mae: 0.0501\n",
      "Epoch 35/50\n",
      "82/82 [==============================] - 1s 9ms/step - loss: 0.0502 - mae: 0.0502\n",
      "Epoch 36/50\n",
      "82/82 [==============================] - 1s 9ms/step - loss: 0.0502 - mae: 0.0502\n",
      "Epoch 37/50\n",
      "82/82 [==============================] - 1s 8ms/step - loss: 0.0501 - mae: 0.0501\n",
      "Epoch 38/50\n",
      "82/82 [==============================] - 1s 8ms/step - loss: 0.0501 - mae: 0.0501\n",
      "Epoch 39/50\n",
      "82/82 [==============================] - 1s 8ms/step - loss: 0.0501 - mae: 0.0501\n",
      "Epoch 40/50\n",
      "82/82 [==============================] - 1s 9ms/step - loss: 0.0501 - mae: 0.0501\n",
      "Epoch 41/50\n",
      "82/82 [==============================] - 1s 9ms/step - loss: 0.0501 - mae: 0.0501\n",
      "Epoch 42/50\n",
      "82/82 [==============================] - 1s 9ms/step - loss: 0.0500 - mae: 0.0500\n",
      "Epoch 43/50\n",
      "82/82 [==============================] - 1s 9ms/step - loss: 0.0500 - mae: 0.0500\n",
      "Epoch 44/50\n",
      "82/82 [==============================] - 1s 9ms/step - loss: 0.0503 - mae: 0.0503\n",
      "Epoch 45/50\n",
      "82/82 [==============================] - 1s 9ms/step - loss: 0.0501 - mae: 0.0501\n",
      "Epoch 46/50\n",
      "82/82 [==============================] - 1s 9ms/step - loss: 0.0502 - mae: 0.0502\n",
      "Epoch 47/50\n",
      "82/82 [==============================] - 1s 9ms/step - loss: 0.0501 - mae: 0.0501\n",
      "Epoch 48/50\n",
      "82/82 [==============================] - 1s 9ms/step - loss: 0.0499 - mae: 0.0499\n",
      "Epoch 49/50\n",
      "82/82 [==============================] - 1s 9ms/step - loss: 0.0503 - mae: 0.0503\n",
      "Epoch 50/50\n",
      "82/82 [==============================] - 1s 10ms/step - loss: 0.0502 - mae: 0.0502\n"
     ]
    },
    {
     "data": {
      "text/plain": [
       "<keras.src.callbacks.History at 0x7ee4e3b04fd0>"
      ]
     },
     "execution_count": 15,
     "metadata": {},
     "output_type": "execute_result"
    }
   ],
   "source": [
    "model.fit(x, y, epochs=50, batch_size=32)"
   ]
  },
  {
   "cell_type": "markdown",
   "id": "6878d6f3",
   "metadata": {
    "papermill": {
     "duration": 0.190008,
     "end_time": "2023-12-01T01:45:27.079638",
     "exception": false,
     "start_time": "2023-12-01T01:45:26.889630",
     "status": "completed"
    },
    "tags": []
   },
   "source": [
    "# Generate submission"
   ]
  },
  {
   "cell_type": "code",
   "execution_count": 16,
   "id": "c0367e73",
   "metadata": {
    "execution": {
     "iopub.execute_input": "2023-12-01T01:45:27.258105Z",
     "iopub.status.busy": "2023-12-01T01:45:27.257289Z",
     "iopub.status.idle": "2023-12-01T01:45:27.273013Z",
     "shell.execute_reply": "2023-12-01T01:45:27.272019Z"
    },
    "papermill": {
     "duration": 0.107957,
     "end_time": "2023-12-01T01:45:27.276125",
     "exception": false,
     "start_time": "2023-12-01T01:45:27.168168",
     "status": "completed"
    },
    "tags": []
   },
   "outputs": [],
   "source": [
    "test_dataset = pd.read_csv(\"/kaggle/input/2023-psl-week-using-bloomberg-news/test.csv\")\n",
    "dates = test_dataset.pop('Unnamed: 0')"
   ]
  },
  {
   "cell_type": "code",
   "execution_count": 17,
   "id": "62e6525a",
   "metadata": {
    "execution": {
     "iopub.execute_input": "2023-12-01T01:45:27.453025Z",
     "iopub.status.busy": "2023-12-01T01:45:27.451714Z",
     "iopub.status.idle": "2023-12-01T01:45:27.468535Z",
     "shell.execute_reply": "2023-12-01T01:45:27.467155Z"
    },
    "papermill": {
     "duration": 0.108322,
     "end_time": "2023-12-01T01:45:27.471162",
     "exception": false,
     "start_time": "2023-12-01T01:45:27.362840",
     "status": "completed"
    },
    "tags": []
   },
   "outputs": [
    {
     "data": {
      "text/html": [
       "<div>\n",
       "<style scoped>\n",
       "    .dataframe tbody tr th:only-of-type {\n",
       "        vertical-align: middle;\n",
       "    }\n",
       "\n",
       "    .dataframe tbody tr th {\n",
       "        vertical-align: top;\n",
       "    }\n",
       "\n",
       "    .dataframe thead th {\n",
       "        text-align: right;\n",
       "    }\n",
       "</style>\n",
       "<table border=\"1\" class=\"dataframe\">\n",
       "  <thead>\n",
       "    <tr style=\"text-align: right;\">\n",
       "      <th></th>\n",
       "      <th>positive</th>\n",
       "      <th>negative</th>\n",
       "      <th>indecisive</th>\n",
       "      <th>score</th>\n",
       "    </tr>\n",
       "  </thead>\n",
       "  <tbody>\n",
       "    <tr>\n",
       "      <th>0</th>\n",
       "      <td>7.0</td>\n",
       "      <td>3.0</td>\n",
       "      <td>2.0</td>\n",
       "      <td>0.400000</td>\n",
       "    </tr>\n",
       "    <tr>\n",
       "      <th>1</th>\n",
       "      <td>1.0</td>\n",
       "      <td>11.0</td>\n",
       "      <td>2.0</td>\n",
       "      <td>-0.833333</td>\n",
       "    </tr>\n",
       "    <tr>\n",
       "      <th>2</th>\n",
       "      <td>7.0</td>\n",
       "      <td>5.0</td>\n",
       "      <td>2.0</td>\n",
       "      <td>0.166667</td>\n",
       "    </tr>\n",
       "    <tr>\n",
       "      <th>3</th>\n",
       "      <td>5.0</td>\n",
       "      <td>6.0</td>\n",
       "      <td>3.0</td>\n",
       "      <td>-0.090909</td>\n",
       "    </tr>\n",
       "    <tr>\n",
       "      <th>4</th>\n",
       "      <td>9.0</td>\n",
       "      <td>3.0</td>\n",
       "      <td>2.0</td>\n",
       "      <td>0.500000</td>\n",
       "    </tr>\n",
       "  </tbody>\n",
       "</table>\n",
       "</div>"
      ],
      "text/plain": [
       "   positive  negative  indecisive     score\n",
       "0       7.0       3.0         2.0  0.400000\n",
       "1       1.0      11.0         2.0 -0.833333\n",
       "2       7.0       5.0         2.0  0.166667\n",
       "3       5.0       6.0         3.0 -0.090909\n",
       "4       9.0       3.0         2.0  0.500000"
      ]
     },
     "execution_count": 17,
     "metadata": {},
     "output_type": "execute_result"
    }
   ],
   "source": [
    "test_dataset.head()"
   ]
  },
  {
   "cell_type": "code",
   "execution_count": 18,
   "id": "6c60b2fc",
   "metadata": {
    "execution": {
     "iopub.execute_input": "2023-12-01T01:45:27.645508Z",
     "iopub.status.busy": "2023-12-01T01:45:27.644084Z",
     "iopub.status.idle": "2023-12-01T01:45:28.793848Z",
     "shell.execute_reply": "2023-12-01T01:45:28.792474Z"
    },
    "papermill": {
     "duration": 1.240446,
     "end_time": "2023-12-01T01:45:28.797027",
     "exception": false,
     "start_time": "2023-12-01T01:45:27.556581",
     "status": "completed"
    },
    "tags": []
   },
   "outputs": [
    {
     "name": "stdout",
     "output_type": "stream",
     "text": [
      "30/30 [==============================] - 1s 3ms/step\n"
     ]
    }
   ],
   "source": [
    "predictions = model.predict(test_dataset)"
   ]
  },
  {
   "cell_type": "code",
   "execution_count": 19,
   "id": "33d13ea2",
   "metadata": {
    "execution": {
     "iopub.execute_input": "2023-12-01T01:45:28.978818Z",
     "iopub.status.busy": "2023-12-01T01:45:28.978344Z",
     "iopub.status.idle": "2023-12-01T01:45:28.986839Z",
     "shell.execute_reply": "2023-12-01T01:45:28.985887Z"
    },
    "papermill": {
     "duration": 0.104413,
     "end_time": "2023-12-01T01:45:28.989176",
     "exception": false,
     "start_time": "2023-12-01T01:45:28.884763",
     "status": "completed"
    },
    "tags": []
   },
   "outputs": [],
   "source": [
    "submission = pd.DataFrame()\n",
    "submission['date'] = dates\n",
    "submission['y'] = predictions"
   ]
  },
  {
   "cell_type": "code",
   "execution_count": 20,
   "id": "b479de93",
   "metadata": {
    "execution": {
     "iopub.execute_input": "2023-12-01T01:45:29.168880Z",
     "iopub.status.busy": "2023-12-01T01:45:29.167972Z",
     "iopub.status.idle": "2023-12-01T01:45:29.180606Z",
     "shell.execute_reply": "2023-12-01T01:45:29.179402Z"
    },
    "papermill": {
     "duration": 0.104646,
     "end_time": "2023-12-01T01:45:29.183209",
     "exception": false,
     "start_time": "2023-12-01T01:45:29.078563",
     "status": "completed"
    },
    "tags": []
   },
   "outputs": [
    {
     "data": {
      "text/html": [
       "<div>\n",
       "<style scoped>\n",
       "    .dataframe tbody tr th:only-of-type {\n",
       "        vertical-align: middle;\n",
       "    }\n",
       "\n",
       "    .dataframe tbody tr th {\n",
       "        vertical-align: top;\n",
       "    }\n",
       "\n",
       "    .dataframe thead th {\n",
       "        text-align: right;\n",
       "    }\n",
       "</style>\n",
       "<table border=\"1\" class=\"dataframe\">\n",
       "  <thead>\n",
       "    <tr style=\"text-align: right;\">\n",
       "      <th></th>\n",
       "      <th>date</th>\n",
       "      <th>y</th>\n",
       "    </tr>\n",
       "  </thead>\n",
       "  <tbody>\n",
       "    <tr>\n",
       "      <th>0</th>\n",
       "      <td>2020-01-02</td>\n",
       "      <td>0.044326</td>\n",
       "    </tr>\n",
       "    <tr>\n",
       "      <th>1</th>\n",
       "      <td>2020-01-03</td>\n",
       "      <td>0.042445</td>\n",
       "    </tr>\n",
       "    <tr>\n",
       "      <th>2</th>\n",
       "      <td>2020-01-06</td>\n",
       "      <td>0.046232</td>\n",
       "    </tr>\n",
       "    <tr>\n",
       "      <th>3</th>\n",
       "      <td>2020-01-07</td>\n",
       "      <td>0.048560</td>\n",
       "    </tr>\n",
       "    <tr>\n",
       "      <th>4</th>\n",
       "      <td>2020-01-08</td>\n",
       "      <td>0.042845</td>\n",
       "    </tr>\n",
       "  </tbody>\n",
       "</table>\n",
       "</div>"
      ],
      "text/plain": [
       "         date         y\n",
       "0  2020-01-02  0.044326\n",
       "1  2020-01-03  0.042445\n",
       "2  2020-01-06  0.046232\n",
       "3  2020-01-07  0.048560\n",
       "4  2020-01-08  0.042845"
      ]
     },
     "execution_count": 20,
     "metadata": {},
     "output_type": "execute_result"
    }
   ],
   "source": [
    "submission.head()"
   ]
  },
  {
   "cell_type": "code",
   "execution_count": 21,
   "id": "9903dd08",
   "metadata": {
    "execution": {
     "iopub.execute_input": "2023-12-01T01:45:29.363290Z",
     "iopub.status.busy": "2023-12-01T01:45:29.362367Z",
     "iopub.status.idle": "2023-12-01T01:45:29.382377Z",
     "shell.execute_reply": "2023-12-01T01:45:29.379549Z"
    },
    "papermill": {
     "duration": 0.113948,
     "end_time": "2023-12-01T01:45:29.385774",
     "exception": false,
     "start_time": "2023-12-01T01:45:29.271826",
     "status": "completed"
    },
    "tags": []
   },
   "outputs": [
    {
     "data": {
      "text/html": [
       "<div>\n",
       "<style scoped>\n",
       "    .dataframe tbody tr th:only-of-type {\n",
       "        vertical-align: middle;\n",
       "    }\n",
       "\n",
       "    .dataframe tbody tr th {\n",
       "        vertical-align: top;\n",
       "    }\n",
       "\n",
       "    .dataframe thead th {\n",
       "        text-align: right;\n",
       "    }\n",
       "</style>\n",
       "<table border=\"1\" class=\"dataframe\">\n",
       "  <thead>\n",
       "    <tr style=\"text-align: right;\">\n",
       "      <th></th>\n",
       "      <th>y</th>\n",
       "    </tr>\n",
       "  </thead>\n",
       "  <tbody>\n",
       "    <tr>\n",
       "      <th>count</th>\n",
       "      <td>957.000000</td>\n",
       "    </tr>\n",
       "    <tr>\n",
       "      <th>mean</th>\n",
       "      <td>0.046883</td>\n",
       "    </tr>\n",
       "    <tr>\n",
       "      <th>std</th>\n",
       "      <td>0.003170</td>\n",
       "    </tr>\n",
       "    <tr>\n",
       "      <th>min</th>\n",
       "      <td>0.032226</td>\n",
       "    </tr>\n",
       "    <tr>\n",
       "      <th>25%</th>\n",
       "      <td>0.045428</td>\n",
       "    </tr>\n",
       "    <tr>\n",
       "      <th>50%</th>\n",
       "      <td>0.047346</td>\n",
       "    </tr>\n",
       "    <tr>\n",
       "      <th>75%</th>\n",
       "      <td>0.049272</td>\n",
       "    </tr>\n",
       "    <tr>\n",
       "      <th>max</th>\n",
       "      <td>0.052059</td>\n",
       "    </tr>\n",
       "  </tbody>\n",
       "</table>\n",
       "</div>"
      ],
      "text/plain": [
       "                y\n",
       "count  957.000000\n",
       "mean     0.046883\n",
       "std      0.003170\n",
       "min      0.032226\n",
       "25%      0.045428\n",
       "50%      0.047346\n",
       "75%      0.049272\n",
       "max      0.052059"
      ]
     },
     "execution_count": 21,
     "metadata": {},
     "output_type": "execute_result"
    }
   ],
   "source": [
    "submission.describe()"
   ]
  },
  {
   "cell_type": "code",
   "execution_count": 22,
   "id": "993bd6e6",
   "metadata": {
    "execution": {
     "iopub.execute_input": "2023-12-01T01:45:29.568393Z",
     "iopub.status.busy": "2023-12-01T01:45:29.567659Z",
     "iopub.status.idle": "2023-12-01T01:45:29.580439Z",
     "shell.execute_reply": "2023-12-01T01:45:29.579473Z"
    },
    "papermill": {
     "duration": 0.107463,
     "end_time": "2023-12-01T01:45:29.583261",
     "exception": false,
     "start_time": "2023-12-01T01:45:29.475798",
     "status": "completed"
    },
    "tags": []
   },
   "outputs": [],
   "source": [
    "submission.to_csv('/kaggle/working/submission.csv',index=False,header=True)"
   ]
  }
 ],
 "metadata": {
  "kaggle": {
   "accelerator": "none",
   "dataSources": [
    {
     "databundleVersionId": 7177891,
     "sourceId": 65279,
     "sourceType": "competition"
    }
   ],
   "dockerImageVersionId": 30587,
   "isGpuEnabled": false,
   "isInternetEnabled": true,
   "language": "python",
   "sourceType": "notebook"
  },
  "kernelspec": {
   "display_name": "Python 3",
   "language": "python",
   "name": "python3"
  },
  "language_info": {
   "codemirror_mode": {
    "name": "ipython",
    "version": 3
   },
   "file_extension": ".py",
   "mimetype": "text/x-python",
   "name": "python",
   "nbconvert_exporter": "python",
   "pygments_lexer": "ipython3",
   "version": "3.10.12"
  },
  "papermill": {
   "default_parameters": {},
   "duration": 93.612793,
   "end_time": "2023-12-01T01:45:33.066291",
   "environment_variables": {},
   "exception": null,
   "input_path": "__notebook__.ipynb",
   "output_path": "__notebook__.ipynb",
   "parameters": {},
   "start_time": "2023-12-01T01:43:59.453498",
   "version": "2.4.0"
  }
 },
 "nbformat": 4,
 "nbformat_minor": 5
}
