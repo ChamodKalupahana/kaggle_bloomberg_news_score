{
 "cells": [
  {
   "cell_type": "markdown",
   "id": "e45e5910",
   "metadata": {
    "papermill": {
     "duration": 0.010196,
     "end_time": "2023-12-01T20:02:01.865455",
     "exception": false,
     "start_time": "2023-12-01T20:02:01.855259",
     "status": "completed"
    },
    "tags": []
   },
   "source": [
    "# Documentation available at https://github.com/ChamodKalupahana/kaggle_bloomberg_news_score"
   ]
  },
  {
   "cell_type": "code",
   "execution_count": 1,
   "id": "ac8aa2b8",
   "metadata": {
    "_cell_guid": "b1076dfc-b9ad-4769-8c92-a6c4dae69d19",
    "_uuid": "8f2839f25d086af736a60e9eeb907d3b93b6e0e5",
    "execution": {
     "iopub.execute_input": "2023-12-01T20:02:01.887341Z",
     "iopub.status.busy": "2023-12-01T20:02:01.886840Z",
     "iopub.status.idle": "2023-12-01T20:02:17.213666Z",
     "shell.execute_reply": "2023-12-01T20:02:17.212789Z"
    },
    "papermill": {
     "duration": 15.340756,
     "end_time": "2023-12-01T20:02:17.216145",
     "exception": false,
     "start_time": "2023-12-01T20:02:01.875389",
     "status": "completed"
    },
    "tags": []
   },
   "outputs": [
    {
     "name": "stdout",
     "output_type": "stream",
     "text": [
      "/kaggle/input/2023-psl-week-using-bloomberg-news/train.csv\n",
      "/kaggle/input/2023-psl-week-using-bloomberg-news/test.csv\n"
     ]
    }
   ],
   "source": [
    "# This Python 3 environment comes with many helpful analytics libraries installed\n",
    "# It is defined by the kaggle/python Docker image: https://github.com/kaggle/docker-python\n",
    "# For example, here's several helpful packages to load\n",
    "\n",
    "import numpy as np # linear algebra\n",
    "import pandas as pd # data processing, CSV file I/O (e.g. pd.read_csv)\n",
    "import matplotlib.pyplot as plt\n",
    "\n",
    "# for RNN model\n",
    "import tensorflow as tf\n",
    "import tensorflow.keras.layers as layers\n",
    "\n",
    "# Input data files are available in the read-only \"../input/\" directory\n",
    "# For example, running this (by clicking run or pressing Shift+Enter) will list all files under the input directory\n",
    "\n",
    "import os\n",
    "for dirname, _, filenames in os.walk('/kaggle/input'):\n",
    "    for filename in filenames:\n",
    "        print(os.path.join(dirname, filename))\n",
    "\n",
    "# You can write up to 20GB to the current directory (/kaggle/working/) that gets preserved as output when you create a version using \"Save & Run All\" \n",
    "# You can also write temporary files to /kaggle/temp/, but they won't be saved outside of the current session"
   ]
  },
  {
   "cell_type": "markdown",
   "id": "23b28d85",
   "metadata": {
    "papermill": {
     "duration": 0.009866,
     "end_time": "2023-12-01T20:02:17.236365",
     "exception": false,
     "start_time": "2023-12-01T20:02:17.226499",
     "status": "completed"
    },
    "tags": []
   },
   "source": [
    "# Load dataset"
   ]
  },
  {
   "cell_type": "code",
   "execution_count": 2,
   "id": "79430dc6",
   "metadata": {
    "execution": {
     "iopub.execute_input": "2023-12-01T20:02:17.258632Z",
     "iopub.status.busy": "2023-12-01T20:02:17.257919Z",
     "iopub.status.idle": "2023-12-01T20:02:17.285921Z",
     "shell.execute_reply": "2023-12-01T20:02:17.284949Z"
    },
    "papermill": {
     "duration": 0.042403,
     "end_time": "2023-12-01T20:02:17.288701",
     "exception": false,
     "start_time": "2023-12-01T20:02:17.246298",
     "status": "completed"
    },
    "tags": []
   },
   "outputs": [],
   "source": [
    "filepath = \"/kaggle/input/2023-psl-week-using-bloomberg-news/train.csv\"\n",
    "test_filepath = \"/kaggle/input/2023-psl-week-using-bloomberg-news/test.csv\"\n",
    "\n",
    "dataset = pd.read_csv(filepath)\n",
    "test_dataset = pd.read_csv(test_filepath)"
   ]
  },
  {
   "cell_type": "code",
   "execution_count": 3,
   "id": "246a43df",
   "metadata": {
    "execution": {
     "iopub.execute_input": "2023-12-01T20:02:17.310748Z",
     "iopub.status.busy": "2023-12-01T20:02:17.310078Z",
     "iopub.status.idle": "2023-12-01T20:02:17.339678Z",
     "shell.execute_reply": "2023-12-01T20:02:17.338530Z"
    },
    "papermill": {
     "duration": 0.04336,
     "end_time": "2023-12-01T20:02:17.342143",
     "exception": false,
     "start_time": "2023-12-01T20:02:17.298783",
     "status": "completed"
    },
    "tags": []
   },
   "outputs": [
    {
     "data": {
      "text/html": [
       "<div>\n",
       "<style scoped>\n",
       "    .dataframe tbody tr th:only-of-type {\n",
       "        vertical-align: middle;\n",
       "    }\n",
       "\n",
       "    .dataframe tbody tr th {\n",
       "        vertical-align: top;\n",
       "    }\n",
       "\n",
       "    .dataframe thead th {\n",
       "        text-align: right;\n",
       "    }\n",
       "</style>\n",
       "<table border=\"1\" class=\"dataframe\">\n",
       "  <thead>\n",
       "    <tr style=\"text-align: right;\">\n",
       "      <th></th>\n",
       "      <th>Unnamed: 0</th>\n",
       "      <th>positive</th>\n",
       "      <th>negative</th>\n",
       "      <th>indecisive</th>\n",
       "      <th>score</th>\n",
       "      <th>y</th>\n",
       "    </tr>\n",
       "  </thead>\n",
       "  <tbody>\n",
       "    <tr>\n",
       "      <th>0</th>\n",
       "      <td>2010-01-04</td>\n",
       "      <td>11.0</td>\n",
       "      <td>3.0</td>\n",
       "      <td>0.0</td>\n",
       "      <td>0.571429</td>\n",
       "      <td>0.043956</td>\n",
       "    </tr>\n",
       "    <tr>\n",
       "      <th>1</th>\n",
       "      <td>2010-01-05</td>\n",
       "      <td>6.0</td>\n",
       "      <td>6.0</td>\n",
       "      <td>3.0</td>\n",
       "      <td>0.000000</td>\n",
       "      <td>0.042511</td>\n",
       "    </tr>\n",
       "    <tr>\n",
       "      <th>2</th>\n",
       "      <td>2010-01-06</td>\n",
       "      <td>7.0</td>\n",
       "      <td>3.0</td>\n",
       "      <td>1.0</td>\n",
       "      <td>0.400000</td>\n",
       "      <td>0.041065</td>\n",
       "    </tr>\n",
       "    <tr>\n",
       "      <th>3</th>\n",
       "      <td>2010-01-07</td>\n",
       "      <td>9.0</td>\n",
       "      <td>5.0</td>\n",
       "      <td>0.0</td>\n",
       "      <td>0.285714</td>\n",
       "      <td>0.034180</td>\n",
       "    </tr>\n",
       "    <tr>\n",
       "      <th>4</th>\n",
       "      <td>2010-01-08</td>\n",
       "      <td>7.0</td>\n",
       "      <td>3.0</td>\n",
       "      <td>2.0</td>\n",
       "      <td>0.400000</td>\n",
       "      <td>0.049178</td>\n",
       "    </tr>\n",
       "  </tbody>\n",
       "</table>\n",
       "</div>"
      ],
      "text/plain": [
       "   Unnamed: 0  positive  negative  indecisive     score         y\n",
       "0  2010-01-04      11.0       3.0         0.0  0.571429  0.043956\n",
       "1  2010-01-05       6.0       6.0         3.0  0.000000  0.042511\n",
       "2  2010-01-06       7.0       3.0         1.0  0.400000  0.041065\n",
       "3  2010-01-07       9.0       5.0         0.0  0.285714  0.034180\n",
       "4  2010-01-08       7.0       3.0         2.0  0.400000  0.049178"
      ]
     },
     "execution_count": 3,
     "metadata": {},
     "output_type": "execute_result"
    }
   ],
   "source": [
    "dataset.head()"
   ]
  },
  {
   "cell_type": "code",
   "execution_count": 4,
   "id": "87be674f",
   "metadata": {
    "execution": {
     "iopub.execute_input": "2023-12-01T20:02:17.364747Z",
     "iopub.status.busy": "2023-12-01T20:02:17.364081Z",
     "iopub.status.idle": "2023-12-01T20:02:17.393372Z",
     "shell.execute_reply": "2023-12-01T20:02:17.392501Z"
    },
    "papermill": {
     "duration": 0.0435,
     "end_time": "2023-12-01T20:02:17.395980",
     "exception": false,
     "start_time": "2023-12-01T20:02:17.352480",
     "status": "completed"
    },
    "tags": []
   },
   "outputs": [
    {
     "name": "stdout",
     "output_type": "stream",
     "text": [
      "<class 'pandas.core.frame.DataFrame'>\n",
      "RangeIndex: 2594 entries, 0 to 2593\n",
      "Data columns (total 6 columns):\n",
      " #   Column      Non-Null Count  Dtype  \n",
      "---  ------      --------------  -----  \n",
      " 0   Unnamed: 0  2594 non-null   object \n",
      " 1   positive    2594 non-null   float64\n",
      " 2   negative    2594 non-null   float64\n",
      " 3   indecisive  2594 non-null   float64\n",
      " 4   score       2594 non-null   float64\n",
      " 5   y           2594 non-null   float64\n",
      "dtypes: float64(5), object(1)\n",
      "memory usage: 121.7+ KB\n"
     ]
    }
   ],
   "source": [
    "dataset.info()"
   ]
  },
  {
   "cell_type": "markdown",
   "id": "a31e5d03",
   "metadata": {
    "papermill": {
     "duration": 0.010177,
     "end_time": "2023-12-01T20:02:17.416877",
     "exception": false,
     "start_time": "2023-12-01T20:02:17.406700",
     "status": "completed"
    },
    "tags": []
   },
   "source": [
    "#### Create sum column to normalise data"
   ]
  },
  {
   "cell_type": "code",
   "execution_count": 5,
   "id": "3328ffe8",
   "metadata": {
    "execution": {
     "iopub.execute_input": "2023-12-01T20:02:17.439604Z",
     "iopub.status.busy": "2023-12-01T20:02:17.438931Z",
     "iopub.status.idle": "2023-12-01T20:02:17.457042Z",
     "shell.execute_reply": "2023-12-01T20:02:17.455896Z"
    },
    "papermill": {
     "duration": 0.032678,
     "end_time": "2023-12-01T20:02:17.459828",
     "exception": false,
     "start_time": "2023-12-01T20:02:17.427150",
     "status": "completed"
    },
    "tags": []
   },
   "outputs": [
    {
     "data": {
      "text/html": [
       "<div>\n",
       "<style scoped>\n",
       "    .dataframe tbody tr th:only-of-type {\n",
       "        vertical-align: middle;\n",
       "    }\n",
       "\n",
       "    .dataframe tbody tr th {\n",
       "        vertical-align: top;\n",
       "    }\n",
       "\n",
       "    .dataframe thead th {\n",
       "        text-align: right;\n",
       "    }\n",
       "</style>\n",
       "<table border=\"1\" class=\"dataframe\">\n",
       "  <thead>\n",
       "    <tr style=\"text-align: right;\">\n",
       "      <th></th>\n",
       "      <th>Unnamed: 0</th>\n",
       "      <th>positive</th>\n",
       "      <th>negative</th>\n",
       "      <th>indecisive</th>\n",
       "      <th>score</th>\n",
       "      <th>y</th>\n",
       "      <th>sum</th>\n",
       "    </tr>\n",
       "  </thead>\n",
       "  <tbody>\n",
       "    <tr>\n",
       "      <th>0</th>\n",
       "      <td>2010-01-04</td>\n",
       "      <td>11.0</td>\n",
       "      <td>3.0</td>\n",
       "      <td>0.0</td>\n",
       "      <td>0.571429</td>\n",
       "      <td>0.043956</td>\n",
       "      <td>14.0</td>\n",
       "    </tr>\n",
       "    <tr>\n",
       "      <th>1</th>\n",
       "      <td>2010-01-05</td>\n",
       "      <td>6.0</td>\n",
       "      <td>6.0</td>\n",
       "      <td>3.0</td>\n",
       "      <td>0.000000</td>\n",
       "      <td>0.042511</td>\n",
       "      <td>15.0</td>\n",
       "    </tr>\n",
       "    <tr>\n",
       "      <th>2</th>\n",
       "      <td>2010-01-06</td>\n",
       "      <td>7.0</td>\n",
       "      <td>3.0</td>\n",
       "      <td>1.0</td>\n",
       "      <td>0.400000</td>\n",
       "      <td>0.041065</td>\n",
       "      <td>11.0</td>\n",
       "    </tr>\n",
       "    <tr>\n",
       "      <th>3</th>\n",
       "      <td>2010-01-07</td>\n",
       "      <td>9.0</td>\n",
       "      <td>5.0</td>\n",
       "      <td>0.0</td>\n",
       "      <td>0.285714</td>\n",
       "      <td>0.034180</td>\n",
       "      <td>14.0</td>\n",
       "    </tr>\n",
       "    <tr>\n",
       "      <th>4</th>\n",
       "      <td>2010-01-08</td>\n",
       "      <td>7.0</td>\n",
       "      <td>3.0</td>\n",
       "      <td>2.0</td>\n",
       "      <td>0.400000</td>\n",
       "      <td>0.049178</td>\n",
       "      <td>12.0</td>\n",
       "    </tr>\n",
       "  </tbody>\n",
       "</table>\n",
       "</div>"
      ],
      "text/plain": [
       "   Unnamed: 0  positive  negative  indecisive     score         y   sum\n",
       "0  2010-01-04      11.0       3.0         0.0  0.571429  0.043956  14.0\n",
       "1  2010-01-05       6.0       6.0         3.0  0.000000  0.042511  15.0\n",
       "2  2010-01-06       7.0       3.0         1.0  0.400000  0.041065  11.0\n",
       "3  2010-01-07       9.0       5.0         0.0  0.285714  0.034180  14.0\n",
       "4  2010-01-08       7.0       3.0         2.0  0.400000  0.049178  12.0"
      ]
     },
     "execution_count": 5,
     "metadata": {},
     "output_type": "execute_result"
    }
   ],
   "source": [
    "dataset['sum'] = dataset['positive'] + dataset['negative'] + dataset['indecisive']\n",
    "dataset.head(5)"
   ]
  },
  {
   "cell_type": "code",
   "execution_count": 6,
   "id": "de07e504",
   "metadata": {
    "execution": {
     "iopub.execute_input": "2023-12-01T20:02:17.482900Z",
     "iopub.status.busy": "2023-12-01T20:02:17.482458Z",
     "iopub.status.idle": "2023-12-01T20:02:17.487564Z",
     "shell.execute_reply": "2023-12-01T20:02:17.486324Z"
    },
    "papermill": {
     "duration": 0.019398,
     "end_time": "2023-12-01T20:02:17.489890",
     "exception": false,
     "start_time": "2023-12-01T20:02:17.470492",
     "status": "completed"
    },
    "tags": []
   },
   "outputs": [],
   "source": [
    "# plt.plot(dataset['Unnamed: 0'], dataset['positive'])\n",
    "# plt.plot(dataset['Unnamed: 0'], dataset['negative'])\n",
    "# plt.plot(dataset['Unnamed: 0'], dataset['indecisive'])"
   ]
  },
  {
   "cell_type": "code",
   "execution_count": 7,
   "id": "89ef9baa",
   "metadata": {
    "execution": {
     "iopub.execute_input": "2023-12-01T20:02:17.514037Z",
     "iopub.status.busy": "2023-12-01T20:02:17.513302Z",
     "iopub.status.idle": "2023-12-01T20:02:17.548795Z",
     "shell.execute_reply": "2023-12-01T20:02:17.547560Z"
    },
    "papermill": {
     "duration": 0.050828,
     "end_time": "2023-12-01T20:02:17.551627",
     "exception": false,
     "start_time": "2023-12-01T20:02:17.500799",
     "status": "completed"
    },
    "tags": []
   },
   "outputs": [
    {
     "data": {
      "text/html": [
       "<div>\n",
       "<style scoped>\n",
       "    .dataframe tbody tr th:only-of-type {\n",
       "        vertical-align: middle;\n",
       "    }\n",
       "\n",
       "    .dataframe tbody tr th {\n",
       "        vertical-align: top;\n",
       "    }\n",
       "\n",
       "    .dataframe thead th {\n",
       "        text-align: right;\n",
       "    }\n",
       "</style>\n",
       "<table border=\"1\" class=\"dataframe\">\n",
       "  <thead>\n",
       "    <tr style=\"text-align: right;\">\n",
       "      <th></th>\n",
       "      <th>positive</th>\n",
       "      <th>negative</th>\n",
       "      <th>indecisive</th>\n",
       "      <th>score</th>\n",
       "      <th>y</th>\n",
       "      <th>sum</th>\n",
       "    </tr>\n",
       "  </thead>\n",
       "  <tbody>\n",
       "    <tr>\n",
       "      <th>count</th>\n",
       "      <td>2594.000000</td>\n",
       "      <td>2594.000000</td>\n",
       "      <td>2594.000000</td>\n",
       "      <td>2594.000000</td>\n",
       "      <td>2594.000000</td>\n",
       "      <td>2594.000000</td>\n",
       "    </tr>\n",
       "    <tr>\n",
       "      <th>mean</th>\n",
       "      <td>5.520432</td>\n",
       "      <td>5.919429</td>\n",
       "      <td>2.308019</td>\n",
       "      <td>-0.036421</td>\n",
       "      <td>0.038795</td>\n",
       "      <td>13.747880</td>\n",
       "    </tr>\n",
       "    <tr>\n",
       "      <th>std</th>\n",
       "      <td>2.963424</td>\n",
       "      <td>2.966854</td>\n",
       "      <td>1.823159</td>\n",
       "      <td>0.473590</td>\n",
       "      <td>0.064975</td>\n",
       "      <td>1.238462</td>\n",
       "    </tr>\n",
       "    <tr>\n",
       "      <th>min</th>\n",
       "      <td>0.000000</td>\n",
       "      <td>0.000000</td>\n",
       "      <td>0.000000</td>\n",
       "      <td>-1.000000</td>\n",
       "      <td>-0.234264</td>\n",
       "      <td>6.000000</td>\n",
       "    </tr>\n",
       "    <tr>\n",
       "      <th>25%</th>\n",
       "      <td>3.000000</td>\n",
       "      <td>4.000000</td>\n",
       "      <td>1.000000</td>\n",
       "      <td>-0.400000</td>\n",
       "      <td>0.003406</td>\n",
       "      <td>13.000000</td>\n",
       "    </tr>\n",
       "    <tr>\n",
       "      <th>50%</th>\n",
       "      <td>5.000000</td>\n",
       "      <td>6.000000</td>\n",
       "      <td>2.000000</td>\n",
       "      <td>0.000000</td>\n",
       "      <td>0.042638</td>\n",
       "      <td>14.000000</td>\n",
       "    </tr>\n",
       "    <tr>\n",
       "      <th>75%</th>\n",
       "      <td>8.000000</td>\n",
       "      <td>8.000000</td>\n",
       "      <td>3.000000</td>\n",
       "      <td>0.333333</td>\n",
       "      <td>0.081637</td>\n",
       "      <td>15.000000</td>\n",
       "    </tr>\n",
       "    <tr>\n",
       "      <th>max</th>\n",
       "      <td>14.000000</td>\n",
       "      <td>14.000000</td>\n",
       "      <td>10.000000</td>\n",
       "      <td>1.000000</td>\n",
       "      <td>0.254303</td>\n",
       "      <td>15.000000</td>\n",
       "    </tr>\n",
       "  </tbody>\n",
       "</table>\n",
       "</div>"
      ],
      "text/plain": [
       "          positive     negative   indecisive        score            y  \\\n",
       "count  2594.000000  2594.000000  2594.000000  2594.000000  2594.000000   \n",
       "mean      5.520432     5.919429     2.308019    -0.036421     0.038795   \n",
       "std       2.963424     2.966854     1.823159     0.473590     0.064975   \n",
       "min       0.000000     0.000000     0.000000    -1.000000    -0.234264   \n",
       "25%       3.000000     4.000000     1.000000    -0.400000     0.003406   \n",
       "50%       5.000000     6.000000     2.000000     0.000000     0.042638   \n",
       "75%       8.000000     8.000000     3.000000     0.333333     0.081637   \n",
       "max      14.000000    14.000000    10.000000     1.000000     0.254303   \n",
       "\n",
       "               sum  \n",
       "count  2594.000000  \n",
       "mean     13.747880  \n",
       "std       1.238462  \n",
       "min       6.000000  \n",
       "25%      13.000000  \n",
       "50%      14.000000  \n",
       "75%      15.000000  \n",
       "max      15.000000  "
      ]
     },
     "execution_count": 7,
     "metadata": {},
     "output_type": "execute_result"
    }
   ],
   "source": [
    "dataset.describe()"
   ]
  },
  {
   "cell_type": "markdown",
   "id": "76a53f0c",
   "metadata": {
    "papermill": {
     "duration": 0.011367,
     "end_time": "2023-12-01T20:02:17.574747",
     "exception": false,
     "start_time": "2023-12-01T20:02:17.563380",
     "status": "completed"
    },
    "tags": []
   },
   "source": [
    "# Prepare dataset"
   ]
  },
  {
   "cell_type": "markdown",
   "id": "24e37dcf",
   "metadata": {
    "papermill": {
     "duration": 0.011235,
     "end_time": "2023-12-01T20:02:17.597494",
     "exception": false,
     "start_time": "2023-12-01T20:02:17.586259",
     "status": "completed"
    },
    "tags": []
   },
   "source": [
    "#### Normalise each data point with the sum of positive, negative and indecisive"
   ]
  },
  {
   "cell_type": "code",
   "execution_count": 8,
   "id": "749e00c9",
   "metadata": {
    "execution": {
     "iopub.execute_input": "2023-12-01T20:02:17.623528Z",
     "iopub.status.busy": "2023-12-01T20:02:17.621400Z",
     "iopub.status.idle": "2023-12-01T20:02:17.634028Z",
     "shell.execute_reply": "2023-12-01T20:02:17.632712Z"
    },
    "papermill": {
     "duration": 0.028122,
     "end_time": "2023-12-01T20:02:17.636546",
     "exception": false,
     "start_time": "2023-12-01T20:02:17.608424",
     "status": "completed"
    },
    "tags": []
   },
   "outputs": [],
   "source": [
    "dataset['positive'] = dataset['positive'] / dataset['sum']\n",
    "dataset['negative'] = dataset['negative'] / dataset['sum']\n",
    "dataset['indecisive'] = dataset['indecisive'] / dataset['sum']"
   ]
  },
  {
   "cell_type": "markdown",
   "id": "18ca8f7d",
   "metadata": {
    "papermill": {
     "duration": 0.0162,
     "end_time": "2023-12-01T20:02:17.665116",
     "exception": false,
     "start_time": "2023-12-01T20:02:17.648916",
     "status": "completed"
    },
    "tags": []
   },
   "source": [
    "#### Create x and y datasets for training"
   ]
  },
  {
   "cell_type": "code",
   "execution_count": 9,
   "id": "da575bec",
   "metadata": {
    "execution": {
     "iopub.execute_input": "2023-12-01T20:02:17.699542Z",
     "iopub.status.busy": "2023-12-01T20:02:17.698301Z",
     "iopub.status.idle": "2023-12-01T20:02:17.706405Z",
     "shell.execute_reply": "2023-12-01T20:02:17.705331Z"
    },
    "papermill": {
     "duration": 0.028333,
     "end_time": "2023-12-01T20:02:17.709040",
     "exception": false,
     "start_time": "2023-12-01T20:02:17.680707",
     "status": "completed"
    },
    "tags": []
   },
   "outputs": [],
   "source": [
    "dataset_sum = dataset.pop('sum')\n",
    "y = dataset.pop('y')\n",
    "x = dataset\n",
    "dates = x.pop('Unnamed: 0')"
   ]
  },
  {
   "cell_type": "code",
   "execution_count": 10,
   "id": "342fd11e",
   "metadata": {
    "execution": {
     "iopub.execute_input": "2023-12-01T20:02:17.733801Z",
     "iopub.status.busy": "2023-12-01T20:02:17.733067Z",
     "iopub.status.idle": "2023-12-01T20:02:17.744496Z",
     "shell.execute_reply": "2023-12-01T20:02:17.743509Z"
    },
    "papermill": {
     "duration": 0.026629,
     "end_time": "2023-12-01T20:02:17.747029",
     "exception": false,
     "start_time": "2023-12-01T20:02:17.720400",
     "status": "completed"
    },
    "tags": []
   },
   "outputs": [
    {
     "data": {
      "text/html": [
       "<div>\n",
       "<style scoped>\n",
       "    .dataframe tbody tr th:only-of-type {\n",
       "        vertical-align: middle;\n",
       "    }\n",
       "\n",
       "    .dataframe tbody tr th {\n",
       "        vertical-align: top;\n",
       "    }\n",
       "\n",
       "    .dataframe thead th {\n",
       "        text-align: right;\n",
       "    }\n",
       "</style>\n",
       "<table border=\"1\" class=\"dataframe\">\n",
       "  <thead>\n",
       "    <tr style=\"text-align: right;\">\n",
       "      <th></th>\n",
       "      <th>positive</th>\n",
       "      <th>negative</th>\n",
       "      <th>indecisive</th>\n",
       "      <th>score</th>\n",
       "    </tr>\n",
       "  </thead>\n",
       "  <tbody>\n",
       "    <tr>\n",
       "      <th>0</th>\n",
       "      <td>0.785714</td>\n",
       "      <td>0.214286</td>\n",
       "      <td>0.000000</td>\n",
       "      <td>0.571429</td>\n",
       "    </tr>\n",
       "    <tr>\n",
       "      <th>1</th>\n",
       "      <td>0.400000</td>\n",
       "      <td>0.400000</td>\n",
       "      <td>0.200000</td>\n",
       "      <td>0.000000</td>\n",
       "    </tr>\n",
       "    <tr>\n",
       "      <th>2</th>\n",
       "      <td>0.636364</td>\n",
       "      <td>0.272727</td>\n",
       "      <td>0.090909</td>\n",
       "      <td>0.400000</td>\n",
       "    </tr>\n",
       "    <tr>\n",
       "      <th>3</th>\n",
       "      <td>0.642857</td>\n",
       "      <td>0.357143</td>\n",
       "      <td>0.000000</td>\n",
       "      <td>0.285714</td>\n",
       "    </tr>\n",
       "    <tr>\n",
       "      <th>4</th>\n",
       "      <td>0.583333</td>\n",
       "      <td>0.250000</td>\n",
       "      <td>0.166667</td>\n",
       "      <td>0.400000</td>\n",
       "    </tr>\n",
       "  </tbody>\n",
       "</table>\n",
       "</div>"
      ],
      "text/plain": [
       "   positive  negative  indecisive     score\n",
       "0  0.785714  0.214286    0.000000  0.571429\n",
       "1  0.400000  0.400000    0.200000  0.000000\n",
       "2  0.636364  0.272727    0.090909  0.400000\n",
       "3  0.642857  0.357143    0.000000  0.285714\n",
       "4  0.583333  0.250000    0.166667  0.400000"
      ]
     },
     "execution_count": 10,
     "metadata": {},
     "output_type": "execute_result"
    }
   ],
   "source": [
    "x.head()"
   ]
  },
  {
   "cell_type": "code",
   "execution_count": 11,
   "id": "fe87a73b",
   "metadata": {
    "execution": {
     "iopub.execute_input": "2023-12-01T20:02:17.773987Z",
     "iopub.status.busy": "2023-12-01T20:02:17.772859Z",
     "iopub.status.idle": "2023-12-01T20:02:17.783908Z",
     "shell.execute_reply": "2023-12-01T20:02:17.782638Z"
    },
    "papermill": {
     "duration": 0.027144,
     "end_time": "2023-12-01T20:02:17.786363",
     "exception": false,
     "start_time": "2023-12-01T20:02:17.759219",
     "status": "completed"
    },
    "tags": []
   },
   "outputs": [
    {
     "data": {
      "text/plain": [
       "0    0.043956\n",
       "1    0.042511\n",
       "2    0.041065\n",
       "3    0.034180\n",
       "4    0.049178\n",
       "Name: y, dtype: float64"
      ]
     },
     "execution_count": 11,
     "metadata": {},
     "output_type": "execute_result"
    }
   ],
   "source": [
    "y.head()"
   ]
  },
  {
   "cell_type": "markdown",
   "id": "9be191c5",
   "metadata": {
    "papermill": {
     "duration": 0.011309,
     "end_time": "2023-12-01T20:02:17.809351",
     "exception": false,
     "start_time": "2023-12-01T20:02:17.798042",
     "status": "completed"
    },
    "tags": []
   },
   "source": [
    "#### Repeat for test dataset"
   ]
  },
  {
   "cell_type": "code",
   "execution_count": 12,
   "id": "1c97b1fb",
   "metadata": {
    "execution": {
     "iopub.execute_input": "2023-12-01T20:02:17.834846Z",
     "iopub.status.busy": "2023-12-01T20:02:17.834086Z",
     "iopub.status.idle": "2023-12-01T20:02:17.845591Z",
     "shell.execute_reply": "2023-12-01T20:02:17.844356Z"
    },
    "papermill": {
     "duration": 0.027514,
     "end_time": "2023-12-01T20:02:17.848244",
     "exception": false,
     "start_time": "2023-12-01T20:02:17.820730",
     "status": "completed"
    },
    "tags": []
   },
   "outputs": [],
   "source": [
    "dates = test_dataset.pop('Unnamed: 0')\n",
    "\n",
    "test_dataset['sum'] = test_dataset['positive'] + test_dataset['negative'] + test_dataset['indecisive']\n",
    "\n",
    "test_dataset['positive'] = test_dataset['positive'] / test_dataset['sum']\n",
    "test_dataset['negative'] = test_dataset['negative'] / test_dataset['sum']\n",
    "test_dataset['indecisive'] = test_dataset['indecisive'] / test_dataset['sum']\n",
    "\n",
    "test_dataset_sum = test_dataset.pop('sum')"
   ]
  },
  {
   "cell_type": "code",
   "execution_count": 13,
   "id": "6358973b",
   "metadata": {
    "execution": {
     "iopub.execute_input": "2023-12-01T20:02:17.873248Z",
     "iopub.status.busy": "2023-12-01T20:02:17.872424Z",
     "iopub.status.idle": "2023-12-01T20:02:17.886057Z",
     "shell.execute_reply": "2023-12-01T20:02:17.885020Z"
    },
    "papermill": {
     "duration": 0.028787,
     "end_time": "2023-12-01T20:02:17.888537",
     "exception": false,
     "start_time": "2023-12-01T20:02:17.859750",
     "status": "completed"
    },
    "tags": []
   },
   "outputs": [
    {
     "data": {
      "text/html": [
       "<div>\n",
       "<style scoped>\n",
       "    .dataframe tbody tr th:only-of-type {\n",
       "        vertical-align: middle;\n",
       "    }\n",
       "\n",
       "    .dataframe tbody tr th {\n",
       "        vertical-align: top;\n",
       "    }\n",
       "\n",
       "    .dataframe thead th {\n",
       "        text-align: right;\n",
       "    }\n",
       "</style>\n",
       "<table border=\"1\" class=\"dataframe\">\n",
       "  <thead>\n",
       "    <tr style=\"text-align: right;\">\n",
       "      <th></th>\n",
       "      <th>positive</th>\n",
       "      <th>negative</th>\n",
       "      <th>indecisive</th>\n",
       "      <th>score</th>\n",
       "    </tr>\n",
       "  </thead>\n",
       "  <tbody>\n",
       "    <tr>\n",
       "      <th>0</th>\n",
       "      <td>0.583333</td>\n",
       "      <td>0.250000</td>\n",
       "      <td>0.166667</td>\n",
       "      <td>0.400000</td>\n",
       "    </tr>\n",
       "    <tr>\n",
       "      <th>1</th>\n",
       "      <td>0.071429</td>\n",
       "      <td>0.785714</td>\n",
       "      <td>0.142857</td>\n",
       "      <td>-0.833333</td>\n",
       "    </tr>\n",
       "    <tr>\n",
       "      <th>2</th>\n",
       "      <td>0.500000</td>\n",
       "      <td>0.357143</td>\n",
       "      <td>0.142857</td>\n",
       "      <td>0.166667</td>\n",
       "    </tr>\n",
       "    <tr>\n",
       "      <th>3</th>\n",
       "      <td>0.357143</td>\n",
       "      <td>0.428571</td>\n",
       "      <td>0.214286</td>\n",
       "      <td>-0.090909</td>\n",
       "    </tr>\n",
       "    <tr>\n",
       "      <th>4</th>\n",
       "      <td>0.642857</td>\n",
       "      <td>0.214286</td>\n",
       "      <td>0.142857</td>\n",
       "      <td>0.500000</td>\n",
       "    </tr>\n",
       "  </tbody>\n",
       "</table>\n",
       "</div>"
      ],
      "text/plain": [
       "   positive  negative  indecisive     score\n",
       "0  0.583333  0.250000    0.166667  0.400000\n",
       "1  0.071429  0.785714    0.142857 -0.833333\n",
       "2  0.500000  0.357143    0.142857  0.166667\n",
       "3  0.357143  0.428571    0.214286 -0.090909\n",
       "4  0.642857  0.214286    0.142857  0.500000"
      ]
     },
     "execution_count": 13,
     "metadata": {},
     "output_type": "execute_result"
    }
   ],
   "source": [
    "test_dataset.head()"
   ]
  },
  {
   "cell_type": "markdown",
   "id": "907dc8a7",
   "metadata": {
    "papermill": {
     "duration": 0.011189,
     "end_time": "2023-12-01T20:02:17.911389",
     "exception": false,
     "start_time": "2023-12-01T20:02:17.900200",
     "status": "completed"
    },
    "tags": []
   },
   "source": [
    "# Define RNN model"
   ]
  },
  {
   "cell_type": "code",
   "execution_count": 14,
   "id": "21dfc799",
   "metadata": {
    "execution": {
     "iopub.execute_input": "2023-12-01T20:02:17.936138Z",
     "iopub.status.busy": "2023-12-01T20:02:17.935680Z",
     "iopub.status.idle": "2023-12-01T20:02:18.836108Z",
     "shell.execute_reply": "2023-12-01T20:02:18.834808Z"
    },
    "papermill": {
     "duration": 0.916214,
     "end_time": "2023-12-01T20:02:18.839022",
     "exception": false,
     "start_time": "2023-12-01T20:02:17.922808",
     "status": "completed"
    },
    "tags": []
   },
   "outputs": [],
   "source": [
    "features = 1 # 1D data\n",
    "input_shape = x.shape[1]\n",
    "\n",
    "model = tf.keras.models.Sequential([\n",
    "    layers.LSTM(units=128, input_shape=(input_shape, features), return_sequences=True),\n",
    "    layers.LSTM(units=64, input_shape=(input_shape, features)),\n",
    "    layers.Dense(units=32, activation='relu'),\n",
    "    layers.Dense(units=16, activation='relu'),\n",
    "    layers.Dense(units=8, activation='relu'),\n",
    "    layers.Dense(units=4, activation='relu'),\n",
    "    layers.Dense(units=2, activation='relu'),\n",
    "    layers.Dense(units=1)\n",
    "])\n",
    "\n",
    "loss_function = tf.keras.losses.MeanSquaredError()\n",
    "optimiser = tf.keras.optimizers.Adam(learning_rate=0.0001) # changed lr from 0.001\n",
    "model.compile(loss = loss_function, optimizer=optimiser, metrics=['mae'])"
   ]
  },
  {
   "cell_type": "code",
   "execution_count": 15,
   "id": "331b4680",
   "metadata": {
    "execution": {
     "iopub.execute_input": "2023-12-01T20:02:18.865431Z",
     "iopub.status.busy": "2023-12-01T20:02:18.864968Z",
     "iopub.status.idle": "2023-12-01T20:02:18.903324Z",
     "shell.execute_reply": "2023-12-01T20:02:18.901952Z"
    },
    "papermill": {
     "duration": 0.054911,
     "end_time": "2023-12-01T20:02:18.906002",
     "exception": false,
     "start_time": "2023-12-01T20:02:18.851091",
     "status": "completed"
    },
    "tags": []
   },
   "outputs": [
    {
     "name": "stdout",
     "output_type": "stream",
     "text": [
      "Model: \"sequential\"\n",
      "_________________________________________________________________\n",
      " Layer (type)                Output Shape              Param #   \n",
      "=================================================================\n",
      " lstm (LSTM)                 (None, 4, 128)            66560     \n",
      "                                                                 \n",
      " lstm_1 (LSTM)               (None, 64)                49408     \n",
      "                                                                 \n",
      " dense (Dense)               (None, 32)                2080      \n",
      "                                                                 \n",
      " dense_1 (Dense)             (None, 16)                528       \n",
      "                                                                 \n",
      " dense_2 (Dense)             (None, 8)                 136       \n",
      "                                                                 \n",
      " dense_3 (Dense)             (None, 4)                 36        \n",
      "                                                                 \n",
      " dense_4 (Dense)             (None, 2)                 10        \n",
      "                                                                 \n",
      " dense_5 (Dense)             (None, 1)                 3         \n",
      "                                                                 \n",
      "=================================================================\n",
      "Total params: 118761 (463.91 KB)\n",
      "Trainable params: 118761 (463.91 KB)\n",
      "Non-trainable params: 0 (0.00 Byte)\n",
      "_________________________________________________________________\n"
     ]
    }
   ],
   "source": [
    "model.summary()"
   ]
  },
  {
   "cell_type": "code",
   "execution_count": 16,
   "id": "5b8ae788",
   "metadata": {
    "execution": {
     "iopub.execute_input": "2023-12-01T20:02:18.936397Z",
     "iopub.status.busy": "2023-12-01T20:02:18.935942Z",
     "iopub.status.idle": "2023-12-01T20:02:19.260538Z",
     "shell.execute_reply": "2023-12-01T20:02:19.259681Z"
    },
    "papermill": {
     "duration": 0.342623,
     "end_time": "2023-12-01T20:02:19.263128",
     "exception": false,
     "start_time": "2023-12-01T20:02:18.920505",
     "status": "completed"
    },
    "tags": []
   },
   "outputs": [
    {
     "data": {
      "image/png": "[encoded data removed]",
      "text/plain": [
       "<IPython.core.display.Image object>"
      ]
     },
     "execution_count": 16,
     "metadata": {},
     "output_type": "execute_result"
    }
   ],
   "source": [
    "tf.keras.utils.plot_model(model, show_shapes=True)"
   ]
  },
  {
   "cell_type": "markdown",
   "id": "b6c78214",
   "metadata": {
    "papermill": {
     "duration": 0.014774,
     "end_time": "2023-12-01T20:02:19.293215",
     "exception": false,
     "start_time": "2023-12-01T20:02:19.278441",
     "status": "completed"
    },
    "tags": []
   },
   "source": [
    "### Test dataset"
   ]
  },
  {
   "cell_type": "code",
   "execution_count": 17,
   "id": "866b86f4",
   "metadata": {
    "execution": {
     "iopub.execute_input": "2023-12-01T20:02:19.325288Z",
     "iopub.status.busy": "2023-12-01T20:02:19.324822Z",
     "iopub.status.idle": "2023-12-01T20:03:07.817139Z",
     "shell.execute_reply": "2023-12-01T20:03:07.816182Z"
    },
    "papermill": {
     "duration": 48.511521,
     "end_time": "2023-12-01T20:03:07.819969",
     "exception": false,
     "start_time": "2023-12-01T20:02:19.308448",
     "status": "completed"
    },
    "tags": []
   },
   "outputs": [
    {
     "name": "stdout",
     "output_type": "stream",
     "text": [
      "Epoch 1/50\n",
      "82/82 [==============================] - 6s 11ms/step - loss: 0.0052 - mae: 0.0586\n",
      "Epoch 2/50\n",
      "82/82 [==============================] - 1s 10ms/step - loss: 0.0045 - mae: 0.0525\n",
      "Epoch 3/50\n",
      "82/82 [==============================] - 1s 11ms/step - loss: 0.0042 - mae: 0.0502\n",
      "Epoch 4/50\n",
      "82/82 [==============================] - 1s 10ms/step - loss: 0.0042 - mae: 0.0502\n",
      "Epoch 5/50\n",
      "82/82 [==============================] - 1s 10ms/step - loss: 0.0042 - mae: 0.0501\n",
      "Epoch 6/50\n",
      "82/82 [==============================] - 1s 10ms/step - loss: 0.0042 - mae: 0.0502\n",
      "Epoch 7/50\n",
      "82/82 [==============================] - 1s 10ms/step - loss: 0.0042 - mae: 0.0501\n",
      "Epoch 8/50\n",
      "82/82 [==============================] - 1s 10ms/step - loss: 0.0042 - mae: 0.0502\n",
      "Epoch 9/50\n",
      "82/82 [==============================] - 1s 11ms/step - loss: 0.0042 - mae: 0.0501\n",
      "Epoch 10/50\n",
      "82/82 [==============================] - 1s 10ms/step - loss: 0.0042 - mae: 0.0501\n",
      "Epoch 11/50\n",
      "82/82 [==============================] - 1s 10ms/step - loss: 0.0042 - mae: 0.0501\n",
      "Epoch 12/50\n",
      "82/82 [==============================] - 1s 10ms/step - loss: 0.0042 - mae: 0.0501\n",
      "Epoch 13/50\n",
      "82/82 [==============================] - 1s 10ms/step - loss: 0.0042 - mae: 0.0501\n",
      "Epoch 14/50\n",
      "82/82 [==============================] - 1s 10ms/step - loss: 0.0042 - mae: 0.0501\n",
      "Epoch 15/50\n",
      "82/82 [==============================] - 1s 11ms/step - loss: 0.0042 - mae: 0.0501\n",
      "Epoch 16/50\n",
      "82/82 [==============================] - 1s 10ms/step - loss: 0.0042 - mae: 0.0502\n",
      "Epoch 17/50\n",
      "82/82 [==============================] - 1s 10ms/step - loss: 0.0042 - mae: 0.0501\n",
      "Epoch 18/50\n",
      "82/82 [==============================] - 1s 10ms/step - loss: 0.0042 - mae: 0.0501\n",
      "Epoch 19/50\n",
      "82/82 [==============================] - 1s 10ms/step - loss: 0.0042 - mae: 0.0501\n",
      "Epoch 20/50\n",
      "82/82 [==============================] - 1s 11ms/step - loss: 0.0042 - mae: 0.0501\n",
      "Epoch 21/50\n",
      "82/82 [==============================] - 1s 10ms/step - loss: 0.0042 - mae: 0.0500\n",
      "Epoch 22/50\n",
      "82/82 [==============================] - 1s 10ms/step - loss: 0.0042 - mae: 0.0501\n",
      "Epoch 23/50\n",
      "82/82 [==============================] - 1s 10ms/step - loss: 0.0042 - mae: 0.0501\n",
      "Epoch 24/50\n",
      "82/82 [==============================] - 1s 10ms/step - loss: 0.0042 - mae: 0.0502\n",
      "Epoch 25/50\n",
      "82/82 [==============================] - 1s 10ms/step - loss: 0.0042 - mae: 0.0501\n",
      "Epoch 26/50\n",
      "82/82 [==============================] - 1s 10ms/step - loss: 0.0042 - mae: 0.0501\n",
      "Epoch 27/50\n",
      "82/82 [==============================] - 1s 11ms/step - loss: 0.0042 - mae: 0.0500\n",
      "Epoch 28/50\n",
      "82/82 [==============================] - 1s 10ms/step - loss: 0.0042 - mae: 0.0502\n",
      "Epoch 29/50\n",
      "82/82 [==============================] - 1s 10ms/step - loss: 0.0042 - mae: 0.0501\n",
      "Epoch 30/50\n",
      "82/82 [==============================] - 1s 10ms/step - loss: 0.0042 - mae: 0.0501\n",
      "Epoch 31/50\n",
      "82/82 [==============================] - 1s 10ms/step - loss: 0.0042 - mae: 0.0500\n",
      "Epoch 32/50\n",
      "82/82 [==============================] - 1s 10ms/step - loss: 0.0042 - mae: 0.0501\n",
      "Epoch 33/50\n",
      "82/82 [==============================] - 1s 10ms/step - loss: 0.0042 - mae: 0.0501\n",
      "Epoch 34/50\n",
      "82/82 [==============================] - 1s 11ms/step - loss: 0.0042 - mae: 0.0502\n",
      "Epoch 35/50\n",
      "82/82 [==============================] - 1s 12ms/step - loss: 0.0042 - mae: 0.0500\n",
      "Epoch 36/50\n",
      "82/82 [==============================] - 1s 11ms/step - loss: 0.0042 - mae: 0.0501\n",
      "Epoch 37/50\n",
      "82/82 [==============================] - 1s 10ms/step - loss: 0.0042 - mae: 0.0501\n",
      "Epoch 38/50\n",
      "82/82 [==============================] - 1s 10ms/step - loss: 0.0042 - mae: 0.0501\n",
      "Epoch 39/50\n",
      "82/82 [==============================] - 1s 11ms/step - loss: 0.0042 - mae: 0.0500\n",
      "Epoch 40/50\n",
      "82/82 [==============================] - 1s 10ms/step - loss: 0.0042 - mae: 0.0501\n",
      "Epoch 41/50\n",
      "82/82 [==============================] - 1s 10ms/step - loss: 0.0042 - mae: 0.0502\n",
      "Epoch 42/50\n",
      "82/82 [==============================] - 1s 10ms/step - loss: 0.0042 - mae: 0.0500\n",
      "Epoch 43/50\n",
      "82/82 [==============================] - 1s 10ms/step - loss: 0.0042 - mae: 0.0500\n",
      "Epoch 44/50\n",
      "82/82 [==============================] - 1s 10ms/step - loss: 0.0042 - mae: 0.0501\n",
      "Epoch 45/50\n",
      "82/82 [==============================] - 1s 11ms/step - loss: 0.0042 - mae: 0.0501\n",
      "Epoch 46/50\n",
      "82/82 [==============================] - 1s 10ms/step - loss: 0.0042 - mae: 0.0501\n",
      "Epoch 47/50\n",
      "82/82 [==============================] - 1s 11ms/step - loss: 0.0042 - mae: 0.0500\n",
      "Epoch 48/50\n",
      "82/82 [==============================] - 1s 10ms/step - loss: 0.0042 - mae: 0.0501\n",
      "Epoch 49/50\n",
      "82/82 [==============================] - 1s 10ms/step - loss: 0.0042 - mae: 0.0501\n",
      "Epoch 50/50\n",
      "82/82 [==============================] - 1s 11ms/step - loss: 0.0042 - mae: 0.0500\n"
     ]
    },
    {
     "data": {
      "text/plain": [
       "<keras.src.callbacks.History at 0x7eb35033b460>"
      ]
     },
     "execution_count": 17,
     "metadata": {},
     "output_type": "execute_result"
    }
   ],
   "source": [
    "model.fit(x, y, epochs=50, batch_size=32)"
   ]
  },
  {
   "cell_type": "markdown",
   "id": "9ad5b38e",
   "metadata": {
    "papermill": {
     "duration": 0.098697,
     "end_time": "2023-12-01T20:03:08.019997",
     "exception": false,
     "start_time": "2023-12-01T20:03:07.921300",
     "status": "completed"
    },
    "tags": []
   },
   "source": [
    "# Generate submission"
   ]
  },
  {
   "cell_type": "code",
   "execution_count": 18,
   "id": "bffd9dfe",
   "metadata": {
    "execution": {
     "iopub.execute_input": "2023-12-01T20:03:08.223910Z",
     "iopub.status.busy": "2023-12-01T20:03:08.223472Z",
     "iopub.status.idle": "2023-12-01T20:03:09.382630Z",
     "shell.execute_reply": "2023-12-01T20:03:09.381521Z"
    },
    "papermill": {
     "duration": 1.262443,
     "end_time": "2023-12-01T20:03:09.385513",
     "exception": false,
     "start_time": "2023-12-01T20:03:08.123070",
     "status": "completed"
    },
    "tags": []
   },
   "outputs": [
    {
     "name": "stdout",
     "output_type": "stream",
     "text": [
      "30/30 [==============================] - 1s 4ms/step\n"
     ]
    }
   ],
   "source": [
    "predictions = model.predict(test_dataset)"
   ]
  },
  {
   "cell_type": "markdown",
   "id": "d7a6e0ab",
   "metadata": {
    "papermill": {
     "duration": 0.100165,
     "end_time": "2023-12-01T20:03:09.585314",
     "exception": false,
     "start_time": "2023-12-01T20:03:09.485149",
     "status": "completed"
    },
    "tags": []
   },
   "source": [
    "#### Submission only need dates and y columns"
   ]
  },
  {
   "cell_type": "code",
   "execution_count": 19,
   "id": "c67fa376",
   "metadata": {
    "execution": {
     "iopub.execute_input": "2023-12-01T20:03:09.787124Z",
     "iopub.status.busy": "2023-12-01T20:03:09.786672Z",
     "iopub.status.idle": "2023-12-01T20:03:09.795264Z",
     "shell.execute_reply": "2023-12-01T20:03:09.794307Z"
    },
    "papermill": {
     "duration": 0.113436,
     "end_time": "2023-12-01T20:03:09.797861",
     "exception": false,
     "start_time": "2023-12-01T20:03:09.684425",
     "status": "completed"
    },
    "tags": []
   },
   "outputs": [],
   "source": [
    "submission = pd.DataFrame()\n",
    "submission['date'] = dates\n",
    "submission['y'] = predictions"
   ]
  },
  {
   "cell_type": "code",
   "execution_count": 20,
   "id": "47de4784",
   "metadata": {
    "execution": {
     "iopub.execute_input": "2023-12-01T20:03:10.003861Z",
     "iopub.status.busy": "2023-12-01T20:03:10.002788Z",
     "iopub.status.idle": "2023-12-01T20:03:10.013628Z",
     "shell.execute_reply": "2023-12-01T20:03:10.012824Z"
    },
    "papermill": {
     "duration": 0.115134,
     "end_time": "2023-12-01T20:03:10.015880",
     "exception": false,
     "start_time": "2023-12-01T20:03:09.900746",
     "status": "completed"
    },
    "tags": []
   },
   "outputs": [
    {
     "data": {
      "text/html": [
       "<div>\n",
       "<style scoped>\n",
       "    .dataframe tbody tr th:only-of-type {\n",
       "        vertical-align: middle;\n",
       "    }\n",
       "\n",
       "    .dataframe tbody tr th {\n",
       "        vertical-align: top;\n",
       "    }\n",
       "\n",
       "    .dataframe thead th {\n",
       "        text-align: right;\n",
       "    }\n",
       "</style>\n",
       "<table border=\"1\" class=\"dataframe\">\n",
       "  <thead>\n",
       "    <tr style=\"text-align: right;\">\n",
       "      <th></th>\n",
       "      <th>date</th>\n",
       "      <th>y</th>\n",
       "    </tr>\n",
       "  </thead>\n",
       "  <tbody>\n",
       "    <tr>\n",
       "      <th>0</th>\n",
       "      <td>2020-01-02</td>\n",
       "      <td>0.037865</td>\n",
       "    </tr>\n",
       "    <tr>\n",
       "      <th>1</th>\n",
       "      <td>2020-01-03</td>\n",
       "      <td>0.038792</td>\n",
       "    </tr>\n",
       "    <tr>\n",
       "      <th>2</th>\n",
       "      <td>2020-01-06</td>\n",
       "      <td>0.038066</td>\n",
       "    </tr>\n",
       "    <tr>\n",
       "      <th>3</th>\n",
       "      <td>2020-01-07</td>\n",
       "      <td>0.038167</td>\n",
       "    </tr>\n",
       "    <tr>\n",
       "      <th>4</th>\n",
       "      <td>2020-01-08</td>\n",
       "      <td>0.037827</td>\n",
       "    </tr>\n",
       "  </tbody>\n",
       "</table>\n",
       "</div>"
      ],
      "text/plain": [
       "         date         y\n",
       "0  2020-01-02  0.037865\n",
       "1  2020-01-03  0.038792\n",
       "2  2020-01-06  0.038066\n",
       "3  2020-01-07  0.038167\n",
       "4  2020-01-08  0.037827"
      ]
     },
     "execution_count": 20,
     "metadata": {},
     "output_type": "execute_result"
    }
   ],
   "source": [
    "submission.head()"
   ]
  },
  {
   "cell_type": "code",
   "execution_count": 21,
   "id": "1181722c",
   "metadata": {
    "execution": {
     "iopub.execute_input": "2023-12-01T20:03:10.218738Z",
     "iopub.status.busy": "2023-12-01T20:03:10.217922Z",
     "iopub.status.idle": "2023-12-01T20:03:10.232142Z",
     "shell.execute_reply": "2023-12-01T20:03:10.230941Z"
    },
    "papermill": {
     "duration": 0.117647,
     "end_time": "2023-12-01T20:03:10.234677",
     "exception": false,
     "start_time": "2023-12-01T20:03:10.117030",
     "status": "completed"
    },
    "tags": []
   },
   "outputs": [
    {
     "data": {
      "text/html": [
       "<div>\n",
       "<style scoped>\n",
       "    .dataframe tbody tr th:only-of-type {\n",
       "        vertical-align: middle;\n",
       "    }\n",
       "\n",
       "    .dataframe tbody tr th {\n",
       "        vertical-align: top;\n",
       "    }\n",
       "\n",
       "    .dataframe thead th {\n",
       "        text-align: right;\n",
       "    }\n",
       "</style>\n",
       "<table border=\"1\" class=\"dataframe\">\n",
       "  <thead>\n",
       "    <tr style=\"text-align: right;\">\n",
       "      <th></th>\n",
       "      <th>y</th>\n",
       "    </tr>\n",
       "  </thead>\n",
       "  <tbody>\n",
       "    <tr>\n",
       "      <th>count</th>\n",
       "      <td>957.000000</td>\n",
       "    </tr>\n",
       "    <tr>\n",
       "      <th>mean</th>\n",
       "      <td>0.038188</td>\n",
       "    </tr>\n",
       "    <tr>\n",
       "      <th>std</th>\n",
       "      <td>0.000401</td>\n",
       "    </tr>\n",
       "    <tr>\n",
       "      <th>min</th>\n",
       "      <td>0.037028</td>\n",
       "    </tr>\n",
       "    <tr>\n",
       "      <th>25%</th>\n",
       "      <td>0.037894</td>\n",
       "    </tr>\n",
       "    <tr>\n",
       "      <th>50%</th>\n",
       "      <td>0.038225</td>\n",
       "    </tr>\n",
       "    <tr>\n",
       "      <th>75%</th>\n",
       "      <td>0.038494</td>\n",
       "    </tr>\n",
       "    <tr>\n",
       "      <th>max</th>\n",
       "      <td>0.039030</td>\n",
       "    </tr>\n",
       "  </tbody>\n",
       "</table>\n",
       "</div>"
      ],
      "text/plain": [
       "                y\n",
       "count  957.000000\n",
       "mean     0.038188\n",
       "std      0.000401\n",
       "min      0.037028\n",
       "25%      0.037894\n",
       "50%      0.038225\n",
       "75%      0.038494\n",
       "max      0.039030"
      ]
     },
     "execution_count": 21,
     "metadata": {},
     "output_type": "execute_result"
    }
   ],
   "source": [
    "submission.describe()"
   ]
  },
  {
   "cell_type": "code",
   "execution_count": 22,
   "id": "2e84757a",
   "metadata": {
    "execution": {
     "iopub.execute_input": "2023-12-01T20:03:10.436333Z",
     "iopub.status.busy": "2023-12-01T20:03:10.435823Z",
     "iopub.status.idle": "2023-12-01T20:03:10.448948Z",
     "shell.execute_reply": "2023-12-01T20:03:10.447697Z"
    },
    "papermill": {
     "duration": 0.117483,
     "end_time": "2023-12-01T20:03:10.451766",
     "exception": false,
     "start_time": "2023-12-01T20:03:10.334283",
     "status": "completed"
    },
    "tags": []
   },
   "outputs": [],
   "source": [
    "submission.to_csv('/kaggle/working/submission.csv',index=False,header=True)"
   ]
  }
 ],
 "metadata": {
  "kaggle": {
   "accelerator": "none",
   "dataSources": [
    {
     "databundleVersionId": 7177891,
     "sourceId": 65279,
     "sourceType": "competition"
    }
   ],
   "dockerImageVersionId": 30587,
   "isGpuEnabled": false,
   "isInternetEnabled": true,
   "language": "python",
   "sourceType": "notebook"
  },
  "kernelspec": {
   "display_name": "Python 3",
   "language": "python",
   "name": "python3"
  },
  "language_info": {
   "codemirror_mode": {
    "name": "ipython",
    "version": 3
   },
   "file_extension": ".py",
   "mimetype": "text/x-python",
   "name": "python",
   "nbconvert_exporter": "python",
   "pygments_lexer": "ipython3",
   "version": "3.10.12"
  },
  "papermill": {
   "default_parameters": {},
   "duration": 74.566499,
   "end_time": "2023-12-01T20:03:12.861611",
   "environment_variables": {},
   "exception": null,
   "input_path": "__notebook__.ipynb",
   "output_path": "__notebook__.ipynb",
   "parameters": {},
   "start_time": "2023-12-01T20:01:58.295112",
   "version": "2.4.0"
  }
 },
 "nbformat": 4,
 "nbformat_minor": 5
}
